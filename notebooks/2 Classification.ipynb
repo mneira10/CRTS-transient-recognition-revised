{
 "cells": [
  {
   "cell_type": "code",
   "execution_count": 55,
   "metadata": {},
   "outputs": [],
   "source": [
    "from sklearn.ensemble import RandomForestClassifier\n",
    "import sklearn.metrics\n",
    "import pandas as pd\n",
    "import numpy as np\n",
    "np.random.seed(0)\n",
    "from sklearn.model_selection import GridSearchCV, StratifiedKFold  # , cross_val_score\n",
    "from sklearn.metrics import make_scorer, accuracy_score, precision_score, recall_score, f1_score, precision_recall_fscore_support, confusion_matrix  # , classification_report\n",
    "from sklearn.model_selection import train_test_split\n",
    "\n",
    "from sklearn.metrics import precision_recall_curve\n",
    "import matplotlib.pyplot as plt\n",
    "from sklearn.metrics import average_precision_score\n",
    "from scipy import integrate\n",
    "from sklearn.metrics import recall_score\n",
    "from sklearn.metrics import precision_recall_fscore_support,make_scorer\n",
    "from sklearn.metrics import confusion_matrix"
   ]
  },
  {
   "cell_type": "code",
   "execution_count": 56,
   "metadata": {},
   "outputs": [],
   "source": [
    "DATA_PATH = '../data/features/'\n",
    "\n",
    "tran = pd.read_csv(DATA_PATH + \"T.csv\")\n",
    "tran = tran.set_index(['ID', 'copy_num'])\n",
    "\n",
    "ntran = pd.read_csv(DATA_PATH + \"NT.csv\")\n",
    "ntran = ntran.set_index(['ID', 'copy_num'])\n"
   ]
  },
  {
   "cell_type": "code",
   "execution_count": 57,
   "metadata": {},
   "outputs": [
    {
     "data": {
      "text/plain": [
       "array([5.35053736e+05, 3.50093712e+06, 1.71295886e+10, ...,\n",
       "       1.16784575e+06, 4.41703118e+05, 2.58099522e+05])"
      ]
     },
     "execution_count": 57,
     "metadata": {},
     "output_type": "execute_result"
    }
   ],
   "source": [
    "ntran.chi2sGauss.unique()"
   ]
  },
  {
   "cell_type": "code",
   "execution_count": 58,
   "metadata": {},
   "outputs": [
    {
     "name": "stdout",
     "output_type": "stream",
     "text": [
      "Total amout of obects (oversampled):     62152\n",
      "Total amout of obects (not oversampled): 19462\n"
     ]
    }
   ],
   "source": [
    "print(\"Total amout of obects (oversampled):     {}\".format(tran.shape[0]+ntran.shape[0]))\n",
    "print(\"Total amout of obects (not oversampled): {}\".format(tran[tran.index.get_level_values(\"copy_num\")==0].shape[0]+ntran.shape[0]))"
   ]
  },
  {
   "cell_type": "code",
   "execution_count": 59,
   "metadata": {},
   "outputs": [
    {
     "name": "stdout",
     "output_type": "stream",
     "text": [
      "Total number of features: 32\n",
      "\n",
      "The features are:\n",
      "    1. skew\n",
      "    2. std\n",
      "    3. kurtosis\n",
      "    4. beyond1st\n",
      "    5. stetson_j\n",
      "    6. stetson_k\n",
      "    7. max_slope\n",
      "    8. amplitude\n",
      "    9. median_absolute_deviation\n",
      "    10. median_buffer_range_percentage\n",
      "    11. pair_slope_trend\n",
      "    12. percent_amplitude\n",
      "    13. percent_difference_flux_percentile\n",
      "    14. flux_percentile_ratio_mid20\n",
      "    15. flux_percentile_ratio_mid35\n",
      "    16. flux_percentile_ratio_mid50\n",
      "    17. flux_percentile_ratio_mid65\n",
      "    18. flux_percentile_ratio_mid80\n",
      "    19. small_kurtosis\n",
      "    20. pair_slope_trend_last_30\n",
      "    21. poly1_t1\n",
      "    22. poly2_t2\n",
      "    23. poly2_t1\n",
      "    24. poly3_t3\n",
      "    25. poly3_t2\n",
      "    26. poly3_t1\n",
      "    27. poly4_t4\n",
      "    28. poly4_t3\n",
      "    29. poly4_t2\n",
      "    30. poly4_t1\n",
      "    31. chi2SALT2\n",
      "    32. chi2sGauss\n"
     ]
    }
   ],
   "source": [
    "feats = np.array(tran.columns[:-2])\n",
    "print(\"Total number of features: {}\".format(len(feats)))\n",
    "print()\n",
    "print(\"The features are:\")\n",
    "for i,f in enumerate(feats):\n",
    "    print(\"    \"+str(i+1)+\". \" + f)\n"
   ]
  },
  {
   "cell_type": "code",
   "execution_count": 60,
   "metadata": {},
   "outputs": [],
   "source": [
    "alldf = pd.concat([tran,ntran])"
   ]
  },
  {
   "cell_type": "markdown",
   "metadata": {},
   "source": [
    "# Binary Classification \n",
    "Transients and non-transients "
   ]
  },
  {
   "cell_type": "code",
   "execution_count": 61,
   "metadata": {},
   "outputs": [],
   "source": [
    "def splitTrainTest(dataframe):\n",
    "    #create output dataframes\n",
    "    test = pd.DataFrame(columns = [\"ID\",\"copy_num\"]+list(dataframe.columns))\n",
    "    test = test.set_index([\"ID\",\"copy_num\"])\n",
    "\n",
    "    train = pd.DataFrame(columns = [\"ID\",\"copy_num\"]+list(dataframe.columns))\n",
    "    train = train.set_index([\"ID\",\"copy_num\"])\n",
    "    \n",
    "    for uClass in dataframe.Class.unique():\n",
    "        #get each class \n",
    "        classDf = dataframe[dataframe.Class == uClass]\n",
    "        \n",
    "        #unique ids\n",
    "        ids = classDf.index.get_level_values('ID').unique()\n",
    "\n",
    "        # randomly choose 25% of indices \n",
    "\n",
    "        testInd = np.random.choice(ids, int(0.25*len(ids)),replace=False)\n",
    "\n",
    "        #get dataframes\n",
    "        test = pd.concat([test,classDf[classDf.index.get_level_values('ID').isin(testInd)]])\n",
    "        \n",
    "        train = pd.concat([train,classDf[~classDf.index.get_level_values('ID').isin(testInd)]])\n",
    "\n",
    "    return train,test\n"
   ]
  },
  {
   "cell_type": "code",
   "execution_count": 62,
   "metadata": {},
   "outputs": [],
   "source": [
    "def balance(df):\n",
    "    #start min at infinity \n",
    "    minNum = np.inf\n",
    "    \n",
    "    #find the class with the minimum amount of candidates\n",
    "    for classElem in df.Class.unique():\n",
    "        numElems = len(df[df.Class==classElem])\n",
    "        if(numElems<minNum):\n",
    "            minNum=numElems\n",
    "    \n",
    "    #create output dataframe\n",
    "    ans = pd.DataFrame(columns = [\"ID\",\"copy_num\"]+list(df.columns))\n",
    "    ans = ans.set_index([\"ID\",\"copy_num\"])\n",
    "    \n",
    "    #get a sample from all the classes \n",
    "    for classElem in df.Class.unique():\n",
    "        ans = pd.concat([ans,df[df.Class==classElem].sample(n=minNum)])\n",
    "        \n",
    "    return ans"
   ]
  },
  {
   "cell_type": "code",
   "execution_count": 63,
   "metadata": {},
   "outputs": [],
   "source": [
    "#hypermarameters that gridsearch will optimize\n",
    "def rf():\n",
    "    params = {\n",
    "        'n_estimators': [200, 700],\n",
    "        'max_features': ['auto', 'sqrt', 'log2']\n",
    "    }\n",
    "    return RandomForestClassifier(random_state=0, class_weight='balanced'), params\n",
    "\n",
    "#metrics to be analized\n",
    "def scorers():\n",
    "    scoring = {'accuracy': make_scorer(accuracy_score),\n",
    "               'precision': make_scorer(precision_score, average='weighted'),\n",
    "               'recall': make_scorer(recall_score, average='weighted'),\n",
    "               'f1_score': make_scorer(f1_score, average='weighted')\n",
    "               }\n",
    "    return scoring"
   ]
  },
  {
   "cell_type": "code",
   "execution_count": 71,
   "metadata": {},
   "outputs": [],
   "source": [
    "#copy and shuffle the data\n",
    "oversampling = alldf.copy()\n",
    "oversampling = oversampling.sample(frac=1)\n",
    "\n",
    "#map all objects that are not non-transient to transient\n",
    "oversampling.Class = list(map(lambda x: 'SN' if x=='SN' else 'NSN', oversampling.Class))\n",
    "#map transient and non-transient to binary values\n",
    "oversampling['target'] = list(map(lambda x: 1 if x=='SN' else 0, oversampling.Class))"
   ]
  },
  {
   "cell_type": "code",
   "execution_count": 72,
   "metadata": {},
   "outputs": [],
   "source": [
    "recall_scores = []\n",
    "\n",
    "    \n",
    "#split train test class by class\n",
    "all_train,all_test = splitTrainTest(oversampling)\n",
    "\n",
    "#balance the train set\n",
    "all_train= balance(all_train)\n",
    "\n",
    "#train indices\n",
    "trainIdx = all_train.index.get_level_values(\"ID\").unique()\n",
    "\n",
    "#remove originals that have oversampled copies in train\n",
    "all_test = all_test[~all_test.index.get_level_values(\"ID\").isin(trainIdx)]\n",
    "\n",
    "#remove oversampled data from test set\n",
    "all_test = all_test[all_test.index.get_level_values('copy_num') ==0 ]\n",
    "\n",
    "\n",
    "#format target variable to appropriate data type\n",
    "all_train.target= all_train.target.astype('int')\n",
    "all_test.target= all_test.target.astype('int')\n",
    "\n",
    "print(\"SN in test set:\")\n",
    "print(len(all_test[all_test.Class=='SN']))\n",
    "print(\"NSN in test set:\")\n",
    "print(len(all_test[all_test.Class!='SN']))\n",
    "\n",
    "#learning \n",
    "model,params = rf()\n",
    "grid_search = GridSearchCV(model, params, cv=StratifiedKFold(2), scoring=scorers(),\n",
    "                           refit='f1_score', return_train_score=True,verbose=100)\n",
    "grid_search.fit(all_train[feats], all_train.target)\n",
    "\n",
    "# Copy classifier \n",
    "clf = grid_search\n",
    "\n",
    "#see performance on test set\n",
    "scores = precision_recall_fscore_support(\n",
    "        all_test.target, clf.predict(all_test[feats]), average='weighted')\n",
    "recall_scores.append(scores)"
   ]
  },
  {
   "cell_type": "code",
   "execution_count": 75,
   "metadata": {},
   "outputs": [
    {
     "name": "stdout",
     "output_type": "stream",
     "text": [
      "Precision: 0.9362\n",
      "Recall:    0.9001\n",
      "F-score:   0.9139\n"
     ]
    }
   ],
   "source": [
    "recall_scoresnp = np.array(recall_scores)\n",
    "\n",
    "print(\"Precision: {:.4f}\".format(np.mean(recall_scoresnp[:,0])))\n",
    "print(\"Recall:    {:.4f}\".format(np.mean(recall_scoresnp[:,1])))\n",
    "print(\"F-score:   {:.4f}\".format(np.mean(recall_scoresnp[:,2])))"
   ]
  },
  {
   "cell_type": "code",
   "execution_count": 76,
   "metadata": {},
   "outputs": [
    {
     "name": "stdout",
     "output_type": "stream",
     "text": [
      "['skew' 'std' 'kurtosis' 'beyond1st' 'stetson_j' 'stetson_k' 'max_slope'\n",
      " 'amplitude' 'median_absolute_deviation' 'median_buffer_range_percentage'\n",
      " 'pair_slope_trend' 'percent_amplitude'\n",
      " 'percent_difference_flux_percentile' 'flux_percentile_ratio_mid20'\n",
      " 'flux_percentile_ratio_mid35' 'flux_percentile_ratio_mid50'\n",
      " 'flux_percentile_ratio_mid65' 'flux_percentile_ratio_mid80'\n",
      " 'small_kurtosis' 'pair_slope_trend_last_30' 'poly1_t1' 'poly2_t2'\n",
      " 'poly2_t1' 'poly3_t3' 'poly3_t2' 'poly3_t1' 'poly4_t4' 'poly4_t3'\n",
      " 'poly4_t2' 'poly4_t1' 'chi2SALT2' 'chi2sGauss']\n",
      "['chi2sGauss', 'small_kurtosis', 'poly2_t1', 'std', 'median_absolute_deviation', 'stetson_j', 'poly1_t1', 'poly3_t1', 'poly4_t1', 'amplitude', 'percent_amplitude', 'percent_difference_flux_percentile', 'stetson_k', 'skew', 'max_slope', 'pair_slope_trend_last_30', 'median_buffer_range_percentage', 'poly4_t2', 'kurtosis', 'poly3_t2', 'flux_percentile_ratio_mid65', 'poly2_t2', 'flux_percentile_ratio_mid50', 'flux_percentile_ratio_mid35', 'beyond1st', 'flux_percentile_ratio_mid80', 'flux_percentile_ratio_mid20', 'pair_slope_trend', 'poly4_t3', 'poly3_t3', 'poly4_t4', 'chi2SALT2']\n"
     ]
    }
   ],
   "source": [
    "#calculate feature importance in descending order\n",
    "importances = clf.best_estimator_.feature_importances_*100\n",
    "featsCopy = feats.copy()\n",
    "print(featsCopy)\n",
    "Y = list(importances)\n",
    "X = list(featsCopy)\n",
    "\n",
    "yx = list(zip(Y, X))\n",
    "yx.sort()\n",
    "\n",
    "yx = yx[::-1]\n",
    "\n",
    "x_sorted = [x for y, x in yx]\n",
    "y_sorted = [y for y, x in yx]\n",
    "print(x_sorted)"
   ]
  },
  {
   "cell_type": "code",
   "execution_count": 77,
   "metadata": {},
   "outputs": [],
   "source": [
    " def shorten(x):\n",
    "    return {\n",
    "      'stetson_j':'stetson_j',\n",
    "      'std':'std',\n",
    "      'median_absolute_deviation':'mad',\n",
    "      'amplitude':'amp',\n",
    "      'poly1_t1':'poly2_t1',\n",
    "      'poly2_t1':'poly1_t1',\n",
    "      'skew':'skew',\n",
    "      'poly3_t1':'poly3_t1',\n",
    "      'small_kurtosis':'sk',\n",
    "      'stetson_k':'stetson_k',\n",
    "      'median_buffer_range_percentage':'mbrp',\n",
    "      'percent_amplitude': 'p_amp',\n",
    "      'percent_difference_flux_percentile':'pdfp',\n",
    "      'poly4_t1':'poly4_t1',\n",
    "      'poly3_t2':'poly3_t2',\n",
    "      'poly4_t2':'poly4_t2',\n",
    "      'max_slope':'max_slope',\n",
    "      'kurtosis':'kurtosis',\n",
    "      'pair_slope_trend':'pst',\n",
    "      'poly2_t2':'poly2_t2',\n",
    "      'beyond1st':'beyond1st',\n",
    "      'flux_percentile_ratio_mid35':'fpr35',\n",
    "      'flux_percentile_ratio_mid50':'fpr50',\n",
    "      'flux_percentile_ratio_mid65':'fpr65',\n",
    "      'flux_percentile_ratio_mid20':'fpr20',\n",
    "      'flux_percentile_ratio_mid80':'fpr80',\n",
    "      'pair_slope_trend_last_30':'pst_last30',\n",
    "      'poly3_t3':'poly3_t3',\n",
    "      'poly4_t3':'poly4_t3',\n",
    "      'poly4_t4':'poly4_t4', \n",
    "      'chi2sGauss':'chi2sGauss',\n",
    "      'chi2SALT2':'chi2SALT2'\n",
    "      }[x]"
   ]
  },
  {
   "cell_type": "code",
   "execution_count": 78,
   "metadata": {},
   "outputs": [],
   "source": [
    "#shorten name length\n",
    "for i,x in enumerate(x_sorted):\n",
    "    x_sorted[i]=shorten(x)"
   ]
  },
  {
   "cell_type": "code",
   "execution_count": 79,
   "metadata": {},
   "outputs": [
    {
     "name": "stderr",
     "output_type": "stream",
     "text": [
      "/home/mauro/anaconda3/lib/python3.6/site-packages/matplotlib/font_manager.py:1328: UserWarning: findfont: Font family ['Times New Roman'] not found. Falling back to DejaVu Sans\n",
      "  (prop.get_family(), self.defaultFamily[fontext]))\n"
     ]
    },
    {
     "data": {
      "image/png": "[encoded data removed]",
      "text/plain": [
       "<Figure size 1008x576 with 1 Axes>"
      ]
     },
     "metadata": {},
     "output_type": "display_data"
    }
   ],
   "source": [
    "\n",
    "\n",
    "plt.rcParams[\"font.family\"] = \"Times New Roman\"\n",
    "fig = plt.figure(figsize=(14,8))\n",
    "plt.gcf().subplots_adjust(bottom=0.15)\n",
    "plt.bar(np.arange(len(y_sorted)), y_sorted,edgecolor='black',color='firebrick')\n",
    "plt.xticks(np.arange(len(y_sorted)), x_sorted,rotation='vertical')\n",
    "plt.xlabel('Features')\n",
    "plt.ylabel('Feature importance(%)')\n",
    "plt.title(\"Binary Classification\")\n",
    "plt.savefig(\"../results/binFeatImportance.pdf\")"
   ]
  },
  {
   "cell_type": "code",
   "execution_count": 80,
   "metadata": {},
   "outputs": [
    {
     "data": {
      "text/plain": [
       "array([[4155,   99],\n",
       "       [ 387,  224]])"
      ]
     },
     "execution_count": 80,
     "metadata": {},
     "output_type": "execute_result"
    }
   ],
   "source": [
    "cm = confusion_matrix(all_test.target, clf.predict(all_test[feats])).transpose()\n",
    "cm"
   ]
  },
  {
   "cell_type": "code",
   "execution_count": 81,
   "metadata": {},
   "outputs": [
    {
     "data": {
      "text/plain": [
       "323"
      ]
     },
     "execution_count": 81,
     "metadata": {},
     "output_type": "execute_result"
    }
   ],
   "source": [
    "all_test.target.sum()"
   ]
  },
  {
   "cell_type": "code",
   "execution_count": 82,
   "metadata": {},
   "outputs": [],
   "source": [
    "def fMeasure(precision,recall):\n",
    "    return 2*precision*recall/(precision+recall)"
   ]
  },
  {
   "cell_type": "code",
   "execution_count": 83,
   "metadata": {},
   "outputs": [],
   "source": [
    "precisionNon = cm[0][0]/(cm[0][0]+cm[0][1])\n",
    "recallNon = cm[0][0]/(cm[0][0]+cm[1][0])\n",
    "precisionT = cm[1][1]/(cm[1][1]+cm[1][0])\n",
    "recallT = cm[1][1]/(cm[1][1]+cm[0][1])"
   ]
  },
  {
   "cell_type": "code",
   "execution_count": 85,
   "metadata": {},
   "outputs": [
    {
     "name": "stdout",
     "output_type": "stream",
     "text": [
      "Precision of SN:     0.3666\n",
      "Recall of SN:        0.6935\n",
      "F-measure of SN:     0.4797\n",
      "Precision of NSN: 0.9767\n",
      "Recall of NSN:    0.9148\n",
      "F-measure of NSN: 0.9447\n"
     ]
    }
   ],
   "source": [
    "print(\"Precision of SN:     {:.4f}\".format(precisionT))\n",
    "print(\"Recall of SN:        {:.4f}\".format(recallT))\n",
    "print(\"F-measure of SN:     {:.4f}\".format(fMeasure(precisionT,recallT)))\n",
    "print(\"Precision of NSN: {:.4f}\".format(precisionNon))\n",
    "print(\"Recall of NSN:    {:.4f}\".format(recallNon))\n",
    "print(\"F-measure of NSN: {:.4f}\".format(fMeasure(precisionNon,recallNon)))\n"
   ]
  },
  {
   "cell_type": "markdown",
   "metadata": {},
   "source": [
    "# Without using chi2s"
   ]
  },
  {
   "cell_type": "code",
   "execution_count": 87,
   "metadata": {},
   "outputs": [],
   "source": [
    "feats = feats[:-2]"
   ]
  },
  {
   "cell_type": "code",
   "execution_count": 89,
   "metadata": {},
   "outputs": [
    {
     "data": {
      "text/plain": [
       "array(['skew', 'std', 'kurtosis', 'beyond1st', 'stetson_j', 'stetson_k',\n",
       "       'max_slope', 'amplitude', 'median_absolute_deviation',\n",
       "       'median_buffer_range_percentage', 'pair_slope_trend',\n",
       "       'percent_amplitude', 'percent_difference_flux_percentile',\n",
       "       'flux_percentile_ratio_mid20', 'flux_percentile_ratio_mid35',\n",
       "       'flux_percentile_ratio_mid50', 'flux_percentile_ratio_mid65',\n",
       "       'flux_percentile_ratio_mid80', 'small_kurtosis',\n",
       "       'pair_slope_trend_last_30', 'poly1_t1', 'poly2_t2', 'poly2_t1',\n",
       "       'poly3_t3', 'poly3_t2', 'poly3_t1', 'poly4_t4', 'poly4_t3',\n",
       "       'poly4_t2', 'poly4_t1'], dtype=object)"
      ]
     },
     "execution_count": 89,
     "metadata": {},
     "output_type": "execute_result"
    }
   ],
   "source": [
    "feats"
   ]
  },
  {
   "cell_type": "code",
   "execution_count": 90,
   "metadata": {},
   "outputs": [
    {
     "name": "stdout",
     "output_type": "stream",
     "text": [
      "SN in test set:\n",
      "323\n",
      "NSN in test set:\n",
      "4542\n",
      "Fitting 2 folds for each of 6 candidates, totalling 12 fits\n",
      "[CV] max_features=auto, n_estimators=200 .............................\n",
      "[CV]  max_features=auto, n_estimators=200, accuracy=0.8748828491096532, precision=0.8767045616627591, recall=0.8748828491096532, f1_score=0.8747314019274028, total=   8.2s\n",
      "[Parallel(n_jobs=1)]: Done   1 out of   1 | elapsed:    9.4s remaining:    0.0s\n",
      "[CV] max_features=auto, n_estimators=200 .............................\n",
      "[CV]  max_features=auto, n_estimators=200, accuracy=0.8676663542642924, precision=0.8684754869985538, recall=0.8676663542642924, f1_score=0.8675936667299431, total=   8.3s\n",
      "[Parallel(n_jobs=1)]: Done   2 out of   2 | elapsed:   19.0s remaining:    0.0s\n",
      "[CV] max_features=auto, n_estimators=700 .............................\n",
      "[CV]  max_features=auto, n_estimators=700, accuracy=0.8721649484536083, precision=0.8742477914907673, recall=0.8721649484536083, f1_score=0.8719868369648068, total=  28.6s\n",
      "[Parallel(n_jobs=1)]: Done   3 out of   3 | elapsed:   51.6s remaining:    0.0s\n",
      "[CV] max_features=auto, n_estimators=700 .............................\n",
      "[CV]  max_features=auto, n_estimators=700, accuracy=0.8686035613870665, precision=0.8694676274660413, recall=0.8686035613870665, f1_score=0.8685266929306146, total=  27.1s\n",
      "[Parallel(n_jobs=1)]: Done   4 out of   4 | elapsed:  1.4min remaining:    0.0s\n",
      "[CV] max_features=sqrt, n_estimators=200 .............................\n",
      "[CV]  max_features=sqrt, n_estimators=200, accuracy=0.8748828491096532, precision=0.8767045616627591, recall=0.8748828491096532, f1_score=0.8747314019274028, total=   7.8s\n",
      "[Parallel(n_jobs=1)]: Done   5 out of   5 | elapsed:  1.5min remaining:    0.0s\n",
      "[CV] max_features=sqrt, n_estimators=200 .............................\n",
      "[CV]  max_features=sqrt, n_estimators=200, accuracy=0.8676663542642924, precision=0.8684754869985538, recall=0.8676663542642924, f1_score=0.8675936667299431, total=   7.8s\n",
      "[Parallel(n_jobs=1)]: Done   6 out of   6 | elapsed:  1.7min remaining:    0.0s\n",
      "[CV] max_features=sqrt, n_estimators=700 .............................\n",
      "[CV]  max_features=sqrt, n_estimators=700, accuracy=0.8721649484536083, precision=0.8742477914907673, recall=0.8721649484536083, f1_score=0.8719868369648068, total=  27.3s\n",
      "[Parallel(n_jobs=1)]: Done   7 out of   7 | elapsed:  2.2min remaining:    0.0s\n",
      "[CV] max_features=sqrt, n_estimators=700 .............................\n",
      "[CV]  max_features=sqrt, n_estimators=700, accuracy=0.8686035613870665, precision=0.8694676274660413, recall=0.8686035613870665, f1_score=0.8685266929306146, total=  27.0s\n",
      "[Parallel(n_jobs=1)]: Done   8 out of   8 | elapsed:  2.7min remaining:    0.0s\n",
      "[CV] max_features=log2, n_estimators=200 .............................\n",
      "[CV]  max_features=log2, n_estimators=200, accuracy=0.8672914714151827, precision=0.8692243120698102, recall=0.8672914714151827, f1_score=0.8671175659040133, total=   7.8s\n",
      "[Parallel(n_jobs=1)]: Done   9 out of   9 | elapsed:  2.9min remaining:    0.0s\n",
      "[CV] max_features=log2, n_estimators=200 .............................\n",
      "[CV]  max_features=log2, n_estimators=200, accuracy=0.8652296157450796, precision=0.8662529334329386, recall=0.8652296157450796, f1_score=0.8651354121868438, total=   8.4s\n",
      "[Parallel(n_jobs=1)]: Done  10 out of  10 | elapsed:  3.0min remaining:    0.0s\n",
      "[CV] max_features=log2, n_estimators=700 .............................\n",
      "[CV]  max_features=log2, n_estimators=700, accuracy=0.8684161199625117, precision=0.8704779824603894, recall=0.8684161199625117, f1_score=0.8682327852628947, total=  25.7s\n",
      "[Parallel(n_jobs=1)]: Done  11 out of  11 | elapsed:  3.6min remaining:    0.0s\n",
      "[CV] max_features=log2, n_estimators=700 .............................\n",
      "[CV]  max_features=log2, n_estimators=700, accuracy=0.8655107778819119, precision=0.8664285672018704, recall=0.8655107778819119, f1_score=0.8654265117238223, total=  23.5s\n",
      "[Parallel(n_jobs=1)]: Done  12 out of  12 | elapsed:  4.0min remaining:    0.0s\n",
      "[Parallel(n_jobs=1)]: Done  12 out of  12 | elapsed:  4.0min finished\n"
     ]
    }
   ],
   "source": [
    "recall_scores = []\n",
    "\n",
    "    \n",
    "#split train test class by class\n",
    "all_train,all_test = splitTrainTest(oversampling)\n",
    "\n",
    "#balance the train set\n",
    "all_train= balance(all_train)\n",
    "\n",
    "#train indices\n",
    "trainIdx = all_train.index.get_level_values(\"ID\").unique()\n",
    "\n",
    "#remove originals that have oversampled copies in train\n",
    "all_test = all_test[~all_test.index.get_level_values(\"ID\").isin(trainIdx)]\n",
    "\n",
    "#remove oversampled data from test set\n",
    "all_test = all_test[all_test.index.get_level_values('copy_num') ==0 ]\n",
    "\n",
    "\n",
    "#format target variable to appropriate data type\n",
    "all_train.target= all_train.target.astype('int')\n",
    "all_test.target= all_test.target.astype('int')\n",
    "\n",
    "print(\"SN in test set:\")\n",
    "print(len(all_test[all_test.Class=='SN']))\n",
    "print(\"NSN in test set:\")\n",
    "print(len(all_test[all_test.Class!='SN']))\n",
    "\n",
    "#learning \n",
    "model,params = rf()\n",
    "grid_search = GridSearchCV(model, params, cv=StratifiedKFold(2), scoring=scorers(),\n",
    "                           refit='f1_score', return_train_score=True,verbose=100)\n",
    "grid_search.fit(all_train[feats], all_train.target)\n",
    "\n",
    "# Copy classifier \n",
    "clf = grid_search\n",
    "\n",
    "#see performance on test set\n",
    "scores = precision_recall_fscore_support(\n",
    "        all_test.target, clf.predict(all_test[feats]), average='weighted')\n",
    "recall_scores.append(scores)"
   ]
  },
  {
   "cell_type": "code",
   "execution_count": 91,
   "metadata": {},
   "outputs": [
    {
     "name": "stdout",
     "output_type": "stream",
     "text": [
      "Precision: 0.9341\n",
      "Recall:    0.8970\n",
      "F-score:   0.9113\n"
     ]
    }
   ],
   "source": [
    "recall_scoresnp = np.array(recall_scores)\n",
    "\n",
    "print(\"Precision: {:.4f}\".format(np.mean(recall_scoresnp[:,0])))\n",
    "print(\"Recall:    {:.4f}\".format(np.mean(recall_scoresnp[:,1])))\n",
    "print(\"F-score:   {:.4f}\".format(np.mean(recall_scoresnp[:,2])))"
   ]
  },
  {
   "cell_type": "code",
   "execution_count": 92,
   "metadata": {},
   "outputs": [
    {
     "name": "stdout",
     "output_type": "stream",
     "text": [
      "['skew' 'std' 'kurtosis' 'beyond1st' 'stetson_j' 'stetson_k' 'max_slope'\n",
      " 'amplitude' 'median_absolute_deviation' 'median_buffer_range_percentage'\n",
      " 'pair_slope_trend' 'percent_amplitude'\n",
      " 'percent_difference_flux_percentile' 'flux_percentile_ratio_mid20'\n",
      " 'flux_percentile_ratio_mid35' 'flux_percentile_ratio_mid50'\n",
      " 'flux_percentile_ratio_mid65' 'flux_percentile_ratio_mid80'\n",
      " 'small_kurtosis' 'pair_slope_trend_last_30' 'poly1_t1' 'poly2_t2'\n",
      " 'poly2_t1' 'poly3_t3' 'poly3_t2' 'poly3_t1' 'poly4_t4' 'poly4_t3'\n",
      " 'poly4_t2' 'poly4_t1']\n",
      "['small_kurtosis', 'poly2_t1', 'std', 'stetson_j', 'median_absolute_deviation', 'poly1_t1', 'amplitude', 'poly3_t1', 'poly4_t1', 'percent_amplitude', 'percent_difference_flux_percentile', 'max_slope', 'skew', 'stetson_k', 'median_buffer_range_percentage', 'pair_slope_trend_last_30', 'poly3_t2', 'poly4_t2', 'kurtosis', 'flux_percentile_ratio_mid65', 'flux_percentile_ratio_mid50', 'poly2_t2', 'beyond1st', 'flux_percentile_ratio_mid35', 'flux_percentile_ratio_mid80', 'flux_percentile_ratio_mid20', 'pair_slope_trend', 'poly4_t3', 'poly3_t3', 'poly4_t4']\n"
     ]
    }
   ],
   "source": [
    "#calculate feature importance in descending order\n",
    "importances = clf.best_estimator_.feature_importances_*100\n",
    "featsCopy = feats.copy()\n",
    "print(featsCopy)\n",
    "Y = list(importances)\n",
    "X = list(featsCopy)\n",
    "\n",
    "yx = list(zip(Y, X))\n",
    "yx.sort()\n",
    "\n",
    "yx = yx[::-1]\n",
    "\n",
    "x_sorted = [x for y, x in yx]\n",
    "y_sorted = [y for y, x in yx]\n",
    "print(x_sorted)"
   ]
  },
  {
   "cell_type": "code",
   "execution_count": 93,
   "metadata": {},
   "outputs": [],
   "source": [
    " def shorten(x):\n",
    "    return {\n",
    "      'stetson_j':'stetson_j',\n",
    "      'std':'std',\n",
    "      'median_absolute_deviation':'mad',\n",
    "      'amplitude':'amp',\n",
    "      'poly1_t1':'poly2_t1',\n",
    "      'poly2_t1':'poly1_t1',\n",
    "      'skew':'skew',\n",
    "      'poly3_t1':'poly3_t1',\n",
    "      'small_kurtosis':'sk',\n",
    "      'stetson_k':'stetson_k',\n",
    "      'median_buffer_range_percentage':'mbrp',\n",
    "      'percent_amplitude': 'p_amp',\n",
    "      'percent_difference_flux_percentile':'pdfp',\n",
    "      'poly4_t1':'poly4_t1',\n",
    "      'poly3_t2':'poly3_t2',\n",
    "      'poly4_t2':'poly4_t2',\n",
    "      'max_slope':'max_slope',\n",
    "      'kurtosis':'kurtosis',\n",
    "      'pair_slope_trend':'pst',\n",
    "      'poly2_t2':'poly2_t2',\n",
    "      'beyond1st':'beyond1st',\n",
    "      'flux_percentile_ratio_mid35':'fpr35',\n",
    "      'flux_percentile_ratio_mid50':'fpr50',\n",
    "      'flux_percentile_ratio_mid65':'fpr65',\n",
    "      'flux_percentile_ratio_mid20':'fpr20',\n",
    "      'flux_percentile_ratio_mid80':'fpr80',\n",
    "      'pair_slope_trend_last_30':'pst_last30',\n",
    "      'poly3_t3':'poly3_t3',\n",
    "      'poly4_t3':'poly4_t3',\n",
    "      'poly4_t4':'poly4_t4', \n",
    "      'chi2sGauss':'chi2sGauss',\n",
    "      'chi2SALT2':'chi2SALT2'\n",
    "      }[x]"
   ]
  },
  {
   "cell_type": "code",
   "execution_count": 94,
   "metadata": {},
   "outputs": [],
   "source": [
    "#shorten name length\n",
    "for i,x in enumerate(x_sorted):\n",
    "    x_sorted[i]=shorten(x)"
   ]
  },
  {
   "cell_type": "code",
   "execution_count": 95,
   "metadata": {},
   "outputs": [
    {
     "name": "stderr",
     "output_type": "stream",
     "text": [
      "/home/mauro/anaconda3/lib/python3.6/site-packages/matplotlib/font_manager.py:1328: UserWarning: findfont: Font family ['Times New Roman'] not found. Falling back to DejaVu Sans\n",
      "  (prop.get_family(), self.defaultFamily[fontext]))\n"
     ]
    },
    {
     "data": {
      "image/png": "[encoded data removed]",
      "text/plain": [
       "<Figure size 1008x576 with 1 Axes>"
      ]
     },
     "metadata": {},
     "output_type": "display_data"
    }
   ],
   "source": [
    "\n",
    "\n",
    "plt.rcParams[\"font.family\"] = \"Times New Roman\"\n",
    "fig = plt.figure(figsize=(14,8))\n",
    "plt.gcf().subplots_adjust(bottom=0.15)\n",
    "plt.bar(np.arange(len(y_sorted)), y_sorted,edgecolor='black',color='firebrick')\n",
    "plt.xticks(np.arange(len(y_sorted)), x_sorted,rotation='vertical')\n",
    "plt.xlabel('Features')\n",
    "plt.ylabel('Feature importance(%)')\n",
    "plt.title(\"Binary Classification\")\n",
    "plt.savefig(\"../results/binFeatImportance.pdf\")"
   ]
  },
  {
   "cell_type": "code",
   "execution_count": 102,
   "metadata": {},
   "outputs": [
    {
     "data": {
      "text/plain": [
       "array([[4146,  105],\n",
       "       [ 396,  218]])"
      ]
     },
     "execution_count": 102,
     "metadata": {},
     "output_type": "execute_result"
    }
   ],
   "source": [
    "cm = confusion_matrix(all_test.target, clf.predict(all_test[feats])).transpose()\n",
    "cm"
   ]
  },
  {
   "cell_type": "code",
   "execution_count": 97,
   "metadata": {},
   "outputs": [
    {
     "data": {
      "text/plain": [
       "323"
      ]
     },
     "execution_count": 97,
     "metadata": {},
     "output_type": "execute_result"
    }
   ],
   "source": [
    "all_test.target.sum()"
   ]
  },
  {
   "cell_type": "code",
   "execution_count": 98,
   "metadata": {},
   "outputs": [],
   "source": [
    "def fMeasure(precision,recall):\n",
    "    return 2*precision*recall/(precision+recall)"
   ]
  },
  {
   "cell_type": "code",
   "execution_count": 99,
   "metadata": {},
   "outputs": [],
   "source": [
    "precisionNon = cm[0][0]/(cm[0][0]+cm[0][1])\n",
    "recallNon = cm[0][0]/(cm[0][0]+cm[1][0])\n",
    "precisionT = cm[1][1]/(cm[1][1]+cm[1][0])\n",
    "recallT = cm[1][1]/(cm[1][1]+cm[0][1])"
   ]
  },
  {
   "cell_type": "code",
   "execution_count": 100,
   "metadata": {},
   "outputs": [
    {
     "name": "stdout",
     "output_type": "stream",
     "text": [
      "Precision of SN:     0.3550\n",
      "Recall of SN:        0.6749\n",
      "F-measure of SN:     0.4653\n",
      "Precision of NSN: 0.9753\n",
      "Recall of NSN:    0.9128\n",
      "F-measure of NSN: 0.9430\n"
     ]
    }
   ],
   "source": [
    "print(\"Precision of SN:     {:.4f}\".format(precisionT))\n",
    "print(\"Recall of SN:        {:.4f}\".format(recallT))\n",
    "print(\"F-measure of SN:     {:.4f}\".format(fMeasure(precisionT,recallT)))\n",
    "print(\"Precision of NSN: {:.4f}\".format(precisionNon))\n",
    "print(\"Recall of NSN:    {:.4f}\".format(recallNon))\n",
    "print(\"F-measure of NSN: {:.4f}\".format(fMeasure(precisionNon,recallNon)))\n"
   ]
  },
  {
   "cell_type": "code",
   "execution_count": null,
   "metadata": {},
   "outputs": [],
   "source": []
  }
 ],
 "metadata": {
  "kernelspec": {
   "display_name": "Python 3",
   "language": "python",
   "name": "python3"
  },
  "language_info": {
   "codemirror_mode": {
    "name": "ipython",
    "version": 3
   },
   "file_extension": ".py",
   "mimetype": "text/x-python",
   "name": "python",
   "nbconvert_exporter": "python",
   "pygments_lexer": "ipython3",
   "version": "3.7.3"
  }
 },
 "nbformat": 4,
 "nbformat_minor": 4
}
