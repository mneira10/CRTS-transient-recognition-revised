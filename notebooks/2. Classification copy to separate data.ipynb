{
 "cells": [
  {
   "cell_type": "code",
   "execution_count": 1,
   "metadata": {},
   "outputs": [
    {
     "name": "stderr",
     "output_type": "stream",
     "text": [
      "/home/mauro/anaconda3/lib/python3.6/importlib/_bootstrap.py:219: RuntimeWarning: numpy.dtype size changed, may indicate binary incompatibility. Expected 96, got 88\n",
      "  return f(*args, **kwds)\n",
      "/home/mauro/anaconda3/lib/python3.6/importlib/_bootstrap.py:219: RuntimeWarning: numpy.dtype size changed, may indicate binary incompatibility. Expected 96, got 88\n",
      "  return f(*args, **kwds)\n",
      "/home/mauro/anaconda3/lib/python3.6/importlib/_bootstrap.py:219: RuntimeWarning: numpy.dtype size changed, may indicate binary incompatibility. Expected 96, got 88\n",
      "  return f(*args, **kwds)\n",
      "/home/mauro/anaconda3/lib/python3.6/importlib/_bootstrap.py:219: RuntimeWarning: numpy.dtype size changed, may indicate binary incompatibility. Expected 96, got 88\n",
      "  return f(*args, **kwds)\n",
      "/home/mauro/anaconda3/lib/python3.6/site-packages/sklearn/ensemble/weight_boosting.py:29: DeprecationWarning: numpy.core.umath_tests is an internal NumPy module and should not be imported. It will be removed in a future NumPy release.\n",
      "  from numpy.core.umath_tests import inner1d\n",
      "/home/mauro/anaconda3/lib/python3.6/importlib/_bootstrap.py:219: RuntimeWarning: numpy.dtype size changed, may indicate binary incompatibility. Expected 96, got 88\n",
      "  return f(*args, **kwds)\n"
     ]
    }
   ],
   "source": [
    "from sklearn.ensemble import RandomForestClassifier\n",
    "import sklearn.metrics\n",
    "import pandas as pd\n",
    "import numpy as np\n",
    "np.random.seed(0)\n",
    "from sklearn.model_selection import GridSearchCV, StratifiedKFold  # , cross_val_score\n",
    "from sklearn.metrics import make_scorer, accuracy_score, precision_score, recall_score, f1_score, precision_recall_fscore_support, confusion_matrix  # , classification_report\n",
    "from sklearn.model_selection import train_test_split\n",
    "\n",
    "from sklearn.metrics import precision_recall_curve\n",
    "import matplotlib.pyplot as plt\n",
    "from sklearn.metrics import average_precision_score\n",
    "from scipy import integrate\n",
    "from sklearn.metrics import recall_score\n",
    "from sklearn.metrics import precision_recall_fscore_support,make_scorer\n",
    "from sklearn.metrics import confusion_matrix"
   ]
  },
  {
   "cell_type": "code",
   "execution_count": 2,
   "metadata": {},
   "outputs": [],
   "source": [
    "DATA_PATH = '../data/features/'\n",
    "\n",
    "tran = pd.read_csv(DATA_PATH + \"T.csv\")\n",
    "tran = tran.set_index(['ID', 'copy_num'])\n",
    "\n",
    "ntran = pd.read_csv(DATA_PATH + \"NT.csv\")\n",
    "ntran = ntran.set_index(['ID', 'copy_num'])\n"
   ]
  },
  {
   "cell_type": "code",
   "execution_count": 3,
   "metadata": {},
   "outputs": [
    {
     "name": "stdout",
     "output_type": "stream",
     "text": [
      "Total amout of obects (oversampled):     62152\n",
      "Total amout of obects (not oversampled): 19462\n"
     ]
    }
   ],
   "source": [
    "print(\"Total amout of obects (oversampled):     {}\".format(tran.shape[0]+ntran.shape[0]))\n",
    "print(\"Total amout of obects (not oversampled): {}\".format(tran[tran.index.get_level_values(\"copy_num\")==0].shape[0]+ntran.shape[0]))"
   ]
  },
  {
   "cell_type": "code",
   "execution_count": 4,
   "metadata": {},
   "outputs": [
    {
     "name": "stdout",
     "output_type": "stream",
     "text": [
      "Total number of features: 30\n",
      "\n",
      "The features are:\n",
      "    1. amplitude\n",
      "    2. beyond1st\n",
      "    3. flux_percentile_ratio_mid20\n",
      "    4. flux_percentile_ratio_mid35\n",
      "    5. flux_percentile_ratio_mid50\n",
      "    6. flux_percentile_ratio_mid65\n",
      "    7. flux_percentile_ratio_mid80\n",
      "    8. kurtosis\n",
      "    9. max_slope\n",
      "    10. median_absolute_deviation\n",
      "    11. median_buffer_range_percentage\n",
      "    12. pair_slope_trend\n",
      "    13. pair_slope_trend_last_30\n",
      "    14. percent_amplitude\n",
      "    15. percent_difference_flux_percentile\n",
      "    16. poly1_t1\n",
      "    17. poly2_t1\n",
      "    18. poly2_t2\n",
      "    19. poly3_t1\n",
      "    20. poly3_t2\n",
      "    21. poly3_t3\n",
      "    22. poly4_t1\n",
      "    23. poly4_t2\n",
      "    24. poly4_t3\n",
      "    25. poly4_t4\n",
      "    26. skew\n",
      "    27. small_kurtosis\n",
      "    28. std\n",
      "    29. stetson_j\n",
      "    30. stetson_k\n"
     ]
    }
   ],
   "source": [
    "feats = np.array(tran.columns[2:])\n",
    "print(\"Total number of features: {}\".format(len(feats)))\n",
    "print()\n",
    "print(\"The features are:\")\n",
    "for i,f in enumerate(feats):\n",
    "    print(\"    \"+str(i+1)+\". \" + f)\n"
   ]
  },
  {
   "cell_type": "code",
   "execution_count": 5,
   "metadata": {},
   "outputs": [],
   "source": [
    "alldf = pd.concat([tran,ntran])"
   ]
  },
  {
   "cell_type": "markdown",
   "metadata": {},
   "source": [
    "# Binary Classification \n",
    "Transients and non-transients "
   ]
  },
  {
   "cell_type": "code",
   "execution_count": 6,
   "metadata": {},
   "outputs": [],
   "source": [
    "def splitTrainTest(dataframe):\n",
    "    #create output dataframes\n",
    "    test = pd.DataFrame(columns = [\"ID\",\"copy_num\"]+list(dataframe.columns))\n",
    "    test = test.set_index([\"ID\",\"copy_num\"])\n",
    "\n",
    "    train = pd.DataFrame(columns = [\"ID\",\"copy_num\"]+list(dataframe.columns))\n",
    "    train = train.set_index([\"ID\",\"copy_num\"])\n",
    "    \n",
    "    for uClass in dataframe.Class.unique():\n",
    "        #get each class \n",
    "        classDf = dataframe[dataframe.Class == uClass]\n",
    "        \n",
    "        #unique ids\n",
    "        ids = classDf.index.get_level_values('ID').unique()\n",
    "\n",
    "        # randomly choose 25% of indices \n",
    "\n",
    "        testInd = np.random.choice(ids, int(0.25*len(ids)),replace=False)\n",
    "\n",
    "        #get dataframes\n",
    "        test = pd.concat([test,classDf[classDf.index.get_level_values('ID').isin(testInd)]])\n",
    "        \n",
    "        train = pd.concat([train,classDf[~classDf.index.get_level_values('ID').isin(testInd)]])\n",
    "\n",
    "    return train,test\n"
   ]
  },
  {
   "cell_type": "code",
   "execution_count": 7,
   "metadata": {},
   "outputs": [],
   "source": [
    "def balance(df):\n",
    "    #start min at infinity \n",
    "    minNum = np.inf\n",
    "    \n",
    "    #find the class with the minimum amount of candidates\n",
    "    for classElem in df.Class.unique():\n",
    "        numElems = len(df[df.Class==classElem])\n",
    "        if(numElems<minNum):\n",
    "            minNum=numElems\n",
    "    \n",
    "    #create output dataframe\n",
    "    ans = pd.DataFrame(columns = [\"ID\",\"copy_num\"]+list(df.columns))\n",
    "    ans = ans.set_index([\"ID\",\"copy_num\"])\n",
    "    \n",
    "    #get a sample from all the classes \n",
    "    for classElem in df.Class.unique():\n",
    "        ans = pd.concat([ans,df[df.Class==classElem].sample(n=minNum)])\n",
    "        \n",
    "    return ans"
   ]
  },
  {
   "cell_type": "code",
   "execution_count": 8,
   "metadata": {},
   "outputs": [],
   "source": [
    "#hypermarameters that gridsearch will optimize\n",
    "def rf():\n",
    "    params = {\n",
    "        'n_estimators': [200, 700],\n",
    "        'max_features': ['auto', 'sqrt', 'log2']\n",
    "    }\n",
    "    return RandomForestClassifier(random_state=0, class_weight='balanced'), params\n",
    "\n",
    "#metrics to be analized\n",
    "def scorers():\n",
    "    scoring = {'accuracy': make_scorer(accuracy_score),\n",
    "               'precision': make_scorer(precision_score, average='weighted'),\n",
    "               'recall': make_scorer(recall_score, average='weighted'),\n",
    "               'f1_score': make_scorer(f1_score, average='weighted')\n",
    "               }\n",
    "    return scoring"
   ]
  },
  {
   "cell_type": "code",
   "execution_count": 9,
   "metadata": {},
   "outputs": [],
   "source": [
    "#copy and shuffle the data\n",
    "oversampling = alldf.copy()\n",
    "oversampling = oversampling.sample(frac=1)\n",
    "\n",
    "#map all objects that are not non-transient to transient\n",
    "oversampling.Class = list(map(lambda x: 'non-transient' if x=='non-transient' else 'transient', oversampling.Class))\n",
    "#map transient and non-transient to binary values\n",
    "oversampling['target'] = list(map(lambda x: 1 if x=='transient' else 0, oversampling.Class))"
   ]
  },
  {
   "cell_type": "code",
   "execution_count": 10,
   "metadata": {},
   "outputs": [],
   "source": [
    "recall_scores = []\n",
    "\n",
    "    \n",
    "#split train test class by class\n",
    "all_train,all_test = splitTrainTest(oversampling)\n",
    "\n",
    "#balance the train set\n",
    "all_train= balance(all_train)\n",
    "\n",
    "#train indices\n",
    "trainIdx = all_train.index.get_level_values(\"ID\").unique()\n",
    "\n",
    "#remove originals that have oversampled copies in train\n",
    "all_test = all_test[~all_test.index.get_level_values(\"ID\").isin(trainIdx)]\n",
    "\n",
    "#remove oversampled data from test set\n",
    "all_test = all_test[all_test.index.get_level_values('copy_num') ==0 ]\n",
    "\n",
    "\n",
    "#format target variable to appropriate data type\n",
    "all_train.target= all_train.target.astype('int')\n",
    "all_test.target= all_test.target.astype('int')"
   ]
  },
  {
   "cell_type": "code",
   "execution_count": 11,
   "metadata": {},
   "outputs": [],
   "source": [
    "all_train.to_pickle('./FixedData/Binary/train.pkl')\n",
    "all_test.to_pickle('./FixedData/Binary/test.pkl')"
   ]
  },
  {
   "cell_type": "code",
   "execution_count": 12,
   "metadata": {},
   "outputs": [
    {
     "name": "stdout",
     "output_type": "stream",
     "text": [
      "Fitting 2 folds for each of 6 candidates, totalling 12 fits\n",
      "[CV] max_features=auto, n_estimators=200 .............................\n",
      "[CV]  max_features=auto, n_estimators=200, accuracy=0.9154966654966655, precision=0.9158369588018237, recall=0.9154966654966655, f1_score=0.9154793739821832, total=   8.9s\n",
      "[Parallel(n_jobs=1)]: Done   1 out of   1 | elapsed:   10.0s remaining:    0.0s\n",
      "[CV] max_features=auto, n_estimators=200 .............................\n",
      "[CV]  max_features=auto, n_estimators=200, accuracy=0.9232051957170441, precision=0.9235779428460904, recall=0.9232051957170441, f1_score=0.9231882972086489, total=   8.6s\n",
      "[Parallel(n_jobs=1)]: Done   2 out of   2 | elapsed:   19.7s remaining:    0.0s\n",
      "[CV] max_features=auto, n_estimators=700 .............................\n",
      "[CV]  max_features=auto, n_estimators=700, accuracy=0.9163741663741664, precision=0.916698634048296, recall=0.9163741663741664, f1_score=0.9163578841256903, total=  29.8s\n",
      "[Parallel(n_jobs=1)]: Done   3 out of   3 | elapsed:   53.3s remaining:    0.0s\n",
      "[CV] max_features=auto, n_estimators=700 .............................\n",
      "[CV]  max_features=auto, n_estimators=700, accuracy=0.924082850623135, precision=0.924421817306307, recall=0.924082850623135, f1_score=0.9240676896898831, total=  29.7s\n",
      "[Parallel(n_jobs=1)]: Done   4 out of   4 | elapsed:  1.4min remaining:    0.0s\n",
      "[CV] max_features=sqrt, n_estimators=200 .............................\n",
      "[CV]  max_features=sqrt, n_estimators=200, accuracy=0.9154966654966655, precision=0.9158369588018237, recall=0.9154966654966655, f1_score=0.9154793739821832, total=   8.5s\n",
      "[Parallel(n_jobs=1)]: Done   5 out of   5 | elapsed:  1.6min remaining:    0.0s\n",
      "[CV] max_features=sqrt, n_estimators=200 .............................\n",
      "[CV]  max_features=sqrt, n_estimators=200, accuracy=0.9232051957170441, precision=0.9235779428460904, recall=0.9232051957170441, f1_score=0.9231882972086489, total=   8.9s\n",
      "[Parallel(n_jobs=1)]: Done   6 out of   6 | elapsed:  1.8min remaining:    0.0s\n",
      "[CV] max_features=sqrt, n_estimators=700 .............................\n",
      "[CV]  max_features=sqrt, n_estimators=700, accuracy=0.9163741663741664, precision=0.916698634048296, recall=0.9163741663741664, f1_score=0.9163578841256903, total=  29.7s\n",
      "[Parallel(n_jobs=1)]: Done   7 out of   7 | elapsed:  2.3min remaining:    0.0s\n",
      "[CV] max_features=sqrt, n_estimators=700 .............................\n",
      "[CV]  max_features=sqrt, n_estimators=700, accuracy=0.924082850623135, precision=0.924421817306307, recall=0.924082850623135, f1_score=0.9240676896898831, total=  29.8s\n",
      "[Parallel(n_jobs=1)]: Done   8 out of   8 | elapsed:  2.9min remaining:    0.0s\n",
      "[CV] max_features=log2, n_estimators=200 .............................\n",
      "[CV]  max_features=log2, n_estimators=200, accuracy=0.9155844155844156, precision=0.9159812910428425, recall=0.9155844155844156, f1_score=0.9155642761771143, total=   7.0s\n",
      "[Parallel(n_jobs=1)]: Done   9 out of   9 | elapsed:  3.0min remaining:    0.0s\n",
      "[CV] max_features=log2, n_estimators=200 .............................\n",
      "[CV]  max_features=log2, n_estimators=200, accuracy=0.9230296647358259, precision=0.9233677896143213, recall=0.9230296647358259, f1_score=0.9230142934774882, total=   7.1s\n",
      "[Parallel(n_jobs=1)]: Done  10 out of  10 | elapsed:  3.2min remaining:    0.0s\n",
      "[CV] max_features=log2, n_estimators=700 .............................\n",
      "[CV]  max_features=log2, n_estimators=700, accuracy=0.9165496665496665, precision=0.9169340057079395, recall=0.9165496665496665, f1_score=0.9165304305173226, total=  24.7s\n",
      "[Parallel(n_jobs=1)]: Done  11 out of  11 | elapsed:  3.6min remaining:    0.0s\n",
      "[CV] max_features=log2, n_estimators=700 .............................\n",
      "[CV]  max_features=log2, n_estimators=700, accuracy=0.9242583816043531, precision=0.9245974885883046, recall=0.9242583816043531, f1_score=0.9242432557252822, total=  24.9s\n",
      "[Parallel(n_jobs=1)]: Done  12 out of  12 | elapsed:  4.1min remaining:    0.0s\n",
      "[Parallel(n_jobs=1)]: Done  12 out of  12 | elapsed:  4.1min finished\n"
     ]
    }
   ],
   "source": [
    "#learning \n",
    "model,params = rf()\n",
    "grid_search = GridSearchCV(model, params, cv=StratifiedKFold(2), scoring=scorers(),\n",
    "                           refit='f1_score', return_train_score=True,verbose=100)\n",
    "grid_search.fit(all_train[feats], all_train.target)\n",
    "\n",
    "# Copy classifier \n",
    "clf = grid_search\n",
    "\n",
    "#see performance on test set\n",
    "scores = precision_recall_fscore_support(\n",
    "        all_test.target, clf.predict(all_test[feats]), average='weighted')\n",
    "recall_scores.append(scores)"
   ]
  },
  {
   "cell_type": "code",
   "execution_count": 13,
   "metadata": {},
   "outputs": [
    {
     "name": "stdout",
     "output_type": "stream",
     "text": [
      "Precision: 0.9083\n",
      "Recall:    0.9083\n",
      "F-score:   0.9083\n"
     ]
    }
   ],
   "source": [
    "recall_scoresnp = np.array(recall_scores)\n",
    "\n",
    "print(\"Precision: {:.4f}\".format(np.mean(recall_scoresnp[:,0])))\n",
    "print(\"Recall:    {:.4f}\".format(np.mean(recall_scoresnp[:,1])))\n",
    "print(\"F-score:   {:.4f}\".format(np.mean(recall_scoresnp[:,2])))"
   ]
  },
  {
   "cell_type": "code",
   "execution_count": 14,
   "metadata": {},
   "outputs": [],
   "source": [
    "#calculate feature importance in descending order\n",
    "importances = clf.best_estimator_.feature_importances_*100\n",
    "featsCopy = feats.copy()\n",
    "\n",
    "Y = list(importances)\n",
    "X = list(featsCopy)\n",
    "\n",
    "yx = list(zip(Y, X))\n",
    "yx.sort()\n",
    "\n",
    "yx = yx[::-1]\n",
    "\n",
    "x_sorted = [x for y, x in yx]\n",
    "y_sorted = [y for y, x in yx]\n"
   ]
  },
  {
   "cell_type": "code",
   "execution_count": 15,
   "metadata": {},
   "outputs": [],
   "source": [
    " def shorten(x):\n",
    "    return {\n",
    "      'stetson_j':'stetson_j',\n",
    "      'std':'std',\n",
    "      'median_absolute_deviation':'mad',\n",
    "      'amplitude':'amp',\n",
    "      'poly1_t1':'poly2_t1',\n",
    "      'poly2_t1':'poly1_t1',\n",
    "      'skew':'skew',\n",
    "      'poly3_t1':'poly3_t1',\n",
    "      'small_kurtosis':'sk',\n",
    "      'stetson_k':'stetson_k',\n",
    "      'median_buffer_range_percentage':'mbrp',\n",
    "      'percent_amplitude': 'p_amp',\n",
    "      'percent_difference_flux_percentile':'pdfp',\n",
    "      'poly4_t1':'poly4_t1',\n",
    "      'poly3_t2':'poly3_t2',\n",
    "      'poly4_t2':'poly4_t2',\n",
    "      'max_slope':'max_slope',\n",
    "      'kurtosis':'kurtosis',\n",
    "      'pair_slope_trend':'pst',\n",
    "      'poly2_t2':'poly2_t2',\n",
    "      'beyond1st':'beyond1st',\n",
    "      'flux_percentile_ratio_mid35':'fpr35',\n",
    "      'flux_percentile_ratio_mid50':'fpr50',\n",
    "      'flux_percentile_ratio_mid65':'fpr65',\n",
    "      'flux_percentile_ratio_mid20':'fpr20',\n",
    "      'flux_percentile_ratio_mid80':'fpr80',\n",
    "      'pair_slope_trend_last_30':'pst_last30',\n",
    "      'poly3_t3':'poly3_t3',\n",
    "      'poly4_t3':'poly4_t3',\n",
    "      'poly4_t4':'poly4_t4'\n",
    "      }[x]"
   ]
  },
  {
   "cell_type": "code",
   "execution_count": 16,
   "metadata": {},
   "outputs": [],
   "source": [
    "#shorten name length\n",
    "for i,x in enumerate(x_sorted):\n",
    "    x_sorted[i]=shorten(x)"
   ]
  },
  {
   "cell_type": "code",
   "execution_count": 17,
   "metadata": {},
   "outputs": [
    {
     "name": "stderr",
     "output_type": "stream",
     "text": [
      "/home/mauro/anaconda3/lib/python3.6/site-packages/matplotlib/font_manager.py:1328: UserWarning: findfont: Font family ['Times New Roman'] not found. Falling back to DejaVu Sans\n",
      "  (prop.get_family(), self.defaultFamily[fontext]))\n"
     ]
    },
    {
     "data": {
      "image/png": "[encoded data removed]",
      "text/plain": [
       "<Figure size 1008x576 with 1 Axes>"
      ]
     },
     "metadata": {},
     "output_type": "display_data"
    }
   ],
   "source": [
    "\n",
    "\n",
    "plt.rcParams[\"font.family\"] = \"Times New Roman\"\n",
    "fig = plt.figure(figsize=(14,8))\n",
    "plt.gcf().subplots_adjust(bottom=0.15)\n",
    "plt.bar(np.arange(len(y_sorted)), y_sorted,edgecolor='black',color='firebrick')\n",
    "plt.xticks(np.arange(len(y_sorted)), x_sorted,rotation='vertical')\n",
    "plt.xlabel('Features')\n",
    "plt.ylabel('Feature importance(%)')\n",
    "plt.title(\"Binary Classification\")\n",
    "plt.savefig(\"../results/binFeatImportance.pdf\")"
   ]
  },
  {
   "cell_type": "code",
   "execution_count": 18,
   "metadata": {},
   "outputs": [
    {
     "data": {
      "text/plain": [
       "array([[3575,  223],\n",
       "       [ 223,  844]])"
      ]
     },
     "execution_count": 18,
     "metadata": {},
     "output_type": "execute_result"
    }
   ],
   "source": [
    "cm = confusion_matrix(all_test.target, clf.predict(all_test[feats])).transpose()\n",
    "cm"
   ]
  },
  {
   "cell_type": "code",
   "execution_count": 19,
   "metadata": {},
   "outputs": [],
   "source": [
    "def fMeasure(precision,recall):\n",
    "    return 2*precision*recall/(precision+recall)"
   ]
  },
  {
   "cell_type": "code",
   "execution_count": 20,
   "metadata": {},
   "outputs": [],
   "source": [
    "precisionNon = cm[0][0]/(cm[0][0]+cm[0][1])\n",
    "recallNon = cm[0][0]/(cm[0][0]+cm[1][0])\n",
    "precisionT = cm[1][1]/(cm[1][1]+cm[1][0])\n",
    "recallT = cm[1][1]/(cm[1][1]+cm[0][1])"
   ]
  },
  {
   "cell_type": "code",
   "execution_count": 21,
   "metadata": {},
   "outputs": [
    {
     "name": "stdout",
     "output_type": "stream",
     "text": [
      "Precision of transients:     0.7910\n",
      "Recall of transients:        0.7910\n",
      "F-measure of transients:     0.7910\n",
      "Precision of non-transients: 0.9413\n",
      "Recall of non-transients:    0.9413\n",
      "F-measure of non-transients: 0.9413\n"
     ]
    }
   ],
   "source": [
    "print(\"Precision of transients:     {:.4f}\".format(precisionT))\n",
    "print(\"Recall of transients:        {:.4f}\".format(recallT))\n",
    "print(\"F-measure of transients:     {:.4f}\".format(fMeasure(precisionT,recallT)))\n",
    "print(\"Precision of non-transients: {:.4f}\".format(precisionNon))\n",
    "print(\"Recall of non-transients:    {:.4f}\".format(recallNon))\n",
    "print(\"F-measure of non-transients: {:.4f}\".format(fMeasure(precisionNon,recallNon)))\n"
   ]
  },
  {
   "cell_type": "markdown",
   "metadata": {},
   "source": [
    "# 8-Class clasification"
   ]
  },
  {
   "cell_type": "code",
   "execution_count": 22,
   "metadata": {},
   "outputs": [],
   "source": [
    "# main 6 transient classes\n",
    "labels = ['SN', 'CV', 'AGN', 'HPM', 'Blazar', 'Flare']\n",
    "\n",
    "#copy transient data\n",
    "tran8 = tran.copy()\n",
    "\n",
    "#if class is not in labels, label as other\n",
    "tran8.loc[~tran8.Class.isin(labels), ['Class']] = 'Other'\n",
    "\n",
    "#copy non transient\n",
    "ntran8 = ntran.copy()\n",
    "\n",
    "#transients and non-transients\n",
    "all8 = pd.concat([tran8,ntran8])"
   ]
  },
  {
   "cell_type": "code",
   "execution_count": 23,
   "metadata": {},
   "outputs": [],
   "source": [
    "# func to map labels to integer values\n",
    "def manualFact(lab):\n",
    "    labels = ['SN', 'CV', 'AGN', 'HPM', 'Blazar', 'Flare','Other','non-transient']\n",
    "    return labels.index(lab)"
   ]
  },
  {
   "cell_type": "code",
   "execution_count": 24,
   "metadata": {},
   "outputs": [],
   "source": [
    "# map labels to integer values\n",
    "all8['target'] = list(map(lambda x: manualFact(x),all8['Class']))\n",
    "\n",
    "# copy labeled data\n",
    "oversampling = all8.copy()\n",
    "\n",
    "#shuffle data\n",
    "oversampling = oversampling.sample(frac=1)"
   ]
  },
  {
   "cell_type": "code",
   "execution_count": 25,
   "metadata": {},
   "outputs": [],
   "source": [
    "recall_scores = []\n",
    "\n",
    "#split train test class by class\n",
    "all_train,all_test = splitTrainTest(oversampling)\n",
    "\n",
    "#balance the train set\n",
    "all_train= balance(all_train)\n",
    "\n",
    "\n",
    "\n",
    "#train indices\n",
    "trainIdx = all_train.index.get_level_values(\"ID\").unique()\n",
    "\n",
    "#remove originals that may have oversampled copies in train\n",
    "all_test = all_test[~all_test.index.get_level_values(\"ID\").isin(trainIdx)]\n",
    "\n",
    "#remove oversampling in test\n",
    "all_test = all_test[all_test.index.get_level_values('copy_num')==0]\n",
    "\n",
    "\n",
    "#format stuff\n",
    "all_train.target= all_train.target.astype('int')\n",
    "all_test.target= all_test.target.astype('int')"
   ]
  },
  {
   "cell_type": "code",
   "execution_count": 26,
   "metadata": {},
   "outputs": [],
   "source": [
    "all_train.to_pickle('./FixedData/8Class/train.pkl')\n",
    "all_test.to_pickle('./FixedData/8Class/test.pkl')"
   ]
  },
  {
   "cell_type": "code",
   "execution_count": 23,
   "metadata": {},
   "outputs": [
    {
     "name": "stdout",
     "output_type": "stream",
     "text": [
      "Fitting 2 folds for each of 6 candidates, totalling 12 fits\n",
      "[CV] max_features=auto, n_estimators=200 .............................\n",
      "[CV]  max_features=auto, n_estimators=200, accuracy=0.7690850815850816, precision=0.7675946278937514, recall=0.7690850815850816, f1_score=0.7672830888898173, total=   5.4s\n",
      "[Parallel(n_jobs=1)]: Done   1 out of   1 | elapsed:    6.3s remaining:    0.0s\n",
      "[CV] max_features=auto, n_estimators=200 .............................\n",
      "[CV]  max_features=auto, n_estimators=200, accuracy=0.7843822843822844, precision=0.7843978764309213, recall=0.7843822843822844, f1_score=0.7829093928837715, total=   5.4s\n",
      "[Parallel(n_jobs=1)]: Done   2 out of   2 | elapsed:   12.5s remaining:    0.0s\n",
      "[CV] max_features=auto, n_estimators=700 .............................\n",
      "[CV]  max_features=auto, n_estimators=700, accuracy=0.7731643356643356, precision=0.7715204728877519, recall=0.7731643356643356, f1_score=0.771432649107589, total=  18.9s\n",
      "[Parallel(n_jobs=1)]: Done   3 out of   3 | elapsed:   34.5s remaining:    0.0s\n",
      "[CV] max_features=auto, n_estimators=700 .............................\n",
      "[CV]  max_features=auto, n_estimators=700, accuracy=0.7868589743589743, precision=0.7869851114981171, recall=0.7868589743589743, f1_score=0.7853333407753262, total=  19.8s\n",
      "[Parallel(n_jobs=1)]: Done   4 out of   4 | elapsed:   57.8s remaining:    0.0s\n",
      "[CV] max_features=sqrt, n_estimators=200 .............................\n",
      "[CV]  max_features=sqrt, n_estimators=200, accuracy=0.7690850815850816, precision=0.7675946278937514, recall=0.7690850815850816, f1_score=0.7672830888898173, total=   5.8s\n",
      "[Parallel(n_jobs=1)]: Done   5 out of   5 | elapsed:  1.1min remaining:    0.0s\n",
      "[CV] max_features=sqrt, n_estimators=200 .............................\n",
      "[CV]  max_features=sqrt, n_estimators=200, accuracy=0.7843822843822844, precision=0.7843978764309213, recall=0.7843822843822844, f1_score=0.7829093928837715, total=   6.2s\n",
      "[Parallel(n_jobs=1)]: Done   6 out of   6 | elapsed:  1.2min remaining:    0.0s\n",
      "[CV] max_features=sqrt, n_estimators=700 .............................\n",
      "[CV]  max_features=sqrt, n_estimators=700, accuracy=0.7731643356643356, precision=0.7715204728877519, recall=0.7731643356643356, f1_score=0.771432649107589, total=  20.3s\n",
      "[Parallel(n_jobs=1)]: Done   7 out of   7 | elapsed:  1.6min remaining:    0.0s\n",
      "[CV] max_features=sqrt, n_estimators=700 .............................\n",
      "[CV]  max_features=sqrt, n_estimators=700, accuracy=0.7868589743589743, precision=0.7869851114981171, recall=0.7868589743589743, f1_score=0.7853333407753262, total=  21.6s\n",
      "[Parallel(n_jobs=1)]: Done   8 out of   8 | elapsed:  2.0min remaining:    0.0s\n",
      "[CV] max_features=log2, n_estimators=200 .............................\n",
      "[CV]  max_features=log2, n_estimators=200, accuracy=0.7687937062937062, precision=0.7670773520346859, recall=0.7687937062937062, f1_score=0.7667811172671063, total=   5.7s\n",
      "[Parallel(n_jobs=1)]: Done   9 out of   9 | elapsed:  2.1min remaining:    0.0s\n",
      "[CV] max_features=log2, n_estimators=200 .............................\n",
      "[CV]  max_features=log2, n_estimators=200, accuracy=0.7839452214452215, precision=0.783228540332814, recall=0.7839452214452215, f1_score=0.7821141935602364, total=   4.9s\n",
      "[Parallel(n_jobs=1)]: Done  10 out of  10 | elapsed:  2.2min remaining:    0.0s\n",
      "[CV] max_features=log2, n_estimators=700 .............................\n",
      "[CV]  max_features=log2, n_estimators=700, accuracy=0.7690850815850816, precision=0.7674176407122266, recall=0.7690850815850816, f1_score=0.7672550373826662, total=  27.3s\n",
      "[Parallel(n_jobs=1)]: Done  11 out of  11 | elapsed:  2.7min remaining:    0.0s\n",
      "[CV] max_features=log2, n_estimators=700 .............................\n",
      "[CV]  max_features=log2, n_estimators=700, accuracy=0.7862762237762237, precision=0.7861012165165123, recall=0.7862762237762237, f1_score=0.7845709701563879, total=  20.0s\n",
      "[Parallel(n_jobs=1)]: Done  12 out of  12 | elapsed:  3.1min remaining:    0.0s\n",
      "[Parallel(n_jobs=1)]: Done  12 out of  12 | elapsed:  3.1min finished\n"
     ]
    }
   ],
   "source": [
    "model,params = rf()\n",
    "grid_search = GridSearchCV(model, params, cv=StratifiedKFold(2), scoring=scorers(),\n",
    "                           refit='f1_score', return_train_score=True,verbose=100)\n",
    "grid_search.fit(all_train[feats], all_train.target)\n",
    "# Copy classifier\n",
    "clf = grid_search\n",
    "\n",
    "scores = precision_recall_fscore_support(\n",
    "        all_test.target, clf.predict(all_test[feats]), average='weighted')\n",
    "\n",
    "\n",
    "recall_scores.append(scores)"
   ]
  },
  {
   "cell_type": "code",
   "execution_count": 24,
   "metadata": {},
   "outputs": [
    {
     "name": "stdout",
     "output_type": "stream",
     "text": [
      "Precision: 0.8483\n",
      "Recall:    0.7517\n",
      "F-score:   0.7884\n"
     ]
    }
   ],
   "source": [
    "recall_scoresnp = np.array(recall_scores)\n",
    "\n",
    "print(\"Precision: {:.4f}\".format(np.mean(recall_scoresnp[:,0])))\n",
    "print(\"Recall:    {:.4f}\".format(np.mean(recall_scoresnp[:,1])))\n",
    "print(\"F-score:   {:.4f}\".format(np.mean(recall_scoresnp[:,2])))"
   ]
  },
  {
   "cell_type": "code",
   "execution_count": 25,
   "metadata": {},
   "outputs": [
    {
     "name": "stdout",
     "output_type": "stream",
     "text": [
      "[[ 166   25    0    0    7    5   40   97]\n",
      " [  17  152    0    1    5    3   12   37]\n",
      " [   1    2   91    0   10    1   35   49]\n",
      " [   5    0    0   66    0    0    5  186]\n",
      " [   8   13    4    0   29    0    6    2]\n",
      " [  16    5    0    0    3   21    4  251]\n",
      " [  53   12    7    1    3    3  103  149]\n",
      " [  57    6    4    8    2   18   29 3027]]\n"
     ]
    }
   ],
   "source": [
    "confMatr = confusion_matrix(all_test.target, clf.predict(all_test[feats])).transpose()\n",
    "print(confMatr)\n",
    "# 'SN', 'CV', 'AGN', 'HPM', 'Blazar', 'Flare','Other','non-transient'"
   ]
  },
  {
   "cell_type": "code",
   "execution_count": 26,
   "metadata": {},
   "outputs": [
    {
     "name": "stdout",
     "output_type": "stream",
     "text": [
      "[[0 0 0 0 0 0 0 0]\n",
      " [0 0 0 0 0 0 0 0]\n",
      " [0 0 0 0 0 0 0 0]\n",
      " [0 0 0 0 0 0 0 0]\n",
      " [0 0 0 0 0 0 0 0]\n",
      " [0 0 0 0 0 0 0 0]\n",
      " [0 0 0 0 0 0 0 0]\n",
      " [0 0 0 0 0 0 0 0]]\n"
     ]
    }
   ],
   "source": [
    "normedMatrix = confMatr.copy()\n",
    "# print(normedMatrix)\n",
    "for i in range(len(normedMatrix)):\n",
    "#     print(normedMatrix[:,i]/normedMatrix[:,i].sum())\n",
    "    normedMatrix[:,i] = normedMatrix[:,i]/normedMatrix[:,i].sum()\n",
    "#     print(normedMatrix[:,i])\n",
    "# np.set_printoptions(suppress=True)\n",
    "print(normedMatrix)\n",
    "# np.set_printoptions(suppress=False)"
   ]
  },
  {
   "cell_type": "code",
   "execution_count": 27,
   "metadata": {},
   "outputs": [],
   "source": [
    "newMatr = []\n",
    "for i in range(len(confMatr)):\n",
    "    prec = confMatr[i][i]/(sum(confMatr[i,:]))\n",
    "    rec = confMatr[i][i]/(sum(confMatr[:,i]))\n",
    "    newMatr.append([prec,rec,fMeasure(prec,rec),sum(confMatr[:,i])])"
   ]
  },
  {
   "cell_type": "code",
   "execution_count": 28,
   "metadata": {},
   "outputs": [
    {
     "name": "stdout",
     "output_type": "stream",
     "text": [
      "    Precision        Recall         F-score      Cover\n",
      "[[   0.48823529    0.51393189    0.50075415  323.        ]\n",
      " [   0.66960352    0.70697674    0.68778281  215.        ]\n",
      " [   0.48148148    0.85849057    0.61694915  106.        ]\n",
      " [   0.2519084     0.86842105    0.39053254   76.        ]\n",
      " [   0.46774194    0.49152542    0.47933884   59.        ]\n",
      " [   0.07          0.41176471    0.11965812   51.        ]\n",
      " [   0.31117825    0.44017094    0.36460177  234.        ]\n",
      " [   0.96064741    0.79699842    0.87120449 3798.        ]]\n"
     ]
    }
   ],
   "source": [
    "np.set_printoptions(suppress=True)\n",
    "print('    Precision        Recall         F-score      Cover')\n",
    "print(np.array(newMatr))\n",
    "np.set_printoptions(suppress=False)"
   ]
  },
  {
   "cell_type": "code",
   "execution_count": 45,
   "metadata": {},
   "outputs": [],
   "source": [
    "importances = clf.best_estimator_.feature_importances_*100\n",
    "featsCopy = feats.copy()\n",
    "\n",
    "Y = list(importances)\n",
    "X = list(featsCopy)\n",
    "\n",
    "yx = list(zip(Y, X))\n",
    "\n",
    "yx.sort()\n",
    "# yx = yx[::-1]\n",
    "yx = yx[::-1]\n",
    "\n",
    "\n",
    "\n",
    "x_sorted = [x for y, x in yx]\n",
    "y_sorted = [y for y, x in yx]\n"
   ]
  },
  {
   "cell_type": "code",
   "execution_count": 47,
   "metadata": {},
   "outputs": [],
   "source": [
    "for i,x in enumerate(x_sorted):\n",
    "    x_sorted[i]=shorten(x)"
   ]
  },
  {
   "cell_type": "code",
   "execution_count": 51,
   "metadata": {},
   "outputs": [
    {
     "name": "stderr",
     "output_type": "stream",
     "text": [
      "/home/mauro/anaconda3/lib/python3.6/site-packages/matplotlib/font_manager.py:1328: UserWarning: findfont: Font family ['Times New Roman'] not found. Falling back to DejaVu Sans\n",
      "  (prop.get_family(), self.defaultFamily[fontext]))\n"
     ]
    },
    {
     "data": {
      "image/png": "[encoded data removed]",
      "text/plain": [
       "<Figure size 1008x576 with 1 Axes>"
      ]
     },
     "metadata": {},
     "output_type": "display_data"
    }
   ],
   "source": [
    "# from matplotlib.font_manager import FontProperties\n",
    "# font = FontProperties()\n",
    "# font.set_family('sans-serif')\n",
    "# font.set_style('normal')\n",
    "\n",
    "plt.rcParams[\"font.family\"] = \"Times New Roman\"\n",
    "fig = plt.figure(figsize=(14,8))\n",
    "plt.gcf().subplots_adjust(bottom=0.15)\n",
    "plt.bar(np.arange(len(y_sorted)), y_sorted,edgecolor='black',color='#008000')\n",
    "plt.xticks(np.arange(len(y_sorted)), x_sorted,rotation='vertical')\n",
    "plt.xlabel('Features')\n",
    "plt.ylabel('Feature importance(%)')\n",
    "plt.title(\"8-Class Classification\")\n",
    "plt.savefig(\"8clasFeatImportance.pdf\")"
   ]
  },
  {
   "cell_type": "code",
   "execution_count": null,
   "metadata": {},
   "outputs": [],
   "source": []
  }
 ],
 "metadata": {
  "kernelspec": {
   "display_name": "Python 3",
   "language": "python",
   "name": "python3"
  },
  "language_info": {
   "codemirror_mode": {
    "name": "ipython",
    "version": 3
   },
   "file_extension": ".py",
   "mimetype": "text/x-python",
   "name": "python",
   "nbconvert_exporter": "python",
   "pygments_lexer": "ipython3",
   "version": "3.7.3"
  }
 },
 "nbformat": 4,
 "nbformat_minor": 4
}
