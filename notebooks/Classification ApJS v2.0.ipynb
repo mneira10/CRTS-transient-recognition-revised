{
 "cells": [
  {
   "cell_type": "code",
   "execution_count": 3,
   "metadata": {},
   "outputs": [],
   "source": [
    "from sklearn.ensemble import RandomForestClassifier\n",
    "import sklearn.metrics\n",
    "import pandas as pd\n",
    "import numpy as np\n",
    "np.random.seed(0)\n",
    "from sklearn.model_selection import GridSearchCV, StratifiedKFold  # , cross_val_score\n",
    "from sklearn.metrics import make_scorer, accuracy_score, precision_score, recall_score, f1_score, precision_recall_fscore_support, confusion_matrix  # , classification_report\n",
    "from sklearn.model_selection import train_test_split\n",
    "\n",
    "from sklearn.metrics import precision_recall_curve\n",
    "import matplotlib.pyplot as plt\n",
    "from sklearn.metrics import average_precision_score\n",
    "from scipy import integrate\n",
    "from sklearn.metrics import recall_score\n",
    "from sklearn.metrics import precision_recall_fscore_support,make_scorer\n",
    "from sklearn.metrics import confusion_matrix"
   ]
  },
  {
   "cell_type": "code",
   "execution_count": 4,
   "metadata": {},
   "outputs": [],
   "source": [
    "DATA_PATH = '../data/features/disanto'\n",
    "\n",
    "disantoFeatures = pd.DataFrame()\n",
    "\n",
    "for i in range(12):\n",
    "    temp = pd.read_csv(DATA_PATH+'/'+str(i+1)+'.csv')\n",
    "    disantoFeatures = pd.concat([disantoFeatures,temp])\n",
    "    "
   ]
  },
  {
   "cell_type": "code",
   "execution_count": 5,
   "metadata": {},
   "outputs": [],
   "source": [
    "nondisantoFeatures = pd.DataFrame()\n",
    "\n",
    "for i in range(12):\n",
    "    temp = pd.read_csv(DATA_PATH+'/Non'+str(i+1)+'.csv')\n",
    "    nondisantoFeatures = pd.concat([nondisantoFeatures,temp])"
   ]
  },
  {
   "cell_type": "code",
   "execution_count": 6,
   "metadata": {},
   "outputs": [],
   "source": [
    "allDisanto = pd.concat([disantoFeatures,nondisantoFeatures])"
   ]
  },
  {
   "cell_type": "code",
   "execution_count": 7,
   "metadata": {},
   "outputs": [
    {
     "data": {
      "text/plain": [
       "(62152, 37)"
      ]
     },
     "execution_count": 7,
     "metadata": {},
     "output_type": "execute_result"
    }
   ],
   "source": [
    "allDisanto.shape"
   ]
  },
  {
   "cell_type": "code",
   "execution_count": 8,
   "metadata": {},
   "outputs": [],
   "source": [
    "allDisanto= allDisanto.set_index(['ID','copy_num'])"
   ]
  },
  {
   "cell_type": "code",
   "execution_count": 9,
   "metadata": {},
   "outputs": [
    {
     "name": "stdout",
     "output_type": "stream",
     "text": [
      "Total number of features: 33\n",
      "\n",
      "The features are:\n",
      "    1. skew\n",
      "    2. std\n",
      "    3. kurtosis\n",
      "    4. beyond1st\n",
      "    5. stetson_j\n",
      "    6. stetson_k\n",
      "    7. max_slope\n",
      "    8. amplitude\n",
      "    9. median_absolute_deviation\n",
      "    10. median_buffer_range_percentage\n",
      "    11. pair_slope_trend\n",
      "    12. percent_amplitude\n",
      "    13. percent_difference_flux_percentile\n",
      "    14. flux_percentile_ratio_mid20\n",
      "    15. flux_percentile_ratio_mid35\n",
      "    16. flux_percentile_ratio_mid50\n",
      "    17. flux_percentile_ratio_mid65\n",
      "    18. flux_percentile_ratio_mid80\n",
      "    19. small_kurtosis\n",
      "    20. pair_slope_trend_last_30\n",
      "    21. poly1_t1\n",
      "    22. poly2_t2\n",
      "    23. poly2_t1\n",
      "    24. poly3_t3\n",
      "    25. poly3_t2\n",
      "    26. poly3_t1\n",
      "    27. poly4_t4\n",
      "    28. poly4_t3\n",
      "    29. poly4_t2\n",
      "    30. poly4_t1\n",
      "    31. magnitudeRatio\n",
      "    32. lombScargle\n",
      "    33. rcb\n"
     ]
    }
   ],
   "source": [
    "feats = np.array(allDisanto.columns[:-2])\n",
    "print(\"Total number of features: {}\".format(len(feats)))\n",
    "print()\n",
    "print(\"The features are:\")\n",
    "for i,f in enumerate(feats):\n",
    "    print(\"    \"+str(i+1)+\". \" + f)\n"
   ]
  },
  {
   "cell_type": "code",
   "execution_count": 10,
   "metadata": {},
   "outputs": [],
   "source": [
    "allDisanto['binaryClass'] = list(map(lambda x: 0 if x=='non-transient' else 1, allDisanto.Class))"
   ]
  },
  {
   "cell_type": "code",
   "execution_count": 11,
   "metadata": {},
   "outputs": [],
   "source": [
    "disantoFeatures = ['amplitude','beyond1st','flux_percentile_ratio_mid20','flux_percentile_ratio_mid35','flux_percentile_ratio_mid50',\n",
    "                   'flux_percentile_ratio_mid65','flux_percentile_ratio_mid80','poly1_t1','median_absolute_deviation',\n",
    "                   'median_buffer_range_percentage','max_slope','percent_amplitude',\n",
    "                   'percent_difference_flux_percentile','pair_slope_trend_last_30','small_kurtosis','skew','std','magnitudeRatio','lombScargle','rcb']\n",
    "for f in disantoFeatures:\n",
    "    assert f in allDisanto.columns, 'pailas, {} no esta en las cols'.format(f) "
   ]
  },
  {
   "cell_type": "code",
   "execution_count": 12,
   "metadata": {},
   "outputs": [
    {
     "name": "stdout",
     "output_type": "stream",
     "text": [
      "20\n"
     ]
    }
   ],
   "source": [
    "print(len(disantoFeatures))"
   ]
  },
  {
   "cell_type": "code",
   "execution_count": 13,
   "metadata": {},
   "outputs": [],
   "source": [
    "origtrain = pd.read_pickle('./FixedData/Binary/train.pkl')\n",
    "origtest = pd.read_pickle('./FixedData/Binary/test.pkl')"
   ]
  },
  {
   "cell_type": "code",
   "execution_count": 14,
   "metadata": {},
   "outputs": [],
   "source": [
    "train = allDisanto[allDisanto.index.isin(origtrain.index)]\n",
    "test = allDisanto[allDisanto.index.isin(origtest.index)]"
   ]
  },
  {
   "cell_type": "code",
   "execution_count": 15,
   "metadata": {},
   "outputs": [
    {
     "data": {
      "text/plain": [
       "(22790, 36)"
      ]
     },
     "execution_count": 15,
     "metadata": {},
     "output_type": "execute_result"
    }
   ],
   "source": [
    "train.shape"
   ]
  },
  {
   "cell_type": "code",
   "execution_count": 16,
   "metadata": {},
   "outputs": [],
   "source": [
    "assert(train.shape[0] == origtrain.shape[0])\n",
    "assert(test.shape[0] == origtest.shape[0])"
   ]
  },
  {
   "cell_type": "markdown",
   "metadata": {},
   "source": [
    "# Binary Classification \n",
    "Transients and non-transients "
   ]
  },
  {
   "cell_type": "code",
   "execution_count": 17,
   "metadata": {},
   "outputs": [],
   "source": [
    "#hypermarameters that gridsearch will optimize\n",
    "def rf():\n",
    "    params = {\n",
    "        'n_estimators': [200, 700],\n",
    "        'max_features': ['auto', 'sqrt', 'log2']\n",
    "    }\n",
    "    return RandomForestClassifier(random_state=0, class_weight='balanced'), params\n",
    "\n",
    "#metrics to be analized\n",
    "def scorers():\n",
    "    scoring = {'accuracy': make_scorer(accuracy_score),\n",
    "               'precision': make_scorer(precision_score, average='weighted'),\n",
    "               'recall': make_scorer(recall_score, average='weighted'),\n",
    "               'f1_score': make_scorer(f1_score, average='weighted')\n",
    "               }\n",
    "    return scoring"
   ]
  },
  {
   "cell_type": "code",
   "execution_count": 18,
   "metadata": {},
   "outputs": [
    {
     "data": {
      "text/plain": [
       "array([1, 0])"
      ]
     },
     "execution_count": 18,
     "metadata": {},
     "output_type": "execute_result"
    }
   ],
   "source": [
    "allDisanto.binaryClass.unique()\n"
   ]
  },
  {
   "cell_type": "code",
   "execution_count": 19,
   "metadata": {
    "scrolled": true
   },
   "outputs": [
    {
     "name": "stdout",
     "output_type": "stream",
     "text": [
      "Fitting 2 folds for each of 6 candidates, totalling 12 fits\n",
      "[Parallel(n_jobs=1)]: Using backend SequentialBackend with 1 concurrent workers.\n",
      "[CV] max_features=auto, n_estimators=200 .............................\n",
      "[CV]  max_features=auto, n_estimators=200, accuracy=(train=1.000, test=0.913), f1_score=(train=1.000, test=0.913), precision=(train=1.000, test=0.914), recall=(train=1.000, test=0.913), total=   6.3s\n",
      "[Parallel(n_jobs=1)]: Done   1 out of   1 | elapsed:    7.2s remaining:    0.0s\n",
      "[CV] max_features=auto, n_estimators=200 .............................\n",
      "[CV]  max_features=auto, n_estimators=200, accuracy=(train=1.000, test=0.912), f1_score=(train=1.000, test=0.912), precision=(train=1.000, test=0.912), recall=(train=1.000, test=0.912), total=   6.0s\n",
      "[Parallel(n_jobs=1)]: Done   2 out of   2 | elapsed:   14.2s remaining:    0.0s\n",
      "[CV] max_features=auto, n_estimators=700 .............................\n",
      "[CV]  max_features=auto, n_estimators=700, accuracy=(train=1.000, test=0.916), f1_score=(train=1.000, test=0.916), precision=(train=1.000, test=0.916), recall=(train=1.000, test=0.916), total=  21.2s\n",
      "[Parallel(n_jobs=1)]: Done   3 out of   3 | elapsed:   38.5s remaining:    0.0s\n",
      "[CV] max_features=auto, n_estimators=700 .............................\n",
      "[CV]  max_features=auto, n_estimators=700, accuracy=(train=1.000, test=0.913), f1_score=(train=1.000, test=0.913), precision=(train=1.000, test=0.913), recall=(train=1.000, test=0.913), total=  21.3s\n",
      "[Parallel(n_jobs=1)]: Done   4 out of   4 | elapsed:  1.0min remaining:    0.0s\n",
      "[CV] max_features=sqrt, n_estimators=200 .............................\n",
      "[CV]  max_features=sqrt, n_estimators=200, accuracy=(train=1.000, test=0.913), f1_score=(train=1.000, test=0.913), precision=(train=1.000, test=0.914), recall=(train=1.000, test=0.913), total=   6.0s\n",
      "[Parallel(n_jobs=1)]: Done   5 out of   5 | elapsed:  1.2min remaining:    0.0s\n",
      "[CV] max_features=sqrt, n_estimators=200 .............................\n",
      "[CV]  max_features=sqrt, n_estimators=200, accuracy=(train=1.000, test=0.912), f1_score=(train=1.000, test=0.912), precision=(train=1.000, test=0.912), recall=(train=1.000, test=0.912), total=   6.0s\n",
      "[Parallel(n_jobs=1)]: Done   6 out of   6 | elapsed:  1.3min remaining:    0.0s\n",
      "[CV] max_features=sqrt, n_estimators=700 .............................\n",
      "[CV]  max_features=sqrt, n_estimators=700, accuracy=(train=1.000, test=0.916), f1_score=(train=1.000, test=0.916), precision=(train=1.000, test=0.916), recall=(train=1.000, test=0.916), total=  21.4s\n",
      "[Parallel(n_jobs=1)]: Done   7 out of   7 | elapsed:  1.7min remaining:    0.0s\n",
      "[CV] max_features=sqrt, n_estimators=700 .............................\n",
      "[CV]  max_features=sqrt, n_estimators=700, accuracy=(train=1.000, test=0.913), f1_score=(train=1.000, test=0.913), precision=(train=1.000, test=0.913), recall=(train=1.000, test=0.913), total=  20.9s\n",
      "[Parallel(n_jobs=1)]: Done   8 out of   8 | elapsed:  2.1min remaining:    0.0s\n",
      "[CV] max_features=log2, n_estimators=200 .............................\n",
      "[CV]  max_features=log2, n_estimators=200, accuracy=(train=1.000, test=0.913), f1_score=(train=1.000, test=0.913), precision=(train=1.000, test=0.914), recall=(train=1.000, test=0.913), total=   6.0s\n",
      "[Parallel(n_jobs=1)]: Done   9 out of   9 | elapsed:  2.2min remaining:    0.0s\n",
      "[CV] max_features=log2, n_estimators=200 .............................\n",
      "[CV]  max_features=log2, n_estimators=200, accuracy=(train=1.000, test=0.912), f1_score=(train=1.000, test=0.912), precision=(train=1.000, test=0.912), recall=(train=1.000, test=0.912), total=   6.0s\n",
      "[Parallel(n_jobs=1)]: Done  10 out of  10 | elapsed:  2.3min remaining:    0.0s\n",
      "[CV] max_features=log2, n_estimators=700 .............................\n",
      "[CV]  max_features=log2, n_estimators=700, accuracy=(train=1.000, test=0.916), f1_score=(train=1.000, test=0.916), precision=(train=1.000, test=0.916), recall=(train=1.000, test=0.916), total=  21.2s\n",
      "[Parallel(n_jobs=1)]: Done  11 out of  11 | elapsed:  2.7min remaining:    0.0s\n",
      "[CV] max_features=log2, n_estimators=700 .............................\n",
      "[CV]  max_features=log2, n_estimators=700, accuracy=(train=1.000, test=0.913), f1_score=(train=1.000, test=0.913), precision=(train=1.000, test=0.913), recall=(train=1.000, test=0.913), total=  21.0s\n",
      "[Parallel(n_jobs=1)]: Done  12 out of  12 | elapsed:  3.1min remaining:    0.0s\n",
      "[Parallel(n_jobs=1)]: Done  12 out of  12 | elapsed:  3.1min finished\n"
     ]
    },
    {
     "ename": "NameError",
     "evalue": "name 'recall_scores' is not defined",
     "output_type": "error",
     "traceback": [
      "\u001b[0;31m---------------------------------------------------------------------------\u001b[0m",
      "\u001b[0;31mNameError\u001b[0m                                 Traceback (most recent call last)",
      "\u001b[0;32m<ipython-input-19-a85a88399e97>\u001b[0m in \u001b[0;36m<module>\u001b[0;34m\u001b[0m\n\u001b[1;32m     11\u001b[0m scores = precision_recall_fscore_support(\n\u001b[1;32m     12\u001b[0m         test.binaryClass, clf.predict(test[disantoFeatures]), average='weighted')\n\u001b[0;32m---> 13\u001b[0;31m \u001b[0mrecall_scores\u001b[0m\u001b[0;34m.\u001b[0m\u001b[0mappend\u001b[0m\u001b[0;34m(\u001b[0m\u001b[0mscores\u001b[0m\u001b[0;34m)\u001b[0m\u001b[0;34m\u001b[0m\u001b[0;34m\u001b[0m\u001b[0m\n\u001b[0m",
      "\u001b[0;31mNameError\u001b[0m: name 'recall_scores' is not defined"
     ]
    }
   ],
   "source": [
    "#learning \n",
    "model,params = rf()\n",
    "grid_search = GridSearchCV(model, params, cv=StratifiedKFold(2), scoring=scorers(),\n",
    "                           refit='f1_score', return_train_score=True,verbose=100)\n",
    "grid_search.fit(train[disantoFeatures], train.binaryClass)\n",
    "\n",
    "# Copy classifier \n",
    "clf = grid_search\n",
    "\n",
    "#see performance on test set\n",
    "scores = precision_recall_fscore_support(\n",
    "        test.binaryClass, clf.predict(test[disantoFeatures]), average='weighted')\n",
    "recall_scores.append(scores)"
   ]
  },
  {
   "cell_type": "code",
   "execution_count": 20,
   "metadata": {},
   "outputs": [
    {
     "ename": "NameError",
     "evalue": "name 'recall_scores' is not defined",
     "output_type": "error",
     "traceback": [
      "\u001b[0;31m---------------------------------------------------------------------------\u001b[0m",
      "\u001b[0;31mNameError\u001b[0m                                 Traceback (most recent call last)",
      "\u001b[0;32m<ipython-input-20-25b5b86fd5f1>\u001b[0m in \u001b[0;36m<module>\u001b[0;34m\u001b[0m\n\u001b[0;32m----> 1\u001b[0;31m \u001b[0mrecall_scoresnp\u001b[0m \u001b[0;34m=\u001b[0m \u001b[0mnp\u001b[0m\u001b[0;34m.\u001b[0m\u001b[0marray\u001b[0m\u001b[0;34m(\u001b[0m\u001b[0mrecall_scores\u001b[0m\u001b[0;34m)\u001b[0m\u001b[0;34m\u001b[0m\u001b[0;34m\u001b[0m\u001b[0m\n\u001b[0m\u001b[1;32m      2\u001b[0m \u001b[0;34m\u001b[0m\u001b[0m\n\u001b[1;32m      3\u001b[0m \u001b[0mprint\u001b[0m\u001b[0;34m(\u001b[0m\u001b[0;34m\"Precision: {:.4f}\"\u001b[0m\u001b[0;34m.\u001b[0m\u001b[0mformat\u001b[0m\u001b[0;34m(\u001b[0m\u001b[0mnp\u001b[0m\u001b[0;34m.\u001b[0m\u001b[0mmean\u001b[0m\u001b[0;34m(\u001b[0m\u001b[0mrecall_scoresnp\u001b[0m\u001b[0;34m[\u001b[0m\u001b[0;34m:\u001b[0m\u001b[0;34m,\u001b[0m\u001b[0;36m0\u001b[0m\u001b[0;34m]\u001b[0m\u001b[0;34m)\u001b[0m\u001b[0;34m)\u001b[0m\u001b[0;34m)\u001b[0m\u001b[0;34m\u001b[0m\u001b[0;34m\u001b[0m\u001b[0m\n\u001b[1;32m      4\u001b[0m \u001b[0mprint\u001b[0m\u001b[0;34m(\u001b[0m\u001b[0;34m\"Recall:    {:.4f}\"\u001b[0m\u001b[0;34m.\u001b[0m\u001b[0mformat\u001b[0m\u001b[0;34m(\u001b[0m\u001b[0mnp\u001b[0m\u001b[0;34m.\u001b[0m\u001b[0mmean\u001b[0m\u001b[0;34m(\u001b[0m\u001b[0mrecall_scoresnp\u001b[0m\u001b[0;34m[\u001b[0m\u001b[0;34m:\u001b[0m\u001b[0;34m,\u001b[0m\u001b[0;36m1\u001b[0m\u001b[0;34m]\u001b[0m\u001b[0;34m)\u001b[0m\u001b[0;34m)\u001b[0m\u001b[0;34m)\u001b[0m\u001b[0;34m\u001b[0m\u001b[0;34m\u001b[0m\u001b[0m\n\u001b[1;32m      5\u001b[0m \u001b[0mprint\u001b[0m\u001b[0;34m(\u001b[0m\u001b[0;34m\"F-score:   {:.4f}\"\u001b[0m\u001b[0;34m.\u001b[0m\u001b[0mformat\u001b[0m\u001b[0;34m(\u001b[0m\u001b[0mnp\u001b[0m\u001b[0;34m.\u001b[0m\u001b[0mmean\u001b[0m\u001b[0;34m(\u001b[0m\u001b[0mrecall_scoresnp\u001b[0m\u001b[0;34m[\u001b[0m\u001b[0;34m:\u001b[0m\u001b[0;34m,\u001b[0m\u001b[0;36m2\u001b[0m\u001b[0;34m]\u001b[0m\u001b[0;34m)\u001b[0m\u001b[0;34m)\u001b[0m\u001b[0;34m)\u001b[0m\u001b[0;34m\u001b[0m\u001b[0;34m\u001b[0m\u001b[0m\n",
      "\u001b[0;31mNameError\u001b[0m: name 'recall_scores' is not defined"
     ]
    }
   ],
   "source": [
    "recall_scoresnp = np.array(recall_scores)\n",
    "\n",
    "print(\"Precision: {:.4f}\".format(np.mean(recall_scoresnp[:,0])))\n",
    "print(\"Recall:    {:.4f}\".format(np.mean(recall_scoresnp[:,1])))\n",
    "print(\"F-score:   {:.4f}\".format(np.mean(recall_scoresnp[:,2])))"
   ]
  },
  {
   "cell_type": "code",
   "execution_count": 21,
   "metadata": {},
   "outputs": [],
   "source": [
    "#calculate feature importance in descending order\n",
    "importances = clf.best_estimator_.feature_importances_*100\n",
    "featsCopy = disantoFeatures.copy()\n",
    "\n",
    "Y = list(importances)\n",
    "X = list(featsCopy)\n",
    "\n",
    "yx = list(zip(Y, X))\n",
    "yx.sort()\n",
    "\n",
    "yx = yx[::-1]\n",
    "\n",
    "x_sorted = [x for y, x in yx]\n",
    "y_sorted = [y for y, x in yx]\n"
   ]
  },
  {
   "cell_type": "code",
   "execution_count": 22,
   "metadata": {},
   "outputs": [
    {
     "data": {
      "text/plain": [
       "array([ 8.25494375,  2.20271499,  1.32586374,  1.46415954,  1.69282231,\n",
       "        1.71977283,  1.84514267,  8.13064448, 11.11407716,  3.69909507,\n",
       "        2.54833807,  3.209988  ,  3.43468388,  2.05931132,  4.54877454,\n",
       "        4.43452939, 14.0154986 ,  8.13112345,  4.108561  , 12.0599552 ])"
      ]
     },
     "execution_count": 22,
     "metadata": {},
     "output_type": "execute_result"
    }
   ],
   "source": [
    "importances"
   ]
  },
  {
   "cell_type": "code",
   "execution_count": 23,
   "metadata": {},
   "outputs": [
    {
     "name": "stdout",
     "output_type": "stream",
     "text": [
      "20\n",
      "20\n",
      "['amplitude', 'beyond1st', 'flux_percentile_ratio_mid20', 'flux_percentile_ratio_mid35', 'flux_percentile_ratio_mid50', 'flux_percentile_ratio_mid65', 'flux_percentile_ratio_mid80', 'poly1_t1', 'median_absolute_deviation', 'median_buffer_range_percentage', 'max_slope', 'percent_amplitude', 'percent_difference_flux_percentile', 'pair_slope_trend_last_30', 'small_kurtosis', 'skew', 'std', 'magnitudeRatio', 'lombScargle', 'rcb']\n"
     ]
    }
   ],
   "source": [
    "print(len(disantoFeatures))\n",
    "print(len(x_sorted))\n",
    "print(disantoFeatures)"
   ]
  },
  {
   "cell_type": "code",
   "execution_count": 24,
   "metadata": {},
   "outputs": [],
   "source": [
    " def shorten(x):\n",
    "    return {\n",
    "      'stetson_j':'stetson_j',\n",
    "      'std':'std',\n",
    "      'median_absolute_deviation':'mad',\n",
    "      'amplitude':'amp',\n",
    "      'poly1_t1':'poly1_t1',\n",
    "      'poly2_t1':'poly2_t1',\n",
    "      'skew':'skew',\n",
    "      'poly3_t1':'poly3_t1',\n",
    "      'small_kurtosis':'sk',\n",
    "      'stetson_k':'stetson_k',\n",
    "      'median_buffer_range_percentage':'mbrp',\n",
    "      'percent_amplitude': 'p_amp',\n",
    "      'percent_difference_flux_percentile':'pdfp',\n",
    "      'poly4_t1':'poly4_t1',\n",
    "      'poly3_t2':'poly3_t2',\n",
    "      'poly4_t2':'poly4_t2',\n",
    "      'max_slope':'max_slope',\n",
    "      'kurtosis':'kurtosis',\n",
    "      'pair_slope_trend':'pst',\n",
    "      'poly2_t2':'poly2_t2',\n",
    "      'beyond1st':'beyond1st',\n",
    "      'flux_percentile_ratio_mid35':'fpr35',\n",
    "      'flux_percentile_ratio_mid50':'fpr50',\n",
    "      'flux_percentile_ratio_mid65':'fpr65',\n",
    "      'flux_percentile_ratio_mid20':'fpr20',\n",
    "      'flux_percentile_ratio_mid80':'fpr80',\n",
    "      'pair_slope_trend_last_30':'pst_last30',\n",
    "      'poly3_t3':'poly3_t3',\n",
    "      'poly4_t3':'poly4_t3',\n",
    "      'poly4_t4':'poly4_t4',\n",
    "      'magnitudeRatio':'mr',\n",
    "      'lombScargle':'ls',\n",
    "      'rcb':'rcb'\n",
    "      }[x]"
   ]
  },
  {
   "cell_type": "code",
   "execution_count": 25,
   "metadata": {},
   "outputs": [],
   "source": [
    "#shorten name length\n",
    "for i,x in enumerate(x_sorted):\n",
    "    x_sorted[i]=shorten(x)"
   ]
  },
  {
   "cell_type": "code",
   "execution_count": 26,
   "metadata": {},
   "outputs": [
    {
     "name": "stdout",
     "output_type": "stream",
     "text": [
      "20\n"
     ]
    }
   ],
   "source": [
    "print(len(x_sorted))"
   ]
  },
  {
   "cell_type": "code",
   "execution_count": 27,
   "metadata": {},
   "outputs": [
    {
     "data": {
      "text/plain": [
       "['std',\n",
       " 'rcb',\n",
       " 'mad',\n",
       " 'amp',\n",
       " 'mr',\n",
       " 'poly1_t1',\n",
       " 'sk',\n",
       " 'skew',\n",
       " 'ls',\n",
       " 'mbrp',\n",
       " 'pdfp',\n",
       " 'p_amp',\n",
       " 'max_slope',\n",
       " 'beyond1st',\n",
       " 'pst_last30',\n",
       " 'fpr80',\n",
       " 'fpr65',\n",
       " 'fpr50',\n",
       " 'fpr35',\n",
       " 'fpr20']"
      ]
     },
     "execution_count": 27,
     "metadata": {},
     "output_type": "execute_result"
    }
   ],
   "source": [
    "x_sorted"
   ]
  },
  {
   "cell_type": "code",
   "execution_count": 29,
   "metadata": {},
   "outputs": [
    {
     "name": "stdout",
     "output_type": "stream",
     "text": [
      "20\n",
      "20\n"
     ]
    },
    {
     "data": {
      "image/png": "[encoded data removed]",
      "text/plain": [
       "<Figure size 1008x576 with 1 Axes>"
      ]
     },
     "metadata": {
      "needs_background": "light"
     },
     "output_type": "display_data"
    }
   ],
   "source": [
    "\n",
    "print(len(x_sorted))\n",
    "print(len(y_sorted))\n",
    "plt.rcParams[\"font.family\"] = \"Times New Roman\"\n",
    "fig = plt.figure(figsize=(14,8))\n",
    "plt.gcf().subplots_adjust(bottom=0.15)\n",
    "plt.bar(np.arange(len(y_sorted)), y_sorted,edgecolor='black',color='firebrick')\n",
    "plt.xticks(np.arange(len(y_sorted)), x_sorted,rotation='vertical')\n",
    "plt.xlabel('Features')\n",
    "plt.ylabel('Feature importance(%)')\n",
    "plt.title(\"Binary Classification\")\n",
    "plt.savefig(\"../results/binFeatImportanceDisanto.pdf\")"
   ]
  },
  {
   "cell_type": "code",
   "execution_count": 30,
   "metadata": {},
   "outputs": [
    {
     "data": {
      "text/plain": [
       "array([[3533,  232],\n",
       "       [ 265,  835]])"
      ]
     },
     "execution_count": 30,
     "metadata": {},
     "output_type": "execute_result"
    }
   ],
   "source": [
    "cm = confusion_matrix(test.binaryClass, clf.predict(test[disantoFeatures])).transpose()\n",
    "cm"
   ]
  },
  {
   "cell_type": "code",
   "execution_count": 31,
   "metadata": {},
   "outputs": [],
   "source": [
    "def fMeasure(precision,recall):\n",
    "    return 2*precision*recall/(precision+recall)"
   ]
  },
  {
   "cell_type": "code",
   "execution_count": 32,
   "metadata": {},
   "outputs": [],
   "source": [
    "precisionNon = cm[0][0]/(cm[0][0]+cm[0][1])\n",
    "recallNon = cm[0][0]/(cm[0][0]+cm[1][0])\n",
    "precisionT = cm[1][1]/(cm[1][1]+cm[1][0])\n",
    "recallT = cm[1][1]/(cm[1][1]+cm[0][1])"
   ]
  },
  {
   "cell_type": "code",
   "execution_count": 33,
   "metadata": {},
   "outputs": [
    {
     "name": "stdout",
     "output_type": "stream",
     "text": [
      "Precision of transients:     0.7591\n",
      "Recall of transients:        0.7826\n",
      "F-measure of transients:     0.7707\n",
      "Precision of non-transients: 0.9384\n",
      "Recall of non-transients:    0.9302\n",
      "F-measure of non-transients: 0.9343\n"
     ]
    }
   ],
   "source": [
    "print(\"Precision of transients:     {:.4f}\".format(precisionT))\n",
    "print(\"Recall of transients:        {:.4f}\".format(recallT))\n",
    "print(\"F-measure of transients:     {:.4f}\".format(fMeasure(precisionT,recallT)))\n",
    "print(\"Precision of non-transients: {:.4f}\".format(precisionNon))\n",
    "print(\"Recall of non-transients:    {:.4f}\".format(recallNon))\n",
    "print(\"F-measure of non-transients: {:.4f}\".format(fMeasure(precisionNon,recallNon)))\n"
   ]
  },
  {
   "cell_type": "markdown",
   "metadata": {},
   "source": [
    "# 8-Class clasification"
   ]
  },
  {
   "cell_type": "code",
   "execution_count": 34,
   "metadata": {},
   "outputs": [],
   "source": [
    "# main 6 transient classes\n",
    "labels = ['SN', 'CV', 'AGN', 'HPM', 'Blazar', 'Flare']\n"
   ]
  },
  {
   "cell_type": "code",
   "execution_count": 35,
   "metadata": {},
   "outputs": [],
   "source": [
    "# func to map labels to integer values\n",
    "def manualFact(lab):\n",
    "    labels = ['SN', 'CV', 'AGN', 'HPM', 'Blazar', 'Flare','Other','non-transient']\n",
    "    return labels.index(lab)"
   ]
  },
  {
   "cell_type": "code",
   "execution_count": 36,
   "metadata": {},
   "outputs": [],
   "source": [
    "origTrain = pd.read_pickle('./FixedData/8Class/train.pkl')\n",
    "origTest = pd.read_pickle('./FixedData/8Class/test.pkl')"
   ]
  },
  {
   "cell_type": "code",
   "execution_count": 37,
   "metadata": {},
   "outputs": [],
   "source": [
    "train = origTrain[['target']].merge(allDisanto, left_index=True, right_index=True)\n",
    "test = origTest[['target']].merge(allDisanto, left_index=True, right_index=True)\n"
   ]
  },
  {
   "cell_type": "code",
   "execution_count": null,
   "metadata": {},
   "outputs": [],
   "source": []
  },
  {
   "cell_type": "code",
   "execution_count": 38,
   "metadata": {},
   "outputs": [],
   "source": [
    "assert(train.shape[0] == origTrain.shape[0])\n",
    "assert(test.shape[0] == origTest.shape[0])"
   ]
  },
  {
   "cell_type": "code",
   "execution_count": 39,
   "metadata": {
    "scrolled": true
   },
   "outputs": [
    {
     "name": "stdout",
     "output_type": "stream",
     "text": [
      "Fitting 2 folds for each of 6 candidates, totalling 12 fits\n",
      "[Parallel(n_jobs=1)]: Using backend SequentialBackend with 1 concurrent workers.\n",
      "[CV] max_features=auto, n_estimators=200 .............................\n",
      "[CV]  max_features=auto, n_estimators=200, accuracy=(train=1.000, test=0.751), f1_score=(train=1.000, test=0.749), precision=(train=1.000, test=0.749), recall=(train=1.000, test=0.751), total=   5.9s\n",
      "[Parallel(n_jobs=1)]: Done   1 out of   1 | elapsed:    6.8s remaining:    0.0s\n",
      "[CV] max_features=auto, n_estimators=200 .............................\n",
      "[CV]  max_features=auto, n_estimators=200, accuracy=(train=1.000, test=0.756), f1_score=(train=1.000, test=0.754), precision=(train=1.000, test=0.756), recall=(train=1.000, test=0.756), total=   4.8s\n",
      "[Parallel(n_jobs=1)]: Done   2 out of   2 | elapsed:   12.5s remaining:    0.0s\n",
      "[CV] max_features=auto, n_estimators=700 .............................\n",
      "[CV]  max_features=auto, n_estimators=700, accuracy=(train=1.000, test=0.757), f1_score=(train=1.000, test=0.754), precision=(train=1.000, test=0.755), recall=(train=1.000, test=0.757), total=  18.8s\n",
      "[Parallel(n_jobs=1)]: Done   3 out of   3 | elapsed:   35.6s remaining:    0.0s\n",
      "[CV] max_features=auto, n_estimators=700 .............................\n",
      "[CV]  max_features=auto, n_estimators=700, accuracy=(train=1.000, test=0.759), f1_score=(train=1.000, test=0.757), precision=(train=1.000, test=0.759), recall=(train=1.000, test=0.759), total=  19.8s\n",
      "[Parallel(n_jobs=1)]: Done   4 out of   4 | elapsed:   58.4s remaining:    0.0s\n",
      "[CV] max_features=sqrt, n_estimators=200 .............................\n",
      "[CV]  max_features=sqrt, n_estimators=200, accuracy=(train=1.000, test=0.751), f1_score=(train=1.000, test=0.749), precision=(train=1.000, test=0.749), recall=(train=1.000, test=0.751), total=   4.6s\n",
      "[Parallel(n_jobs=1)]: Done   5 out of   5 | elapsed:  1.1min remaining:    0.0s\n",
      "[CV] max_features=sqrt, n_estimators=200 .............................\n",
      "[CV]  max_features=sqrt, n_estimators=200, accuracy=(train=1.000, test=0.756), f1_score=(train=1.000, test=0.754), precision=(train=1.000, test=0.756), recall=(train=1.000, test=0.756), total=   4.8s\n",
      "[Parallel(n_jobs=1)]: Done   6 out of   6 | elapsed:  1.2min remaining:    0.0s\n",
      "[CV] max_features=sqrt, n_estimators=700 .............................\n",
      "[CV]  max_features=sqrt, n_estimators=700, accuracy=(train=1.000, test=0.757), f1_score=(train=1.000, test=0.754), precision=(train=1.000, test=0.755), recall=(train=1.000, test=0.757), total=  16.3s\n",
      "[Parallel(n_jobs=1)]: Done   7 out of   7 | elapsed:  1.5min remaining:    0.0s\n",
      "[CV] max_features=sqrt, n_estimators=700 .............................\n",
      "[CV]  max_features=sqrt, n_estimators=700, accuracy=(train=1.000, test=0.759), f1_score=(train=1.000, test=0.757), precision=(train=1.000, test=0.759), recall=(train=1.000, test=0.759), total=  16.4s\n",
      "[Parallel(n_jobs=1)]: Done   8 out of   8 | elapsed:  1.8min remaining:    0.0s\n",
      "[CV] max_features=log2, n_estimators=200 .............................\n",
      "[CV]  max_features=log2, n_estimators=200, accuracy=(train=1.000, test=0.751), f1_score=(train=1.000, test=0.749), precision=(train=1.000, test=0.749), recall=(train=1.000, test=0.751), total=   4.6s\n",
      "[Parallel(n_jobs=1)]: Done   9 out of   9 | elapsed:  1.9min remaining:    0.0s\n",
      "[CV] max_features=log2, n_estimators=200 .............................\n",
      "[CV]  max_features=log2, n_estimators=200, accuracy=(train=1.000, test=0.756), f1_score=(train=1.000, test=0.754), precision=(train=1.000, test=0.756), recall=(train=1.000, test=0.756), total=   5.0s\n",
      "[Parallel(n_jobs=1)]: Done  10 out of  10 | elapsed:  2.0min remaining:    0.0s\n",
      "[CV] max_features=log2, n_estimators=700 .............................\n",
      "[CV]  max_features=log2, n_estimators=700, accuracy=(train=1.000, test=0.757), f1_score=(train=1.000, test=0.754), precision=(train=1.000, test=0.755), recall=(train=1.000, test=0.757), total=  16.3s\n",
      "[Parallel(n_jobs=1)]: Done  11 out of  11 | elapsed:  2.3min remaining:    0.0s\n",
      "[CV] max_features=log2, n_estimators=700 .............................\n",
      "[CV]  max_features=log2, n_estimators=700, accuracy=(train=1.000, test=0.759), f1_score=(train=1.000, test=0.757), precision=(train=1.000, test=0.759), recall=(train=1.000, test=0.759), total=  17.0s\n",
      "[Parallel(n_jobs=1)]: Done  12 out of  12 | elapsed:  2.6min remaining:    0.0s\n",
      "[Parallel(n_jobs=1)]: Done  12 out of  12 | elapsed:  2.6min finished\n"
     ]
    }
   ],
   "source": [
    "recall_scores = []\n",
    "model,params = rf()\n",
    "grid_search = GridSearchCV(model, params, cv=StratifiedKFold(2), scoring=scorers(),\n",
    "                           refit='f1_score', return_train_score=True,verbose=100)\n",
    "grid_search.fit(train[disantoFeatures], train.target)\n",
    "# Copy classifier\n",
    "clf = grid_search\n",
    "\n",
    "scores = precision_recall_fscore_support(\n",
    "        test.target, clf.predict(test[disantoFeatures]), average='weighted')\n",
    "\n",
    "\n",
    "recall_scores.append(scores)"
   ]
  },
  {
   "cell_type": "code",
   "execution_count": 40,
   "metadata": {},
   "outputs": [
    {
     "name": "stdout",
     "output_type": "stream",
     "text": [
      "Precision: 0.8449\n",
      "Recall:    0.7367\n",
      "F-score:   0.7776\n"
     ]
    }
   ],
   "source": [
    "recall_scoresnp = np.array(recall_scores)\n",
    "\n",
    "print(\"Precision: {:.4f}\".format(np.mean(recall_scoresnp[:,0])))\n",
    "print(\"Recall:    {:.4f}\".format(np.mean(recall_scoresnp[:,1])))\n",
    "print(\"F-score:   {:.4f}\".format(np.mean(recall_scoresnp[:,2])))"
   ]
  },
  {
   "cell_type": "code",
   "execution_count": 41,
   "metadata": {},
   "outputs": [
    {
     "name": "stdout",
     "output_type": "stream",
     "text": [
      "[[ 142   20    0    0    6    5   32  103]\n",
      " [  22  158    1    1    8    2   14   48]\n",
      " [   6    2   92    0    9    1   38   44]\n",
      " [   2    1    0   61    0    0    3  160]\n",
      " [  12    5    3    0   27    0   10   13]\n",
      " [  19    9    1    0    1   22    6  304]\n",
      " [  67   16    6    1    6    6  108  154]\n",
      " [  53    4    3   13    2   15   23 2972]]\n"
     ]
    }
   ],
   "source": [
    "confMatr = confusion_matrix(test.target, clf.predict(test[disantoFeatures])).transpose()\n",
    "print(confMatr)\n",
    "# 'SN', 'CV', 'AGN', 'HPM', 'Blazar', 'Flare','Other','non-transient'"
   ]
  },
  {
   "cell_type": "code",
   "execution_count": 42,
   "metadata": {},
   "outputs": [
    {
     "name": "stdout",
     "output_type": "stream",
     "text": [
      "[[0 0 0 0 0 0 0 0]\n",
      " [0 0 0 0 0 0 0 0]\n",
      " [0 0 0 0 0 0 0 0]\n",
      " [0 0 0 0 0 0 0 0]\n",
      " [0 0 0 0 0 0 0 0]\n",
      " [0 0 0 0 0 0 0 0]\n",
      " [0 0 0 0 0 0 0 0]\n",
      " [0 0 0 0 0 0 0 0]]\n"
     ]
    }
   ],
   "source": [
    "normedMatrix = confMatr.copy()\n",
    "# print(normedMatrix)\n",
    "for i in range(len(normedMatrix)):\n",
    "#     print(normedMatrix[:,i]/normedMatrix[:,i].sum())\n",
    "    normedMatrix[:,i] = normedMatrix[:,i]/normedMatrix[:,i].sum()\n",
    "#     print(normedMatrix[:,i])\n",
    "# np.set_printoptions(suppress=True)\n",
    "print(normedMatrix)\n",
    "# np.set_printoptions(suppress=False)"
   ]
  },
  {
   "cell_type": "code",
   "execution_count": 43,
   "metadata": {},
   "outputs": [],
   "source": [
    "newMatr = []\n",
    "for i in range(len(confMatr)):\n",
    "    prec = confMatr[i][i]/(sum(confMatr[i,:]))\n",
    "    rec = confMatr[i][i]/(sum(confMatr[:,i]))\n",
    "    newMatr.append([prec,rec,fMeasure(prec,rec),sum(confMatr[:,i])])"
   ]
  },
  {
   "cell_type": "code",
   "execution_count": 48,
   "metadata": {},
   "outputs": [
    {
     "name": "stdout",
     "output_type": "stream",
     "text": [
      "    Precision        Recall         F-score      Cover\n",
      "[[   0.46103896    0.43962848    0.45007924  323.        ]\n",
      " [   0.62204724    0.73488372    0.67377399  215.        ]\n",
      " [   0.47916667    0.86792453    0.61744966  106.        ]\n",
      " [   0.26872247    0.80263158    0.40264026   76.        ]\n",
      " [   0.38571429    0.45762712    0.41860465   59.        ]\n",
      " [   0.06077348    0.43137255    0.10653753   51.        ]\n",
      " [   0.2967033     0.46153846    0.36120401  234.        ]\n",
      " [   0.96337115    0.78251711    0.86357693 3798.        ]]\n"
     ]
    }
   ],
   "source": [
    "np.set_printoptions(suppress=True)\n",
    "print('    Precision        Recall         F-score      Cover')\n",
    "print(np.array(newMatr))\n",
    "np.set_printoptions(suppress=False)"
   ]
  },
  {
   "cell_type": "code",
   "execution_count": 49,
   "metadata": {},
   "outputs": [],
   "source": [
    "importances = clf.best_estimator_.feature_importances_*100\n",
    "featsCopy = disantoFeatures.copy()\n",
    "\n",
    "Y = list(importances)\n",
    "X = list(featsCopy)\n",
    "\n",
    "yx = list(zip(Y, X))\n",
    "\n",
    "yx.sort()\n",
    "# yx = yx[::-1]\n",
    "yx = yx[::-1]\n",
    "\n",
    "\n",
    "\n",
    "x_sorted = [x for y, x in yx]\n",
    "y_sorted = [y for y, x in yx]\n"
   ]
  },
  {
   "cell_type": "code",
   "execution_count": 50,
   "metadata": {},
   "outputs": [],
   "source": [
    "for i,x in enumerate(x_sorted):\n",
    "    x_sorted[i]=shorten(x)"
   ]
  },
  {
   "cell_type": "code",
   "execution_count": 52,
   "metadata": {},
   "outputs": [
    {
     "data": {
      "image/png": "[encoded data removed]",
      "text/plain": [
       "<Figure size 1008x576 with 1 Axes>"
      ]
     },
     "metadata": {
      "needs_background": "light"
     },
     "output_type": "display_data"
    }
   ],
   "source": [
    "# from matplotlib.font_manager import FontProperties\n",
    "# font = FontProperties()\n",
    "# font.set_family('sans-serif')\n",
    "# font.set_style('normal')\n",
    "\n",
    "plt.rcParams[\"font.family\"] = \"Times New Roman\"\n",
    "fig = plt.figure(figsize=(14,8))\n",
    "plt.gcf().subplots_adjust(bottom=0.15)\n",
    "plt.bar(np.arange(len(y_sorted)), y_sorted,edgecolor='black',color='#008000')\n",
    "plt.xticks(np.arange(len(y_sorted)), x_sorted,rotation='vertical')\n",
    "plt.xlabel('Features')\n",
    "plt.ylabel('Feature importance(%)')\n",
    "plt.title(\"8-Class Classification\")\n",
    "plt.savefig(\"../results/8clasFeatImportanceDisanto.pdf\")"
   ]
  },
  {
   "cell_type": "code",
   "execution_count": null,
   "metadata": {},
   "outputs": [],
   "source": []
  }
 ],
 "metadata": {
  "kernelspec": {
   "display_name": "Python 3",
   "language": "python",
   "name": "python3"
  },
  "language_info": {
   "codemirror_mode": {
    "name": "ipython",
    "version": 3
   },
   "file_extension": ".py",
   "mimetype": "text/x-python",
   "name": "python",
   "nbconvert_exporter": "python",
   "pygments_lexer": "ipython3",
   "version": "3.7.3"
  }
 },
 "nbformat": 4,
 "nbformat_minor": 4
}
