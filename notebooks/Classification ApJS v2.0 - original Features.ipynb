{
 "cells": [
  {
   "cell_type": "code",
   "execution_count": 1,
   "metadata": {},
   "outputs": [],
   "source": [
    "from sklearn.ensemble import RandomForestClassifier\n",
    "import sklearn.metrics\n",
    "import pandas as pd\n",
    "import numpy as np\n",
    "np.random.seed(0)\n",
    "from sklearn.model_selection import GridSearchCV, StratifiedKFold  # , cross_val_score\n",
    "from sklearn.metrics import make_scorer, accuracy_score, precision_score, recall_score, f1_score, precision_recall_fscore_support, confusion_matrix  # , classification_report\n",
    "from sklearn.model_selection import train_test_split\n",
    "\n",
    "from sklearn.metrics import precision_recall_curve\n",
    "import matplotlib.pyplot as plt\n",
    "from sklearn.metrics import average_precision_score\n",
    "from scipy import integrate\n",
    "from sklearn.metrics import recall_score\n",
    "from sklearn.metrics import precision_recall_fscore_support,make_scorer\n",
    "from sklearn.metrics import confusion_matrix\n",
    "\n",
    "from splitTrainTest import splitTrainTest\n",
    "from rfClassifier import RFClassifier\n",
    "from manageResults import plotFeatImportances\n",
    "import os\n",
    "import pickle\n"
   ]
  },
  {
   "cell_type": "code",
   "execution_count": 2,
   "metadata": {},
   "outputs": [
    {
     "name": "stderr",
     "output_type": "stream",
     "text": [
      "/home/mauro/Documents/work/BCV/astro/CRTS-transient-recognition-revised/notebooks/splitTrainTest.py:68: SettingWithCopyWarning: \n",
      "A value is trying to be set on a copy of a slice from a DataFrame.\n",
      "Try using .loc[row_indexer,col_indexer] = value instead\n",
      "\n",
      "See the caveats in the documentation: http://pandas.pydata.org/pandas-docs/stable/user_guide/indexing.html#returning-a-view-versus-a-copy\n",
      "  TTest['set'] = 'test'\n",
      "/home/mauro/Documents/work/BCV/astro/CRTS-transient-recognition-revised/notebooks/splitTrainTest.py:69: SettingWithCopyWarning: \n",
      "A value is trying to be set on a copy of a slice from a DataFrame.\n",
      "Try using .loc[row_indexer,col_indexer] = value instead\n",
      "\n",
      "See the caveats in the documentation: http://pandas.pydata.org/pandas-docs/stable/user_guide/indexing.html#returning-a-view-versus-a-copy\n",
      "  TTrain['set'] = 'train'\n",
      "/home/mauro/Documents/work/BCV/astro/CRTS-transient-recognition-revised/notebooks/splitTrainTest.py:173: SettingWithCopyWarning: \n",
      "A value is trying to be set on a copy of a slice from a DataFrame.\n",
      "Try using .loc[row_indexer,col_indexer] = value instead\n",
      "\n",
      "See the caveats in the documentation: http://pandas.pydata.org/pandas-docs/stable/user_guide/indexing.html#returning-a-view-versus-a-copy\n",
      "  NTTrain['set'] = 'train'\n",
      "/home/mauro/Documents/work/BCV/astro/CRTS-transient-recognition-revised/notebooks/splitTrainTest.py:174: SettingWithCopyWarning: \n",
      "A value is trying to be set on a copy of a slice from a DataFrame.\n",
      "Try using .loc[row_indexer,col_indexer] = value instead\n",
      "\n",
      "See the caveats in the documentation: http://pandas.pydata.org/pandas-docs/stable/user_guide/indexing.html#returning-a-view-versus-a-copy\n",
      "  NTTest['set'] = 'test'\n"
     ]
    }
   ],
   "source": [
    "binTest,binTrain = splitTrainTest('binary')"
   ]
  },
  {
   "cell_type": "code",
   "execution_count": 3,
   "metadata": {},
   "outputs": [],
   "source": [
    "allFeatures = [ 'skew',\n",
    "                'std',\n",
    "                'kurtosis',\n",
    "                'beyond1st',\n",
    "                'stetson_j',\n",
    "                'stetson_k',\n",
    "                'max_slope',\n",
    "                'amplitude',\n",
    "                'median_absolute_deviation',\n",
    "                'median_buffer_range_percentage',\n",
    "                'pair_slope_trend',\n",
    "                'percent_amplitude',\n",
    "                'percent_difference_flux_percentile',\n",
    "                'flux_percentile_ratio_mid20',\n",
    "                'flux_percentile_ratio_mid35',\n",
    "                'flux_percentile_ratio_mid50',\n",
    "                'flux_percentile_ratio_mid65',\n",
    "                'flux_percentile_ratio_mid80',\n",
    "                'small_kurtosis',\n",
    "                'pair_slope_trend_last_30',\n",
    "                'poly1_t1',\n",
    "                'poly2_t2',\n",
    "                'poly2_t1',\n",
    "                'poly3_t3',\n",
    "                'poly3_t2',\n",
    "                'poly3_t1',\n",
    "                'poly4_t4',\n",
    "                'poly4_t3',\n",
    "                'poly4_t2',\n",
    "                'poly4_t1',\n",
    "                'magnitudeRatio',\n",
    "                'lombScargle',\n",
    "                'rcb']\n",
    "\n",
    "disantoFeatures = ['amplitude','beyond1st','flux_percentile_ratio_mid20','flux_percentile_ratio_mid35','flux_percentile_ratio_mid50',\n",
    "                   'flux_percentile_ratio_mid65','flux_percentile_ratio_mid80','poly1_t1','median_absolute_deviation',\n",
    "                   'median_buffer_range_percentage','max_slope','percent_amplitude',\n",
    "                   'percent_difference_flux_percentile','pair_slope_trend_last_30','small_kurtosis','skew','std','magnitudeRatio','lombScargle','rcb']\n",
    "\n",
    "ourFeatures = [ 'beyond1st',\n",
    "                'kurtosis',\n",
    "                'skew',\n",
    "                'small_kurtosis',\n",
    "                'std',\n",
    "                'stetson_j',\n",
    "                'stetson_k',\n",
    "                'amplitude',\n",
    "                'max_slope',\n",
    "                'median_absolute_deviation',\n",
    "                'median_buffer_range_percentage',\n",
    "                'pair_slope_trend',\n",
    "                'pair_slope_trend_last_30',\n",
    "                'percent_amplitude',\n",
    "                'percent_difference_flux_percentile',\n",
    "                'flux_percentile_ratio_mid20',\n",
    "                'flux_percentile_ratio_mid35',\n",
    "                'flux_percentile_ratio_mid50',\n",
    "                'flux_percentile_ratio_mid65',\n",
    "                'flux_percentile_ratio_mid80',\n",
    "                'poly1_t1',\n",
    "                'poly2_t2',\n",
    "                'poly2_t1',\n",
    "                'poly3_t3',\n",
    "                'poly3_t2',\n",
    "                'poly3_t1',\n",
    "                'poly4_t4',\n",
    "                'poly4_t3',\n",
    "                'poly4_t2',\n",
    "                'poly4_t1']"
   ]
  },
  {
   "cell_type": "code",
   "execution_count": 4,
   "metadata": {},
   "outputs": [],
   "source": [
    "masterDict = {'allFeatures':{'features':allFeatures},\n",
    "              'disantoFeatures':{'features':disantoFeatures},\n",
    "              'ourFeatures':{'features':ourFeatures}}"
   ]
  },
  {
   "cell_type": "markdown",
   "metadata": {},
   "source": [
    "# Binary Classification \n",
    "Transients and non-transients "
   ]
  },
  {
   "cell_type": "code",
   "execution_count": 5,
   "metadata": {},
   "outputs": [],
   "source": [
    "rfHyperparams = {\n",
    "                    'n_estimators': [200, 700],\n",
    "                    'max_features': ['auto', 'sqrt', 'log2']\n",
    "                }"
   ]
  },
  {
   "cell_type": "code",
   "execution_count": null,
   "metadata": {
    "scrolled": true
   },
   "outputs": [
    {
     "name": "stdout",
     "output_type": "stream",
     "text": [
      "<class 'rfClassifier.RFClassifier'>\n",
      "Fitting 2 folds for each of 6 candidates, totalling 12 fits\n",
      "[Parallel(n_jobs=1)]: Using backend SequentialBackend with 1 concurrent workers.\n",
      "[CV] max_features=auto, n_estimators=200 .............................\n",
      "[CV]  max_features=auto, n_estimators=200, accuracy=(train=1.000, test=0.939), f1_score=(train=1.000, test=0.939), precision=(train=1.000, test=0.939), recall=(train=1.000, test=0.939), total=  37.2s\n",
      "[Parallel(n_jobs=1)]: Done   1 out of   1 | elapsed:   41.5s remaining:    0.0s\n",
      "[CV] max_features=auto, n_estimators=200 .............................\n"
     ]
    }
   ],
   "source": [
    "for item in masterDict.keys():\n",
    "    rfClass = RFClassifier(binTrain,binTest,rfHyperparams,masterDict[item]['features'])\n",
    "    print(type(rfClass))\n",
    "    rfClass.train()\n",
    "    masterDict[item]['clf'] = rfClass.getClassifier()\n",
    "    \n",
    "    resultsPath = '../results/'+ item + '/' + rfClass.getClassifierType() +'/'\n",
    "    \n",
    "    os.sytem('mkdir -p '+resultsPath)\n",
    "    plotFeatImportances(masterDict[item]['clf'],masterDict[item]['features'],resultsPath + 'featureImportances.pdf')\n",
    "    \n",
    "    #save classifier\n",
    "    with open(resultsPath+'classifier.pkl', 'wb') as f:\n",
    "        pickle.dump(clf, f)"
   ]
  },
  {
   "cell_type": "code",
   "execution_count": 27,
   "metadata": {},
   "outputs": [
    {
     "data": {
      "text/plain": [
       "array([[3568,  216],\n",
       "       [ 230,  851]])"
      ]
     },
     "execution_count": 27,
     "metadata": {},
     "output_type": "execute_result"
    }
   ],
   "source": [
    "cm = confusion_matrix(test.binaryClass, clf.predict(test[disantoFeatures])).transpose()\n",
    "cm"
   ]
  },
  {
   "cell_type": "code",
   "execution_count": 28,
   "metadata": {},
   "outputs": [],
   "source": [
    "def fMeasure(precision,recall):\n",
    "    return 2*precision*recall/(precision+recall)"
   ]
  },
  {
   "cell_type": "code",
   "execution_count": 29,
   "metadata": {},
   "outputs": [],
   "source": [
    "precisionNon = cm[0][0]/(cm[0][0]+cm[0][1])\n",
    "recallNon = cm[0][0]/(cm[0][0]+cm[1][0])\n",
    "precisionT = cm[1][1]/(cm[1][1]+cm[1][0])\n",
    "recallT = cm[1][1]/(cm[1][1]+cm[0][1])"
   ]
  },
  {
   "cell_type": "code",
   "execution_count": 30,
   "metadata": {},
   "outputs": [
    {
     "name": "stdout",
     "output_type": "stream",
     "text": [
      "Precision of transients:     0.7872\n",
      "Recall of transients:        0.7976\n",
      "F-measure of transients:     0.7924\n",
      "Precision of non-transients: 0.9429\n",
      "Recall of non-transients:    0.9394\n",
      "F-measure of non-transients: 0.9412\n"
     ]
    }
   ],
   "source": [
    "print(\"Precision of transients:     {:.4f}\".format(precisionT))\n",
    "print(\"Recall of transients:        {:.4f}\".format(recallT))\n",
    "print(\"F-measure of transients:     {:.4f}\".format(fMeasure(precisionT,recallT)))\n",
    "print(\"Precision of non-transients: {:.4f}\".format(precisionNon))\n",
    "print(\"Recall of non-transients:    {:.4f}\".format(recallNon))\n",
    "print(\"F-measure of non-transients: {:.4f}\".format(fMeasure(precisionNon,recallNon)))\n"
   ]
  },
  {
   "cell_type": "markdown",
   "metadata": {},
   "source": [
    "# 8-Class clasification"
   ]
  },
  {
   "cell_type": "code",
   "execution_count": 31,
   "metadata": {},
   "outputs": [],
   "source": [
    "# main 6 transient classes\n",
    "labels = ['SN', 'CV', 'AGN', 'HPM', 'Blazar', 'Flare']\n"
   ]
  },
  {
   "cell_type": "code",
   "execution_count": 32,
   "metadata": {},
   "outputs": [],
   "source": [
    "# func to map labels to integer values\n",
    "def manualFact(lab):\n",
    "    labels = ['SN', 'CV', 'AGN', 'HPM', 'Blazar', 'Flare','Other','non-transient']\n",
    "    return labels.index(lab)"
   ]
  },
  {
   "cell_type": "code",
   "execution_count": 33,
   "metadata": {},
   "outputs": [],
   "source": [
    "origTrain = pd.read_pickle('./FixedData/8Class/train.pkl')\n",
    "origTest = pd.read_pickle('./FixedData/8Class/test.pkl')"
   ]
  },
  {
   "cell_type": "code",
   "execution_count": 34,
   "metadata": {},
   "outputs": [],
   "source": [
    "train = origTrain[['target']].merge(allDisanto, left_index=True, right_index=True)\n",
    "test = origTest[['target']].merge(allDisanto, left_index=True, right_index=True)\n"
   ]
  },
  {
   "cell_type": "code",
   "execution_count": null,
   "metadata": {},
   "outputs": [],
   "source": []
  },
  {
   "cell_type": "code",
   "execution_count": 35,
   "metadata": {},
   "outputs": [],
   "source": [
    "assert(train.shape[0] == origTrain.shape[0])\n",
    "assert(test.shape[0] == origTest.shape[0])"
   ]
  },
  {
   "cell_type": "code",
   "execution_count": 36,
   "metadata": {
    "scrolled": true
   },
   "outputs": [
    {
     "name": "stdout",
     "output_type": "stream",
     "text": [
      "Fitting 2 folds for each of 6 candidates, totalling 12 fits\n",
      "[Parallel(n_jobs=1)]: Using backend SequentialBackend with 1 concurrent workers.\n",
      "[CV] max_features=auto, n_estimators=200 .............................\n",
      "[CV]  max_features=auto, n_estimators=200, accuracy=(train=1.000, test=0.750), f1_score=(train=1.000, test=0.747), precision=(train=1.000, test=0.747), recall=(train=1.000, test=0.750), total=   6.2s\n",
      "[Parallel(n_jobs=1)]: Done   1 out of   1 | elapsed:    7.1s remaining:    0.0s\n",
      "[CV] max_features=auto, n_estimators=200 .............................\n",
      "[CV]  max_features=auto, n_estimators=200, accuracy=(train=1.000, test=0.752), f1_score=(train=1.000, test=0.752), precision=(train=1.000, test=0.755), recall=(train=1.000, test=0.752), total=   5.6s\n",
      "[Parallel(n_jobs=1)]: Done   2 out of   2 | elapsed:   13.7s remaining:    0.0s\n",
      "[CV] max_features=auto, n_estimators=700 .............................\n",
      "[CV]  max_features=auto, n_estimators=700, accuracy=(train=1.000, test=0.752), f1_score=(train=1.000, test=0.750), precision=(train=1.000, test=0.750), recall=(train=1.000, test=0.752), total=  19.8s\n",
      "[Parallel(n_jobs=1)]: Done   3 out of   3 | elapsed:   36.6s remaining:    0.0s\n",
      "[CV] max_features=auto, n_estimators=700 .............................\n",
      "[CV]  max_features=auto, n_estimators=700, accuracy=(train=1.000, test=0.755), f1_score=(train=1.000, test=0.756), precision=(train=1.000, test=0.758), recall=(train=1.000, test=0.755), total=  20.2s\n",
      "[Parallel(n_jobs=1)]: Done   4 out of   4 | elapsed:   60.0s remaining:    0.0s\n",
      "[CV] max_features=sqrt, n_estimators=200 .............................\n",
      "[CV]  max_features=sqrt, n_estimators=200, accuracy=(train=1.000, test=0.750), f1_score=(train=1.000, test=0.747), precision=(train=1.000, test=0.747), recall=(train=1.000, test=0.750), total=   5.6s\n",
      "[Parallel(n_jobs=1)]: Done   5 out of   5 | elapsed:  1.1min remaining:    0.0s\n",
      "[CV] max_features=sqrt, n_estimators=200 .............................\n",
      "[CV]  max_features=sqrt, n_estimators=200, accuracy=(train=1.000, test=0.752), f1_score=(train=1.000, test=0.752), precision=(train=1.000, test=0.755), recall=(train=1.000, test=0.752), total=   5.6s\n",
      "[Parallel(n_jobs=1)]: Done   6 out of   6 | elapsed:  1.2min remaining:    0.0s\n",
      "[CV] max_features=sqrt, n_estimators=700 .............................\n",
      "[CV]  max_features=sqrt, n_estimators=700, accuracy=(train=1.000, test=0.752), f1_score=(train=1.000, test=0.750), precision=(train=1.000, test=0.750), recall=(train=1.000, test=0.752), total=  21.2s\n",
      "[Parallel(n_jobs=1)]: Done   7 out of   7 | elapsed:  1.6min remaining:    0.0s\n",
      "[CV] max_features=sqrt, n_estimators=700 .............................\n",
      "[CV]  max_features=sqrt, n_estimators=700, accuracy=(train=1.000, test=0.755), f1_score=(train=1.000, test=0.756), precision=(train=1.000, test=0.758), recall=(train=1.000, test=0.755), total=  19.7s\n",
      "[Parallel(n_jobs=1)]: Done   8 out of   8 | elapsed:  2.0min remaining:    0.0s\n",
      "[CV] max_features=log2, n_estimators=200 .............................\n",
      "[CV]  max_features=log2, n_estimators=200, accuracy=(train=1.000, test=0.744), f1_score=(train=1.000, test=0.741), precision=(train=1.000, test=0.741), recall=(train=1.000, test=0.744), total=   4.8s\n",
      "[Parallel(n_jobs=1)]: Done   9 out of   9 | elapsed:  2.1min remaining:    0.0s\n",
      "[CV] max_features=log2, n_estimators=200 .............................\n",
      "[CV]  max_features=log2, n_estimators=200, accuracy=(train=1.000, test=0.750), f1_score=(train=1.000, test=0.750), precision=(train=1.000, test=0.753), recall=(train=1.000, test=0.750), total=   4.8s\n",
      "[Parallel(n_jobs=1)]: Done  10 out of  10 | elapsed:  2.2min remaining:    0.0s\n",
      "[CV] max_features=log2, n_estimators=700 .............................\n",
      "[CV]  max_features=log2, n_estimators=700, accuracy=(train=1.000, test=0.749), f1_score=(train=1.000, test=0.746), precision=(train=1.000, test=0.746), recall=(train=1.000, test=0.749), total=  17.0s\n",
      "[Parallel(n_jobs=1)]: Done  11 out of  11 | elapsed:  2.5min remaining:    0.0s\n",
      "[CV] max_features=log2, n_estimators=700 .............................\n",
      "[CV]  max_features=log2, n_estimators=700, accuracy=(train=1.000, test=0.754), f1_score=(train=1.000, test=0.754), precision=(train=1.000, test=0.757), recall=(train=1.000, test=0.754), total=  16.9s\n",
      "[Parallel(n_jobs=1)]: Done  12 out of  12 | elapsed:  2.9min remaining:    0.0s\n",
      "[Parallel(n_jobs=1)]: Done  12 out of  12 | elapsed:  2.9min finished\n"
     ]
    }
   ],
   "source": [
    "recall_scores = []\n",
    "model,params = rf()\n",
    "grid_search = GridSearchCV(model, params, cv=StratifiedKFold(2), scoring=scorers(),\n",
    "                           refit='f1_score', return_train_score=True,verbose=100)\n",
    "grid_search.fit(train[disantoFeatures], train.target)\n",
    "# Copy classifier\n",
    "clf = grid_search\n",
    "\n",
    "scores = precision_recall_fscore_support(\n",
    "        test.target, clf.predict(test[disantoFeatures]), average='weighted')\n",
    "\n",
    "\n",
    "recall_scores.append(scores)"
   ]
  },
  {
   "cell_type": "code",
   "execution_count": 37,
   "metadata": {},
   "outputs": [
    {
     "name": "stdout",
     "output_type": "stream",
     "text": [
      "Precision: 0.8503\n",
      "Recall:    0.7555\n",
      "F-score:   0.7915\n"
     ]
    }
   ],
   "source": [
    "recall_scoresnp = np.array(recall_scores)\n",
    "\n",
    "print(\"Precision: {:.4f}\".format(np.mean(recall_scoresnp[:,0])))\n",
    "print(\"Recall:    {:.4f}\".format(np.mean(recall_scoresnp[:,1])))\n",
    "print(\"F-score:   {:.4f}\".format(np.mean(recall_scoresnp[:,2])))"
   ]
  },
  {
   "cell_type": "code",
   "execution_count": 38,
   "metadata": {},
   "outputs": [
    {
     "name": "stdout",
     "output_type": "stream",
     "text": [
      "[[ 153   23    0    0    7    6   36   85]\n",
      " [  17  156    0    1    4    3   14   32]\n",
      " [   1    3   93    0   12    1   29   43]\n",
      " [   4    0    0   67    0    1    4  183]\n",
      " [  10    8    2    0   28    0    9    4]\n",
      " [  16    5    0    0    3   20    5  247]\n",
      " [  60   14    7    1    3    5  110  158]\n",
      " [  62    6    4    7    2   15   27 3046]]\n"
     ]
    }
   ],
   "source": [
    "confMatr = confusion_matrix(test.target, clf.predict(test[disantoFeatures])).transpose()\n",
    "print(confMatr)\n",
    "# 'SN', 'CV', 'AGN', 'HPM', 'Blazar', 'Flare','Other','non-transient'"
   ]
  },
  {
   "cell_type": "code",
   "execution_count": 39,
   "metadata": {},
   "outputs": [
    {
     "name": "stdout",
     "output_type": "stream",
     "text": [
      "[[0 0 0 0 0 0 0 0]\n",
      " [0 0 0 0 0 0 0 0]\n",
      " [0 0 0 0 0 0 0 0]\n",
      " [0 0 0 0 0 0 0 0]\n",
      " [0 0 0 0 0 0 0 0]\n",
      " [0 0 0 0 0 0 0 0]\n",
      " [0 0 0 0 0 0 0 0]\n",
      " [0 0 0 0 0 0 0 0]]\n"
     ]
    }
   ],
   "source": [
    "normedMatrix = confMatr.copy()\n",
    "# print(normedMatrix)\n",
    "for i in range(len(normedMatrix)):\n",
    "#     print(normedMatrix[:,i]/normedMatrix[:,i].sum())\n",
    "    normedMatrix[:,i] = normedMatrix[:,i]/normedMatrix[:,i].sum()\n",
    "#     print(normedMatrix[:,i])\n",
    "# np.set_printoptions(suppress=True)\n",
    "print(normedMatrix)\n",
    "# np.set_printoptions(suppress=False)"
   ]
  },
  {
   "cell_type": "code",
   "execution_count": 40,
   "metadata": {},
   "outputs": [],
   "source": [
    "newMatr = []\n",
    "for i in range(len(confMatr)):\n",
    "    prec = confMatr[i][i]/(sum(confMatr[i,:]))\n",
    "    rec = confMatr[i][i]/(sum(confMatr[:,i]))\n",
    "    newMatr.append([prec,rec,fMeasure(prec,rec),sum(confMatr[:,i])])"
   ]
  },
  {
   "cell_type": "code",
   "execution_count": 41,
   "metadata": {},
   "outputs": [
    {
     "name": "stdout",
     "output_type": "stream",
     "text": [
      "    Precision        Recall         F-score      Cover\n",
      "[[   0.49354839    0.47368421    0.48341232  323.        ]\n",
      " [   0.68722467    0.7255814     0.70588235  215.        ]\n",
      " [   0.51098901    0.87735849    0.64583333  106.        ]\n",
      " [   0.25868726    0.88157895    0.4          76.        ]\n",
      " [   0.45901639    0.47457627    0.46666667   59.        ]\n",
      " [   0.06756757    0.39215686    0.11527378   51.        ]\n",
      " [   0.30726257    0.47008547    0.37162162  234.        ]\n",
      " [   0.96118649    0.80200105    0.87440792 3798.        ]]\n"
     ]
    }
   ],
   "source": [
    "np.set_printoptions(suppress=True)\n",
    "print('    Precision        Recall         F-score      Cover')\n",
    "print(np.array(newMatr))\n",
    "np.set_printoptions(suppress=False)"
   ]
  },
  {
   "cell_type": "code",
   "execution_count": 49,
   "metadata": {},
   "outputs": [],
   "source": [
    "importances = clf.best_estimator_.feature_importances_*100\n",
    "featsCopy = disantoFeatures.copy()\n",
    "\n",
    "Y = list(importances)\n",
    "X = list(featsCopy)\n",
    "\n",
    "yx = list(zip(Y, X))\n",
    "\n",
    "yx.sort()\n",
    "# yx = yx[::-1]\n",
    "yx = yx[::-1]\n",
    "\n",
    "\n",
    "\n",
    "x_sorted = [x for y, x in yx]\n",
    "y_sorted = [y for y, x in yx]\n"
   ]
  },
  {
   "cell_type": "code",
   "execution_count": 50,
   "metadata": {},
   "outputs": [],
   "source": [
    "for i,x in enumerate(x_sorted):\n",
    "    x_sorted[i]=shorten(x)"
   ]
  },
  {
   "cell_type": "code",
   "execution_count": 52,
   "metadata": {},
   "outputs": [
    {
     "data": {
      "image/png": "[encoded data removed]",
      "text/plain": [
       "<Figure size 1008x576 with 1 Axes>"
      ]
     },
     "metadata": {
      "needs_background": "light"
     },
     "output_type": "display_data"
    }
   ],
   "source": [
    "# from matplotlib.font_manager import FontProperties\n",
    "# font = FontProperties()\n",
    "# font.set_family('sans-serif')\n",
    "# font.set_style('normal')\n",
    "\n",
    "plt.rcParams[\"font.family\"] = \"Times New Roman\"\n",
    "fig = plt.figure(figsize=(14,8))\n",
    "plt.gcf().subplots_adjust(bottom=0.15)\n",
    "plt.bar(np.arange(len(y_sorted)), y_sorted,edgecolor='black',color='#008000')\n",
    "plt.xticks(np.arange(len(y_sorted)), x_sorted,rotation='vertical')\n",
    "plt.xlabel('Features')\n",
    "plt.ylabel('Feature importance(%)')\n",
    "plt.title(\"8-Class Classification\")\n",
    "plt.savefig(\"../results/8clasFeatImportanceDisanto.pdf\")"
   ]
  },
  {
   "cell_type": "code",
   "execution_count": null,
   "metadata": {},
   "outputs": [],
   "source": []
  }
 ],
 "metadata": {
  "kernelspec": {
   "display_name": "Python 3",
   "language": "python",
   "name": "python3"
  },
  "language_info": {
   "codemirror_mode": {
    "name": "ipython",
    "version": 3
   },
   "file_extension": ".py",
   "mimetype": "text/x-python",
   "name": "python",
   "nbconvert_exporter": "python",
   "pygments_lexer": "ipython3",
   "version": "3.7.3"
  }
 },
 "nbformat": 4,
 "nbformat_minor": 4
}
