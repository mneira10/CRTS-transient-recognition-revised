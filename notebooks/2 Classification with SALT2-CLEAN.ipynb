{
 "cells": [
  {
   "cell_type": "code",
   "execution_count": 18,
   "metadata": {},
   "outputs": [],
   "source": [
    "from sklearn.ensemble import RandomForestClassifier\n",
    "import sklearn.metrics\n",
    "import pandas as pd\n",
    "import numpy as np\n",
    "np.random.seed(0)\n",
    "from sklearn.model_selection import GridSearchCV, StratifiedKFold  # , cross_val_score\n",
    "from sklearn.metrics import make_scorer, accuracy_score, precision_score, recall_score, f1_score, precision_recall_fscore_support, confusion_matrix  # , classification_report\n",
    "from sklearn.model_selection import train_test_split\n",
    "\n",
    "from sklearn.metrics import precision_recall_curve\n",
    "import matplotlib.pyplot as plt\n",
    "from sklearn.metrics import average_precision_score\n",
    "from scipy import integrate\n",
    "from sklearn.metrics import recall_score\n",
    "from sklearn.metrics import precision_recall_fscore_support,make_scorer\n",
    "from sklearn.metrics import confusion_matrix\n",
    "import pickle"
   ]
  },
  {
   "cell_type": "code",
   "execution_count": 2,
   "metadata": {},
   "outputs": [],
   "source": [
    "DATA_PATH = '../data/features/'\n",
    "\n",
    "tran = pd.read_csv(DATA_PATH + \"T.csv\")\n",
    "tran = tran.set_index(['ID', 'copy_num'])\n",
    "\n",
    "ntran = pd.read_csv(DATA_PATH + \"NT.csv\")\n",
    "ntran = ntran.set_index(['ID', 'copy_num'])\n"
   ]
  },
  {
   "cell_type": "code",
   "execution_count": 3,
   "metadata": {},
   "outputs": [],
   "source": [
    "SALT2_PATH = './chi2Salt2/'\n",
    "\n",
    "tsalt  = pd.read_csv(SALT2_PATH + 'transient/allTransient.dat'      , names = ['ID', 'copy_num','chi2Salt2'],delimiter=' ')\n",
    "ntsalt = pd.read_csv(SALT2_PATH + 'nonTransient/allNonTransient.dat', names = ['ID', 'copy_num','chi2Salt2'],delimiter=' ')\n",
    "\n",
    "tsalt = tsalt.set_index(['ID', 'copy_num'])\n",
    "ntsalt = ntsalt.set_index(['ID', 'copy_num'])\n"
   ]
  },
  {
   "cell_type": "code",
   "execution_count": 4,
   "metadata": {},
   "outputs": [
    {
     "name": "stdout",
     "output_type": "stream",
     "text": [
      "Original\n",
      "transients (46959, 34)\n",
      "non transients (15193, 34)\n"
     ]
    }
   ],
   "source": [
    "print('Original')\n",
    "print('transients',tran.shape)\n",
    "print('non transients',ntran.shape)"
   ]
  },
  {
   "cell_type": "code",
   "execution_count": 5,
   "metadata": {},
   "outputs": [],
   "source": [
    "tran = tran.join(tsalt, how='inner')\n",
    "ntran = ntran.join(ntsalt, how='inner')"
   ]
  },
  {
   "cell_type": "code",
   "execution_count": 6,
   "metadata": {},
   "outputs": [
    {
     "name": "stdout",
     "output_type": "stream",
     "text": [
      "SALT2\n",
      "transients (40573, 35)\n",
      "non transients (14084, 35)\n"
     ]
    }
   ],
   "source": [
    "print('SALT2')\n",
    "print('transients',tran.shape)\n",
    "print('non transients',ntran.shape)"
   ]
  },
  {
   "cell_type": "code",
   "execution_count": 7,
   "metadata": {},
   "outputs": [
    {
     "name": "stdout",
     "output_type": "stream",
     "text": [
      "Total amout of obects (oversampled):     54657\n",
      "Total amout of obects (not oversampled): 18353\n"
     ]
    }
   ],
   "source": [
    "print(\"Total amout of obects (oversampled):     {}\".format(tran.shape[0]+ntran.shape[0]))\n",
    "print(\"Total amout of obects (not oversampled): {}\".format(tran[tran.index.get_level_values(\"copy_num\")==0].shape[0]+ntran.shape[0]))"
   ]
  },
  {
   "cell_type": "code",
   "execution_count": 8,
   "metadata": {},
   "outputs": [],
   "source": [
    "#remove unwanted columns\n",
    "unwanted = [\n",
    "    'poly3_t3',\n",
    "    'poly3_t2',\n",
    "    'poly3_t1',\n",
    "    'poly4_t1',\n",
    "    'poly4_t2',\n",
    "    'poly4_t3',\n",
    "    'poly4_t4',\n",
    "    'chi2SALT2',\n",
    "    ]    \n",
    "\n",
    "tran  =  tran.drop(unwanted,axis=1)\n",
    "ntran = ntran.drop(unwanted,axis=1)"
   ]
  },
  {
   "cell_type": "code",
   "execution_count": 9,
   "metadata": {},
   "outputs": [
    {
     "name": "stdout",
     "output_type": "stream",
     "text": [
      "Total number of features: 25\n",
      "\n",
      "The features are:\n",
      "    1. skew\n",
      "    2. std\n",
      "    3. kurtosis\n",
      "    4. beyond1st\n",
      "    5. stetson_j\n",
      "    6. stetson_k\n",
      "    7. max_slope\n",
      "    8. amplitude\n",
      "    9. median_absolute_deviation\n",
      "    10. median_buffer_range_percentage\n",
      "    11. pair_slope_trend\n",
      "    12. percent_amplitude\n",
      "    13. percent_difference_flux_percentile\n",
      "    14. flux_percentile_ratio_mid20\n",
      "    15. flux_percentile_ratio_mid35\n",
      "    16. flux_percentile_ratio_mid50\n",
      "    17. flux_percentile_ratio_mid65\n",
      "    18. flux_percentile_ratio_mid80\n",
      "    19. small_kurtosis\n",
      "    20. pair_slope_trend_last_30\n",
      "    21. poly1_t1\n",
      "    22. poly2_t2\n",
      "    23. poly2_t1\n",
      "    24. chi2sGauss\n",
      "    25. chi2Salt2\n"
     ]
    }
   ],
   "source": [
    "#reorder for easy feature selection\n",
    "# tran = tran[:-3]+tran[-1:]+tran[:-3]+tran[-3:-1]\n",
    "# ntran = ntran[:-3]+ntran[-1:]+ntran[:-3]+ntran[-3:-1]\n",
    "def totFeats():\n",
    "    feats = np.array(list(tran.columns[:-3])+[tran.columns[-1]])\n",
    "    return feats\n",
    "feats = totFeats()\n",
    "print(\"Total number of features: {}\".format(len(feats)))\n",
    "print()\n",
    "print(\"The features are:\")\n",
    "for i,f in enumerate(feats):\n",
    "    print(\"    \"+str(i+1)+\". \" + f)\n"
   ]
  },
  {
   "cell_type": "markdown",
   "metadata": {},
   "source": [
    "# Binary Classification \n",
    "Transients and non-transients "
   ]
  },
  {
   "cell_type": "code",
   "execution_count": 10,
   "metadata": {},
   "outputs": [],
   "source": [
    "def splitTrainTest(dataframe):\n",
    "    #create output dataframes\n",
    "    test = pd.DataFrame(columns = [\"ID\",\"copy_num\"]+list(dataframe.columns))\n",
    "    test = test.set_index([\"ID\",\"copy_num\"])\n",
    "\n",
    "    train = pd.DataFrame(columns = [\"ID\",\"copy_num\"]+list(dataframe.columns))\n",
    "    train = train.set_index([\"ID\",\"copy_num\"])\n",
    "    \n",
    "    for uClass in dataframe.Class.unique():\n",
    "        #get each class \n",
    "        classDf = dataframe[dataframe.Class == uClass]\n",
    "        \n",
    "        #unique ids\n",
    "        ids = classDf.index.get_level_values('ID').unique()\n",
    "\n",
    "        # randomly choose 25% of indices \n",
    "\n",
    "        testInd = np.random.choice(ids, int(0.25*len(ids)),replace=False)\n",
    "\n",
    "        #get dataframes\n",
    "        test = pd.concat([test,classDf[classDf.index.get_level_values('ID').isin(testInd)]])\n",
    "        \n",
    "        train = pd.concat([train,classDf[~classDf.index.get_level_values('ID').isin(testInd)]])\n",
    "\n",
    "    return train,test\n"
   ]
  },
  {
   "cell_type": "code",
   "execution_count": 24,
   "metadata": {},
   "outputs": [],
   "source": [
    "def balance(df):\n",
    "    #start min at infinity \n",
    "    minNum = np.inf\n",
    "    nameMin = \"\"\n",
    "    #find the class with the minimum amount of candidates\n",
    "    for classElem in df.Class.unique():\n",
    "        numElems = len(df[df.Class==classElem])\n",
    "        if(numElems<minNum):\n",
    "            minNum=numElems\n",
    "            nameMin = classElem\n",
    "    print(\"The class with least elements is:\")\n",
    "    print(classElem, minNum)\n",
    "    #create output dataframe\n",
    "    ans = pd.DataFrame(columns = [\"ID\",\"copy_num\"]+list(df.columns))\n",
    "    ans = ans.set_index([\"ID\",\"copy_num\"])\n",
    "    \n",
    "    #get a sample from all the classes \n",
    "    for classElem in df.Class.unique():\n",
    "        ans = pd.concat([ans,df[df.Class==classElem].sample(n=minNum)])\n",
    "        \n",
    "    return ans"
   ]
  },
  {
   "cell_type": "code",
   "execution_count": 12,
   "metadata": {},
   "outputs": [],
   "source": [
    "#hypermarameters that gridsearch will optimize\n",
    "def rf():\n",
    "    params = {\n",
    "        'n_estimators': [200, 700],\n",
    "        'max_features': ['auto', 'sqrt', 'log2']\n",
    "    }\n",
    "    return RandomForestClassifier(random_state=0, class_weight='balanced'), params\n",
    "\n",
    "#metrics to be analized\n",
    "def scorers():\n",
    "    scoring = {'accuracy': make_scorer(accuracy_score),\n",
    "               'precision': make_scorer(precision_score, average='weighted'),\n",
    "               'recall': make_scorer(recall_score, average='weighted'),\n",
    "               'f1_score': make_scorer(f1_score, average='weighted')\n",
    "               }\n",
    "    return scoring"
   ]
  },
  {
   "cell_type": "code",
   "execution_count": 13,
   "metadata": {},
   "outputs": [],
   "source": [
    " def shorten(x):\n",
    "    return {\n",
    "      'stetson_j':'stetson_j',\n",
    "      'std':'std',\n",
    "      'median_absolute_deviation':'mad',\n",
    "      'amplitude':'amp',\n",
    "      'poly1_t1':'poly2_t1',\n",
    "      'poly2_t1':'poly1_t1',\n",
    "      'skew':'skew',\n",
    "      'poly3_t1':'poly3_t1',\n",
    "      'small_kurtosis':'sk',\n",
    "      'stetson_k':'stetson_k',\n",
    "      'median_buffer_range_percentage':'mbrp',\n",
    "      'percent_amplitude': 'p_amp',\n",
    "      'percent_difference_flux_percentile':'pdfp',\n",
    "      'poly4_t1':'poly4_t1',\n",
    "      'poly3_t2':'poly3_t2',\n",
    "      'poly4_t2':'poly4_t2',\n",
    "      'max_slope':'max_slope',\n",
    "      'kurtosis':'kurtosis',\n",
    "      'pair_slope_trend':'pst',\n",
    "      'poly2_t2':'poly2_t2',\n",
    "      'beyond1st':'beyond1st',\n",
    "      'flux_percentile_ratio_mid35':'fpr35',\n",
    "      'flux_percentile_ratio_mid50':'fpr50',\n",
    "      'flux_percentile_ratio_mid65':'fpr65',\n",
    "      'flux_percentile_ratio_mid20':'fpr20',\n",
    "      'flux_percentile_ratio_mid80':'fpr80',\n",
    "      'pair_slope_trend_last_30':'pst_last30',\n",
    "      'poly3_t3':'poly3_t3',\n",
    "      'poly4_t3':'poly4_t3',\n",
    "      'poly4_t4':'poly4_t4', \n",
    "      'chi2sGauss':'chi2sGauss',\n",
    "      'chi2Salt2':'chi2SALT2'\n",
    "      }[x]"
   ]
  },
  {
   "cell_type": "code",
   "execution_count": 14,
   "metadata": {},
   "outputs": [],
   "source": [
    "def fMeasure(precision,recall):\n",
    "    return 2*precision*recall/(precision+recall)"
   ]
  },
  {
   "cell_type": "code",
   "execution_count": 15,
   "metadata": {},
   "outputs": [],
   "source": [
    "#copy and shuffle the data\n",
    "alldf = pd.concat([tran,ntran])\n",
    "oversampling = alldf.copy()\n",
    "oversampling = oversampling.sample(frac=1)\n",
    "\n",
    "#map all objects that are not non-transient to transient\n",
    "oversampling.Class = list(map(lambda x: 'SN' if x=='SN' else 'NSN', oversampling.Class))\n",
    "#map transient and non-transient to binary values\n",
    "oversampling['target'] = list(map(lambda x: 1 if x=='SN' else 0, oversampling.Class))"
   ]
  },
  {
   "cell_type": "code",
   "execution_count": 22,
   "metadata": {},
   "outputs": [],
   "source": [
    "def getData():\n",
    "    #split train test class by class\n",
    "    all_train,all_test = splitTrainTest(oversampling)\n",
    "    print('Before balancing')\n",
    "    print(all_train.shape)\n",
    "    #balance the train set\n",
    "    \n",
    "    all_train= balance(all_train)\n",
    "    print('After balancing')\n",
    "    print(all_train.shape)\n",
    "    #train indices\n",
    "    trainIdx = all_train.index.get_level_values(\"ID\").unique()\n",
    "\n",
    "    #remove originals that have oversampled copies in train\n",
    "    all_test = all_test[~all_test.index.get_level_values(\"ID\").isin(trainIdx)]\n",
    "\n",
    "    #remove oversampled data from test set\n",
    "    all_test = all_test[all_test.index.get_level_values('copy_num') ==0 ]\n",
    "\n",
    "\n",
    "    #format target variable to appropriate data type\n",
    "    all_train.target= all_train.target.astype('int')\n",
    "    all_test.target= all_test.target.astype('int')\n",
    "\n",
    "    print(\"SN in test set:\")\n",
    "    print(len(all_test[all_test.Class=='SN']))\n",
    "    print(\"NSN in test set:\")\n",
    "    print(len(all_test[all_test.Class!='SN']))\n",
    "    return all_train, all_test"
   ]
  },
  {
   "cell_type": "code",
   "execution_count": 25,
   "metadata": {},
   "outputs": [
    {
     "name": "stdout",
     "output_type": "stream",
     "text": [
      "Before balancing\n",
      "(41206, 28)\n",
      "The class with least elements is:\n",
      "SN 9293\n",
      "After balancing\n",
      "(18586, 28)\n",
      "SN in test set:\n",
      "323\n",
      "NSN in test set:\n",
      "4265\n"
     ]
    }
   ],
   "source": [
    "all_train, all_test = getData()"
   ]
  },
  {
   "cell_type": "code",
   "execution_count": 19,
   "metadata": {},
   "outputs": [],
   "source": [
    "\n",
    "pickle.dump( all_train, open( \"./chi2Salt2/stableData/allTrain.pkl\", \"wb\" ) )\n",
    "pickle.dump( all_test, open( \"./chi2Salt2/stableData/allTest.pkl\", \"wb\" ) )"
   ]
  },
  {
   "cell_type": "code",
   "execution_count": 21,
   "metadata": {},
   "outputs": [
    {
     "data": {
      "text/plain": [
       "(18658, 28)"
      ]
     },
     "execution_count": 21,
     "metadata": {},
     "output_type": "execute_result"
    }
   ],
   "source": [
    "all_train.shape"
   ]
  },
  {
   "cell_type": "code",
   "execution_count": 17,
   "metadata": {},
   "outputs": [],
   "source": [
    "def trainModel(feats):\n",
    "    #learning \n",
    "    recall_scores = []\n",
    "    model,params = rf()\n",
    "    grid_search = GridSearchCV(model, params, cv=StratifiedKFold(2), scoring=scorers(),\n",
    "                               refit='f1_score', return_train_score=True,verbose=100)\n",
    "    grid_search.fit(all_train[feats], all_train.target)\n",
    "\n",
    "    # Copy classifier \n",
    "    clf = grid_search\n",
    "\n",
    "    #see performance on test set\n",
    "    scores = precision_recall_fscore_support(\n",
    "            all_test.target, clf.predict(all_test[feats]), average='weighted')\n",
    "    recall_scores.append(scores)\n",
    "    \n",
    "    recall_scoresnp = np.array(recall_scores)\n",
    "\n",
    "    print(\"Precision: {:.4f}\".format(np.mean(recall_scoresnp[:,0])))\n",
    "    print(\"Recall:    {:.4f}\".format(np.mean(recall_scoresnp[:,1])))\n",
    "    print(\"F-score:   {:.4f}\".format(np.mean(recall_scoresnp[:,2])))\n",
    "    recall_scoresnp = np.array(recall_scores)\n",
    "\n",
    "    print(\"Precision: {:.4f}\".format(np.mean(recall_scoresnp[:,0])))\n",
    "    print(\"Recall:    {:.4f}\".format(np.mean(recall_scoresnp[:,1])))\n",
    "    print(\"F-score:   {:.4f}\".format(np.mean(recall_scoresnp[:,2])))\n",
    "    return clf"
   ]
  },
  {
   "cell_type": "code",
   "execution_count": 18,
   "metadata": {},
   "outputs": [],
   "source": [
    "def plotImportances(clf,feats): \n",
    "    #calculate feature importance in descending order\n",
    "    importances = clf.best_estimator_.feature_importances_*100\n",
    "    featsCopy = feats.copy()\n",
    "    # print(featsCopy)\n",
    "    Y = list(importances)\n",
    "    X = list(featsCopy)\n",
    "\n",
    "    yx = list(zip(Y, X))\n",
    "    yx.sort()\n",
    "\n",
    "    yx = yx[::-1]\n",
    "\n",
    "    x_sorted = [x for y, x in yx]\n",
    "    y_sorted = [y for y, x in yx]\n",
    "    #shorten name length\n",
    "    for i,x in enumerate(x_sorted):\n",
    "        x_sorted[i]=shorten(x)\n",
    "    # print(x_sorted)\n",
    "    plt.rcParams[\"font.family\"] = \"Times New Roman\"\n",
    "    fig = plt.figure(figsize=(14,8))\n",
    "    plt.gcf().subplots_adjust(bottom=0.15)\n",
    "    plt.bar(np.arange(len(y_sorted)), y_sorted,edgecolor='black',color='firebrick')\n",
    "    plt.xticks(np.arange(len(y_sorted)), x_sorted,rotation='vertical')\n",
    "    plt.xlabel('Features')\n",
    "    plt.ylabel('Feature importance(%)')\n",
    "    plt.title(\"Binary Classification\")"
   ]
  },
  {
   "cell_type": "code",
   "execution_count": 19,
   "metadata": {},
   "outputs": [],
   "source": [
    "def calculateCM(clf):    \n",
    "    cm = confusion_matrix(all_test.target, clf.predict(all_test[feats])).transpose()\n",
    "\n",
    "    precisionNon = cm[0][0]/(cm[0][0]+cm[0][1])\n",
    "    recallNon = cm[0][0]/(cm[0][0]+cm[1][0])\n",
    "    precisionT = cm[1][1]/(cm[1][1]+cm[1][0])\n",
    "    recallT = cm[1][1]/(cm[1][1]+cm[0][1])\n",
    "\n",
    "    print(\"Precision of SN:     {:.4f}\".format(precisionT))\n",
    "    print(\"Recall of SN:        {:.4f}\".format(recallT))\n",
    "    print(\"F-measure of SN:     {:.4f}\".format(fMeasure(precisionT,recallT)))\n",
    "    print(\"Precision of NSN: {:.4f}\".format(precisionNon))\n",
    "    print(\"Recall of NSN:    {:.4f}\".format(recallNon))\n",
    "    print(\"F-measure of NSN: {:.4f}\".format(fMeasure(precisionNon,recallNon)))\n"
   ]
  },
  {
   "cell_type": "code",
   "execution_count": 20,
   "metadata": {},
   "outputs": [],
   "source": [
    "def runModel(feats):\n",
    "    clf  = trainModel(feats)\n",
    "    plotImportances(clf,feats)\n",
    "    calculateCM(clf)"
   ]
  },
  {
   "cell_type": "code",
   "execution_count": 25,
   "metadata": {},
   "outputs": [
    {
     "name": "stdout",
     "output_type": "stream",
     "text": [
      "Fitting 2 folds for each of 6 candidates, totalling 12 fits\n",
      "[CV] max_features=auto, n_estimators=200 .............................\n",
      "[CV]  max_features=auto, n_estimators=200, accuracy=0.8815648445873526, precision=0.8832245337543294, recall=0.8815648445873526, f1_score=0.8814364742835895, total=   6.8s\n",
      "[Parallel(n_jobs=1)]: Done   1 out of   1 | elapsed:    7.7s remaining:    0.0s\n",
      "[CV] max_features=auto, n_estimators=200 .............................\n",
      "[CV]  max_features=auto, n_estimators=200, accuracy=0.8736063464837049, precision=0.8754293093110905, recall=0.8736063464837049, f1_score=0.8734527283681434, total=   6.5s\n",
      "[Parallel(n_jobs=1)]: Done   2 out of   2 | elapsed:   15.2s remaining:    0.0s\n",
      "[CV] max_features=auto, n_estimators=700 .............................\n",
      "[CV]  max_features=auto, n_estimators=700, accuracy=0.879957127545552, precision=0.8816863970482508, recall=0.879957127545552, f1_score=0.8798210067212646, total=  24.4s\n",
      "[Parallel(n_jobs=1)]: Done   3 out of   3 | elapsed:   43.1s remaining:    0.0s\n",
      "[CV] max_features=auto, n_estimators=700 .............................\n",
      "[CV]  max_features=auto, n_estimators=700, accuracy=0.8753216123499142, precision=0.8772914009756404, recall=0.8753216123499142, f1_score=0.8751586673182349, total=  23.9s\n",
      "[Parallel(n_jobs=1)]: Done   4 out of   4 | elapsed:  1.2min remaining:    0.0s\n",
      "[CV] max_features=sqrt, n_estimators=200 .............................\n",
      "[CV]  max_features=sqrt, n_estimators=200, accuracy=0.8815648445873526, precision=0.8832245337543294, recall=0.8815648445873526, f1_score=0.8814364742835895, total=   6.6s\n",
      "[Parallel(n_jobs=1)]: Done   5 out of   5 | elapsed:  1.3min remaining:    0.0s\n",
      "[CV] max_features=sqrt, n_estimators=200 .............................\n",
      "[CV]  max_features=sqrt, n_estimators=200, accuracy=0.8736063464837049, precision=0.8754293093110905, recall=0.8736063464837049, f1_score=0.8734527283681434, total=   6.5s\n",
      "[Parallel(n_jobs=1)]: Done   6 out of   6 | elapsed:  1.4min remaining:    0.0s\n",
      "[CV] max_features=sqrt, n_estimators=700 .............................\n",
      "[CV]  max_features=sqrt, n_estimators=700, accuracy=0.879957127545552, precision=0.8816863970482508, recall=0.879957127545552, f1_score=0.8798210067212646, total=  25.0s\n",
      "[Parallel(n_jobs=1)]: Done   7 out of   7 | elapsed:  1.9min remaining:    0.0s\n",
      "[CV] max_features=sqrt, n_estimators=700 .............................\n",
      "[CV]  max_features=sqrt, n_estimators=700, accuracy=0.8753216123499142, precision=0.8772914009756404, recall=0.8753216123499142, f1_score=0.8751586673182349, total=  23.7s\n",
      "[Parallel(n_jobs=1)]: Done   8 out of   8 | elapsed:  2.4min remaining:    0.0s\n",
      "[CV] max_features=log2, n_estimators=200 .............................\n",
      "[CV]  max_features=log2, n_estimators=200, accuracy=0.8778135048231511, precision=0.8792995937022722, recall=0.8778135048231511, f1_score=0.8776937063671072, total=   5.6s\n",
      "[Parallel(n_jobs=1)]: Done   9 out of   9 | elapsed:  2.5min remaining:    0.0s\n",
      "[CV] max_features=log2, n_estimators=200 .............................\n",
      "[CV]  max_features=log2, n_estimators=200, accuracy=0.8688893653516295, precision=0.8707341142651615, recall=0.8688893653516295, f1_score=0.8687260627016384, total=   6.8s\n",
      "[Parallel(n_jobs=1)]: Done  10 out of  10 | elapsed:  2.6min remaining:    0.0s\n",
      "[CV] max_features=log2, n_estimators=700 .............................\n",
      "[CV]  max_features=log2, n_estimators=700, accuracy=0.8790996784565916, precision=0.8805703906587861, recall=0.8790996784565916, f1_score=0.8789827608411678, total=  22.8s\n",
      "[Parallel(n_jobs=1)]: Done  11 out of  11 | elapsed:  3.1min remaining:    0.0s\n",
      "[CV] max_features=log2, n_estimators=700 .............................\n",
      "[CV]  max_features=log2, n_estimators=700, accuracy=0.8709262435677531, precision=0.8727698635159429, recall=0.8709262435677531, f1_score=0.870766454938783, total=  19.7s\n",
      "[Parallel(n_jobs=1)]: Done  12 out of  12 | elapsed:  3.4min remaining:    0.0s\n",
      "[Parallel(n_jobs=1)]: Done  12 out of  12 | elapsed:  3.4min finished\n",
      "Precision: 0.9339\n",
      "Recall:    0.9021\n",
      "F-score:   0.9143\n",
      "Precision: 0.9339\n",
      "Recall:    0.9021\n",
      "F-score:   0.9143\n"
     ]
    }
   ],
   "source": [
    "clf  = trainModel(feats)"
   ]
  },
  {
   "cell_type": "code",
   "execution_count": 26,
   "metadata": {},
   "outputs": [
    {
     "name": "stderr",
     "output_type": "stream",
     "text": [
      "/home/mauro/anaconda3/lib/python3.6/site-packages/matplotlib/font_manager.py:1328: UserWarning: findfont: Font family ['Times New Roman'] not found. Falling back to DejaVu Sans\n",
      "  (prop.get_family(), self.defaultFamily[fontext]))\n"
     ]
    },
    {
     "data": {
      "image/png": "[encoded data removed]",
      "text/plain": [
       "<Figure size 1008x576 with 1 Axes>"
      ]
     },
     "metadata": {},
     "output_type": "display_data"
    }
   ],
   "source": [
    "plotImportances(clf,feats)"
   ]
  },
  {
   "cell_type": "code",
   "execution_count": 27,
   "metadata": {},
   "outputs": [
    {
     "name": "stdout",
     "output_type": "stream",
     "text": [
      "Precision of SN:     0.3899\n",
      "Recall of SN:        0.6904\n",
      "F-measure of SN:     0.4983\n",
      "Precision of NSN: 0.9751\n",
      "Recall of NSN:    0.9182\n",
      "F-measure of NSN: 0.9458\n"
     ]
    }
   ],
   "source": [
    "calculateCM(clf)"
   ]
  },
  {
   "cell_type": "markdown",
   "metadata": {},
   "source": [
    "# Without using chi2s"
   ]
  },
  {
   "cell_type": "code",
   "execution_count": 40,
   "metadata": {},
   "outputs": [
    {
     "name": "stdout",
     "output_type": "stream",
     "text": [
      "Fitting 2 folds for each of 6 candidates, totalling 12 fits\n",
      "[CV] max_features=auto, n_estimators=200 .............................\n",
      "[CV]  max_features=auto, n_estimators=200, accuracy=0.8572347266881029, precision=0.85854492943476, recall=0.8572347266881029, f1_score=0.8571041834311884, total=   6.1s\n",
      "[Parallel(n_jobs=1)]: Done   1 out of   1 | elapsed:    7.2s remaining:    0.0s\n",
      "[CV] max_features=auto, n_estimators=200 .............................\n",
      "[CV]  max_features=auto, n_estimators=200, accuracy=0.8481989708404802, precision=0.8497843846256864, recall=0.8481989708404802, f1_score=0.8480267644232874, total=   8.5s\n",
      "[Parallel(n_jobs=1)]: Done   2 out of   2 | elapsed:   17.4s remaining:    0.0s\n",
      "[CV] max_features=auto, n_estimators=700 .............................\n",
      "[CV]  max_features=auto, n_estimators=700, accuracy=0.8568060021436227, precision=0.858347860121395, recall=0.8568060021436227, f1_score=0.8566518066117308, total=  35.4s\n",
      "[Parallel(n_jobs=1)]: Done   3 out of   3 | elapsed:   59.4s remaining:    0.0s\n",
      "[CV] max_features=auto, n_estimators=700 .............................\n",
      "[CV]  max_features=auto, n_estimators=700, accuracy=0.8483061749571184, precision=0.8499847357102205, recall=0.8483061749571184, f1_score=0.8481240720351828, total=  28.6s\n",
      "[Parallel(n_jobs=1)]: Done   4 out of   4 | elapsed:  1.6min remaining:    0.0s\n",
      "[CV] max_features=sqrt, n_estimators=200 .............................\n",
      "[CV]  max_features=sqrt, n_estimators=200, accuracy=0.8572347266881029, precision=0.85854492943476, recall=0.8572347266881029, f1_score=0.8571041834311884, total=   7.8s\n",
      "[Parallel(n_jobs=1)]: Done   5 out of   5 | elapsed:  1.7min remaining:    0.0s\n",
      "[CV] max_features=sqrt, n_estimators=200 .............................\n",
      "[CV]  max_features=sqrt, n_estimators=200, accuracy=0.8481989708404802, precision=0.8497843846256864, recall=0.8481989708404802, f1_score=0.8480267644232874, total=   8.1s\n",
      "[Parallel(n_jobs=1)]: Done   6 out of   6 | elapsed:  1.9min remaining:    0.0s\n",
      "[CV] max_features=sqrt, n_estimators=700 .............................\n",
      "[CV]  max_features=sqrt, n_estimators=700, accuracy=0.8568060021436227, precision=0.858347860121395, recall=0.8568060021436227, f1_score=0.8566518066117308, total=  36.5s\n",
      "[Parallel(n_jobs=1)]: Done   7 out of   7 | elapsed:  2.6min remaining:    0.0s\n",
      "[CV] max_features=sqrt, n_estimators=700 .............................\n",
      "[CV]  max_features=sqrt, n_estimators=700, accuracy=0.8483061749571184, precision=0.8499847357102205, recall=0.8483061749571184, f1_score=0.8481240720351828, total=  38.3s\n",
      "[Parallel(n_jobs=1)]: Done   8 out of   8 | elapsed:  3.3min remaining:    0.0s\n",
      "[CV] max_features=log2, n_estimators=200 .............................\n",
      "[CV]  max_features=log2, n_estimators=200, accuracy=0.8572347266881029, precision=0.85854492943476, recall=0.8572347266881029, f1_score=0.8571041834311884, total=   7.2s\n",
      "[Parallel(n_jobs=1)]: Done   9 out of   9 | elapsed:  3.5min remaining:    0.0s\n",
      "[CV] max_features=log2, n_estimators=200 .............................\n",
      "[CV]  max_features=log2, n_estimators=200, accuracy=0.8481989708404802, precision=0.8497843846256864, recall=0.8481989708404802, f1_score=0.8480267644232874, total=   8.7s\n",
      "[Parallel(n_jobs=1)]: Done  10 out of  10 | elapsed:  3.6min remaining:    0.0s\n",
      "[CV] max_features=log2, n_estimators=700 .............................\n",
      "[CV]  max_features=log2, n_estimators=700, accuracy=0.8568060021436227, precision=0.858347860121395, recall=0.8568060021436227, f1_score=0.8566518066117308, total=  25.9s\n",
      "[Parallel(n_jobs=1)]: Done  11 out of  11 | elapsed:  4.1min remaining:    0.0s\n",
      "[CV] max_features=log2, n_estimators=700 .............................\n",
      "[CV]  max_features=log2, n_estimators=700, accuracy=0.8483061749571184, precision=0.8499847357102205, recall=0.8483061749571184, f1_score=0.8481240720351828, total=  29.2s\n",
      "[Parallel(n_jobs=1)]: Done  12 out of  12 | elapsed:  4.7min remaining:    0.0s\n",
      "[Parallel(n_jobs=1)]: Done  12 out of  12 | elapsed:  4.7min finished\n",
      "Precision: 0.9291\n",
      "Recall:    0.8864\n",
      "F-score:   0.9027\n",
      "Precision: 0.9291\n",
      "Recall:    0.8864\n",
      "F-score:   0.9027\n",
      "Precision of SN:     0.3438\n",
      "Recall of SN:        0.6749\n",
      "F-measure of SN:     0.4556\n",
      "Precision of NSN: 0.9734\n",
      "Recall of NSN:    0.9025\n",
      "F-measure of NSN: 0.9366\n"
     ]
    },
    {
     "name": "stderr",
     "output_type": "stream",
     "text": [
      "/home/mauro/anaconda3/lib/python3.6/site-packages/matplotlib/font_manager.py:1328: UserWarning: findfont: Font family ['Times New Roman'] not found. Falling back to DejaVu Sans\n",
      "  (prop.get_family(), self.defaultFamily[fontext]))\n"
     ]
    },
    {
     "data": {
      "image/png": "[encoded data removed]",
      "text/plain": [
       "<Figure size 1008x576 with 1 Axes>"
      ]
     },
     "metadata": {},
     "output_type": "display_data"
    }
   ],
   "source": [
    "feats = totFeats()[:-2]\n",
    "runModel(feats)"
   ]
  },
  {
   "cell_type": "markdown",
   "metadata": {},
   "source": [
    "## Only skewGaussian"
   ]
  },
  {
   "cell_type": "code",
   "execution_count": 37,
   "metadata": {},
   "outputs": [
    {
     "name": "stdout",
     "output_type": "stream",
     "text": [
      "['skew' 'std' 'kurtosis' 'beyond1st' 'stetson_j' 'stetson_k' 'max_slope'\n",
      " 'amplitude' 'median_absolute_deviation' 'median_buffer_range_percentage'\n",
      " 'pair_slope_trend' 'percent_amplitude'\n",
      " 'percent_difference_flux_percentile' 'flux_percentile_ratio_mid20'\n",
      " 'flux_percentile_ratio_mid35' 'flux_percentile_ratio_mid50'\n",
      " 'flux_percentile_ratio_mid65' 'flux_percentile_ratio_mid80'\n",
      " 'small_kurtosis' 'pair_slope_trend_last_30' 'poly1_t1' 'poly2_t2'\n",
      " 'poly2_t1' 'chi2sGauss']\n",
      "Fitting 2 folds for each of 6 candidates, totalling 12 fits\n",
      "[CV] max_features=auto, n_estimators=200 .............................\n",
      "[CV]  max_features=auto, n_estimators=200, accuracy=0.8697749196141479, precision=0.8714044436026014, recall=0.8697749196141479, f1_score=0.8696319232714702, total=   5.7s\n",
      "[Parallel(n_jobs=1)]: Done   1 out of   1 | elapsed:    6.8s remaining:    0.0s\n",
      "[CV] max_features=auto, n_estimators=200 .............................\n",
      "[CV]  max_features=auto, n_estimators=200, accuracy=0.8632075471698113, precision=0.8647367897207661, recall=0.8632075471698113, f1_score=0.8630640132958463, total=   5.6s\n",
      "[Parallel(n_jobs=1)]: Done   2 out of   2 | elapsed:   13.4s remaining:    0.0s\n",
      "[CV] max_features=auto, n_estimators=700 .............................\n",
      "[CV]  max_features=auto, n_estimators=700, accuracy=0.8708467309753484, precision=0.8726331495912621, recall=0.8708467309753484, f1_score=0.8706917537151342, total=  19.8s\n",
      "[Parallel(n_jobs=1)]: Done   3 out of   3 | elapsed:   36.7s remaining:    0.0s\n",
      "[CV] max_features=auto, n_estimators=700 .............................\n",
      "[CV]  max_features=auto, n_estimators=700, accuracy=0.8647084048027445, precision=0.8663478077123132, recall=0.8647084048027445, f1_score=0.8645568781364251, total=  19.7s\n",
      "[Parallel(n_jobs=1)]: Done   4 out of   4 | elapsed:   59.8s remaining:    0.0s\n",
      "[CV] max_features=sqrt, n_estimators=200 .............................\n",
      "[CV]  max_features=sqrt, n_estimators=200, accuracy=0.8697749196141479, precision=0.8714044436026014, recall=0.8697749196141479, f1_score=0.8696319232714702, total=   5.7s\n",
      "[Parallel(n_jobs=1)]: Done   5 out of   5 | elapsed:  1.1min remaining:    0.0s\n",
      "[CV] max_features=sqrt, n_estimators=200 .............................\n",
      "[CV]  max_features=sqrt, n_estimators=200, accuracy=0.8632075471698113, precision=0.8647367897207661, recall=0.8632075471698113, f1_score=0.8630640132958463, total=   5.7s\n",
      "[Parallel(n_jobs=1)]: Done   6 out of   6 | elapsed:  1.2min remaining:    0.0s\n",
      "[CV] max_features=sqrt, n_estimators=700 .............................\n",
      "[CV]  max_features=sqrt, n_estimators=700, accuracy=0.8708467309753484, precision=0.8726331495912621, recall=0.8708467309753484, f1_score=0.8706917537151342, total=  19.7s\n",
      "[Parallel(n_jobs=1)]: Done   7 out of   7 | elapsed:  1.6min remaining:    0.0s\n",
      "[CV] max_features=sqrt, n_estimators=700 .............................\n",
      "[CV]  max_features=sqrt, n_estimators=700, accuracy=0.8647084048027445, precision=0.8663478077123132, recall=0.8647084048027445, f1_score=0.8645568781364251, total=  23.9s\n",
      "[Parallel(n_jobs=1)]: Done   8 out of   8 | elapsed:  2.1min remaining:    0.0s\n",
      "[CV] max_features=log2, n_estimators=200 .............................\n",
      "[CV]  max_features=log2, n_estimators=200, accuracy=0.8697749196141479, precision=0.8714044436026014, recall=0.8697749196141479, f1_score=0.8696319232714702, total=   6.3s\n",
      "[Parallel(n_jobs=1)]: Done   9 out of   9 | elapsed:  2.2min remaining:    0.0s\n",
      "[CV] max_features=log2, n_estimators=200 .............................\n",
      "[CV]  max_features=log2, n_estimators=200, accuracy=0.8632075471698113, precision=0.8647367897207661, recall=0.8632075471698113, f1_score=0.8630640132958463, total=   6.4s\n",
      "[Parallel(n_jobs=1)]: Done  10 out of  10 | elapsed:  2.3min remaining:    0.0s\n",
      "[CV] max_features=log2, n_estimators=700 .............................\n",
      "[CV]  max_features=log2, n_estimators=700, accuracy=0.8708467309753484, precision=0.8726331495912621, recall=0.8708467309753484, f1_score=0.8706917537151342, total=  23.4s\n",
      "[Parallel(n_jobs=1)]: Done  11 out of  11 | elapsed:  2.8min remaining:    0.0s\n",
      "[CV] max_features=log2, n_estimators=700 .............................\n",
      "[CV]  max_features=log2, n_estimators=700, accuracy=0.8647084048027445, precision=0.8663478077123132, recall=0.8647084048027445, f1_score=0.8645568781364251, total=  20.0s\n",
      "[Parallel(n_jobs=1)]: Done  12 out of  12 | elapsed:  3.2min remaining:    0.0s\n",
      "[Parallel(n_jobs=1)]: Done  12 out of  12 | elapsed:  3.2min finished\n",
      "Precision: 0.9331\n",
      "Recall:    0.8976\n",
      "F-score:   0.9110\n",
      "Precision: 0.9331\n",
      "Recall:    0.8976\n",
      "F-score:   0.9110\n",
      "Precision of SN:     0.3765\n",
      "Recall of SN:        0.6935\n",
      "F-measure of SN:     0.4880\n",
      "Precision of NSN: 0.9752\n",
      "Recall of NSN:    0.9130\n",
      "F-measure of NSN: 0.9431\n"
     ]
    },
    {
     "name": "stderr",
     "output_type": "stream",
     "text": [
      "/home/mauro/anaconda3/lib/python3.6/site-packages/matplotlib/font_manager.py:1328: UserWarning: findfont: Font family ['Times New Roman'] not found. Falling back to DejaVu Sans\n",
      "  (prop.get_family(), self.defaultFamily[fontext]))\n"
     ]
    },
    {
     "data": {
      "image/png": "[encoded data removed]",
      "text/plain": [
       "<Figure size 1008x576 with 1 Axes>"
      ]
     },
     "metadata": {},
     "output_type": "display_data"
    }
   ],
   "source": [
    "feats= totFeats()[:-1]\n",
    "print(feats)\n",
    "runModel(feats)"
   ]
  },
  {
   "cell_type": "markdown",
   "metadata": {},
   "source": [
    "## salt2"
   ]
  },
  {
   "cell_type": "code",
   "execution_count": 35,
   "metadata": {},
   "outputs": [],
   "source": [
    "feats = totFeats()"
   ]
  },
  {
   "cell_type": "code",
   "execution_count": 36,
   "metadata": {},
   "outputs": [
    {
     "data": {
      "text/plain": [
       "array(['skew', 'std', 'kurtosis', 'beyond1st', 'stetson_j', 'stetson_k',\n",
       "       'max_slope', 'amplitude', 'median_absolute_deviation',\n",
       "       'median_buffer_range_percentage', 'pair_slope_trend',\n",
       "       'percent_amplitude', 'percent_difference_flux_percentile',\n",
       "       'flux_percentile_ratio_mid20', 'flux_percentile_ratio_mid35',\n",
       "       'flux_percentile_ratio_mid50', 'flux_percentile_ratio_mid65',\n",
       "       'flux_percentile_ratio_mid80', 'small_kurtosis',\n",
       "       'pair_slope_trend_last_30', 'poly1_t1', 'poly2_t2', 'poly2_t1',\n",
       "       'chi2sGauss', 'chi2Salt2'], dtype='<U34')"
      ]
     },
     "execution_count": 36,
     "metadata": {},
     "output_type": "execute_result"
    }
   ],
   "source": [
    "feats"
   ]
  },
  {
   "cell_type": "code",
   "execution_count": 40,
   "metadata": {},
   "outputs": [],
   "source": [
    "feats = list(feats)"
   ]
  },
  {
   "cell_type": "code",
   "execution_count": 44,
   "metadata": {},
   "outputs": [],
   "source": [
    "feats[:-2].append(feats[-1])"
   ]
  },
  {
   "cell_type": "code",
   "execution_count": 51,
   "metadata": {},
   "outputs": [],
   "source": [
    "feats = feats[:-2]+[feats[-1]]\n"
   ]
  },
  {
   "cell_type": "code",
   "execution_count": 52,
   "metadata": {},
   "outputs": [
    {
     "name": "stdout",
     "output_type": "stream",
     "text": [
      "Fitting 2 folds for each of 6 candidates, totalling 12 fits\n",
      "[CV] max_features=auto, n_estimators=200 .............................\n",
      "[CV]  max_features=auto, n_estimators=200, accuracy=0.8709539121114683, precision=0.8718111772868603, recall=0.8709539121114683, f1_score=0.8708794855427994, total=   5.7s\n",
      "[Parallel(n_jobs=1)]: Done   1 out of   1 | elapsed:    6.7s remaining:    0.0s\n",
      "[CV] max_features=auto, n_estimators=200 .............................\n",
      "[CV]  max_features=auto, n_estimators=200, accuracy=0.8625643224699828, precision=0.8637834619526683, recall=0.8625643224699828, f1_score=0.8624490796295008, total=   5.6s\n",
      "[Parallel(n_jobs=1)]: Done   2 out of   2 | elapsed:   13.4s remaining:    0.0s\n",
      "[CV] max_features=auto, n_estimators=700 .............................\n",
      "[CV]  max_features=auto, n_estimators=700, accuracy=0.8721329046087889, precision=0.8731287444462218, recall=0.8721329046087889, f1_score=0.8720475318205705, total=  19.6s\n",
      "[Parallel(n_jobs=1)]: Done   3 out of   3 | elapsed:   36.5s remaining:    0.0s\n",
      "[CV] max_features=auto, n_estimators=700 .............................\n",
      "[CV]  max_features=auto, n_estimators=700, accuracy=0.8636363636363636, precision=0.8651269575480015, recall=0.8636363636363636, f1_score=0.8634970487598302, total=  19.5s\n",
      "[Parallel(n_jobs=1)]: Done   4 out of   4 | elapsed:   59.6s remaining:    0.0s\n",
      "[CV] max_features=sqrt, n_estimators=200 .............................\n",
      "[CV]  max_features=sqrt, n_estimators=200, accuracy=0.8709539121114683, precision=0.8718111772868603, recall=0.8709539121114683, f1_score=0.8708794855427994, total=   5.6s\n",
      "[Parallel(n_jobs=1)]: Done   5 out of   5 | elapsed:  1.1min remaining:    0.0s\n",
      "[CV] max_features=sqrt, n_estimators=200 .............................\n",
      "[CV]  max_features=sqrt, n_estimators=200, accuracy=0.8625643224699828, precision=0.8637834619526683, recall=0.8625643224699828, f1_score=0.8624490796295008, total=   5.6s\n",
      "[Parallel(n_jobs=1)]: Done   6 out of   6 | elapsed:  1.2min remaining:    0.0s\n",
      "[CV] max_features=sqrt, n_estimators=700 .............................\n",
      "[CV]  max_features=sqrt, n_estimators=700, accuracy=0.8721329046087889, precision=0.8731287444462218, recall=0.8721329046087889, f1_score=0.8720475318205705, total=  19.5s\n",
      "[Parallel(n_jobs=1)]: Done   7 out of   7 | elapsed:  1.6min remaining:    0.0s\n",
      "[CV] max_features=sqrt, n_estimators=700 .............................\n",
      "[CV]  max_features=sqrt, n_estimators=700, accuracy=0.8636363636363636, precision=0.8651269575480015, recall=0.8636363636363636, f1_score=0.8634970487598302, total=  19.5s\n",
      "[Parallel(n_jobs=1)]: Done   8 out of   8 | elapsed:  2.0min remaining:    0.0s\n",
      "[CV] max_features=log2, n_estimators=200 .............................\n",
      "[CV]  max_features=log2, n_estimators=200, accuracy=0.8709539121114683, precision=0.8718111772868603, recall=0.8709539121114683, f1_score=0.8708794855427994, total=   5.6s\n",
      "[Parallel(n_jobs=1)]: Done   9 out of   9 | elapsed:  2.1min remaining:    0.0s\n",
      "[CV] max_features=log2, n_estimators=200 .............................\n",
      "[CV]  max_features=log2, n_estimators=200, accuracy=0.8625643224699828, precision=0.8637834619526683, recall=0.8625643224699828, f1_score=0.8624490796295008, total=   5.5s\n",
      "[Parallel(n_jobs=1)]: Done  10 out of  10 | elapsed:  2.2min remaining:    0.0s\n",
      "[CV] max_features=log2, n_estimators=700 .............................\n",
      "[CV]  max_features=log2, n_estimators=700, accuracy=0.8721329046087889, precision=0.8731287444462218, recall=0.8721329046087889, f1_score=0.8720475318205705, total=  19.7s\n",
      "[Parallel(n_jobs=1)]: Done  11 out of  11 | elapsed:  2.6min remaining:    0.0s\n",
      "[CV] max_features=log2, n_estimators=700 .............................\n",
      "[CV]  max_features=log2, n_estimators=700, accuracy=0.8636363636363636, precision=0.8651269575480015, recall=0.8636363636363636, f1_score=0.8634970487598302, total=  19.5s\n",
      "[Parallel(n_jobs=1)]: Done  12 out of  12 | elapsed:  3.0min remaining:    0.0s\n",
      "[Parallel(n_jobs=1)]: Done  12 out of  12 | elapsed:  3.0min finished\n",
      "Precision: 0.9293\n",
      "Recall:    0.8919\n",
      "F-score:   0.9063\n",
      "Precision: 0.9293\n",
      "Recall:    0.8919\n",
      "F-score:   0.9063\n",
      "Precision of SN:     0.3561\n",
      "Recall of SN:        0.6625\n",
      "F-measure of SN:     0.4632\n",
      "Precision of NSN: 0.9727\n",
      "Recall of NSN:    0.9093\n",
      "F-measure of NSN: 0.9399\n"
     ]
    },
    {
     "name": "stderr",
     "output_type": "stream",
     "text": [
      "/home/mauro/anaconda3/lib/python3.6/site-packages/matplotlib/font_manager.py:1328: UserWarning: findfont: Font family ['Times New Roman'] not found. Falling back to DejaVu Sans\n",
      "  (prop.get_family(), self.defaultFamily[fontext]))\n"
     ]
    },
    {
     "data": {
      "image/png": "[encoded data removed]",
      "text/plain": [
       "<Figure size 1008x576 with 1 Axes>"
      ]
     },
     "metadata": {},
     "output_type": "display_data"
    }
   ],
   "source": [
    "runModel(feats)"
   ]
  },
  {
   "cell_type": "markdown",
   "metadata": {},
   "source": [
    "## with polinomials"
   ]
  },
  {
   "cell_type": "code",
   "execution_count": 25,
   "metadata": {},
   "outputs": [],
   "source": [
    "feats = totFeats()"
   ]
  },
  {
   "cell_type": "code",
   "execution_count": 27,
   "metadata": {},
   "outputs": [
    {
     "name": "stdout",
     "output_type": "stream",
     "text": [
      "['skew' 'std' 'kurtosis' 'beyond1st' 'stetson_j' 'stetson_k' 'max_slope'\n",
      " 'amplitude' 'median_absolute_deviation' 'median_buffer_range_percentage'\n",
      " 'pair_slope_trend' 'percent_amplitude'\n",
      " 'percent_difference_flux_percentile' 'flux_percentile_ratio_mid20'\n",
      " 'flux_percentile_ratio_mid35' 'flux_percentile_ratio_mid50'\n",
      " 'flux_percentile_ratio_mid65' 'flux_percentile_ratio_mid80'\n",
      " 'small_kurtosis' 'pair_slope_trend_last_30' 'poly1_t1' 'poly2_t2'\n",
      " 'poly2_t1' 'poly3_t3' 'poly3_t2' 'poly3_t1' 'poly4_t4' 'poly4_t3'\n",
      " 'poly4_t2' 'poly4_t1']\n"
     ]
    }
   ],
   "source": [
    "feats = feats[:-3]\n",
    "print(feats)"
   ]
  },
  {
   "cell_type": "code",
   "execution_count": 28,
   "metadata": {},
   "outputs": [
    {
     "name": "stdout",
     "output_type": "stream",
     "text": [
      "Fitting 2 folds for each of 6 candidates, totalling 12 fits\n",
      "[CV] max_features=auto, n_estimators=200 .............................\n",
      "[CV]  max_features=auto, n_estimators=200, accuracy=0.8683815648445874, precision=0.8694088101540758, recall=0.8683815648445874, f1_score=0.8682900006511215, total=   6.9s\n",
      "[Parallel(n_jobs=1)]: Done   1 out of   1 | elapsed:    7.9s remaining:    0.0s\n",
      "[CV] max_features=auto, n_estimators=200 .............................\n",
      "[CV]  max_features=auto, n_estimators=200, accuracy=0.8623499142367067, precision=0.8632959277943489, recall=0.8623499142367067, f1_score=0.862260246513884, total=   7.9s\n",
      "[Parallel(n_jobs=1)]: Done   2 out of   2 | elapsed:   17.2s remaining:    0.0s\n",
      "[CV] max_features=auto, n_estimators=700 .............................\n",
      "[CV]  max_features=auto, n_estimators=700, accuracy=0.8712754555198285, precision=0.872459279135222, recall=0.8712754555198285, f1_score=0.8711730897397234, total=  29.3s\n",
      "[Parallel(n_jobs=1)]: Done   3 out of   3 | elapsed:   52.7s remaining:    0.0s\n",
      "[CV] max_features=auto, n_estimators=700 .............................\n",
      "[CV]  max_features=auto, n_estimators=700, accuracy=0.8635291595197255, precision=0.8646887825141868, recall=0.8635291595197255, f1_score=0.863420587063288, total=  31.9s\n",
      "[Parallel(n_jobs=1)]: Done   4 out of   4 | elapsed:  1.5min remaining:    0.0s\n",
      "[CV] max_features=sqrt, n_estimators=200 .............................\n",
      "[CV]  max_features=sqrt, n_estimators=200, accuracy=0.8683815648445874, precision=0.8694088101540758, recall=0.8683815648445874, f1_score=0.8682900006511215, total=   7.5s\n",
      "[Parallel(n_jobs=1)]: Done   5 out of   5 | elapsed:  1.7min remaining:    0.0s\n",
      "[CV] max_features=sqrt, n_estimators=200 .............................\n",
      "[CV]  max_features=sqrt, n_estimators=200, accuracy=0.8623499142367067, precision=0.8632959277943489, recall=0.8623499142367067, f1_score=0.862260246513884, total=   7.6s\n",
      "[Parallel(n_jobs=1)]: Done   6 out of   6 | elapsed:  1.8min remaining:    0.0s\n",
      "[CV] max_features=sqrt, n_estimators=700 .............................\n",
      "[CV]  max_features=sqrt, n_estimators=700, accuracy=0.8712754555198285, precision=0.872459279135222, recall=0.8712754555198285, f1_score=0.8711730897397234, total=  27.1s\n",
      "[Parallel(n_jobs=1)]: Done   7 out of   7 | elapsed:  2.3min remaining:    0.0s\n",
      "[CV] max_features=sqrt, n_estimators=700 .............................\n",
      "[CV]  max_features=sqrt, n_estimators=700, accuracy=0.8635291595197255, precision=0.8646887825141868, recall=0.8635291595197255, f1_score=0.863420587063288, total=  26.4s\n",
      "[Parallel(n_jobs=1)]: Done   8 out of   8 | elapsed:  2.8min remaining:    0.0s\n",
      "[CV] max_features=log2, n_estimators=200 .............................\n",
      "[CV]  max_features=log2, n_estimators=200, accuracy=0.8666666666666667, precision=0.8678091923690777, recall=0.8666666666666667, f1_score=0.8665630428609368, total=   6.5s\n",
      "[Parallel(n_jobs=1)]: Done   9 out of   9 | elapsed:  2.9min remaining:    0.0s\n",
      "[CV] max_features=log2, n_estimators=200 .............................\n",
      "[CV]  max_features=log2, n_estimators=200, accuracy=0.8590265866209262, precision=0.8602974640304257, recall=0.8590265866209262, f1_score=0.8589021630047005, total=   6.3s\n",
      "[Parallel(n_jobs=1)]: Done  10 out of  10 | elapsed:  3.1min remaining:    0.0s\n",
      "[CV] max_features=log2, n_estimators=700 .............................\n",
      "[CV]  max_features=log2, n_estimators=700, accuracy=0.8678456591639871, precision=0.8690912316707106, recall=0.8678456591639871, f1_score=0.8677340696759072, total=  22.3s\n",
      "[Parallel(n_jobs=1)]: Done  11 out of  11 | elapsed:  3.5min remaining:    0.0s\n",
      "[CV] max_features=log2, n_estimators=700 .............................\n",
      "[CV]  max_features=log2, n_estimators=700, accuracy=0.8603130360205832, precision=0.8617406654446266, recall=0.8603130360205832, f1_score=0.8601750793364014, total=  22.9s\n",
      "[Parallel(n_jobs=1)]: Done  12 out of  12 | elapsed:  4.0min remaining:    0.0s\n",
      "[Parallel(n_jobs=1)]: Done  12 out of  12 | elapsed:  4.0min finished\n",
      "Precision: 0.9298\n",
      "Recall:    0.8910\n",
      "F-score:   0.9059\n",
      "Precision: 0.9298\n",
      "Recall:    0.8910\n",
      "F-score:   0.9059\n",
      "Precision of SN:     0.3552\n",
      "Recall of SN:        0.6718\n",
      "F-measure of SN:     0.4647\n",
      "Precision of NSN: 0.9733\n",
      "Recall of NSN:    0.9076\n",
      "F-measure of NSN: 0.9393\n"
     ]
    },
    {
     "name": "stderr",
     "output_type": "stream",
     "text": [
      "/home/mauro/anaconda3/lib/python3.6/site-packages/matplotlib/font_manager.py:1328: UserWarning: findfont: Font family ['Times New Roman'] not found. Falling back to DejaVu Sans\n",
      "  (prop.get_family(), self.defaultFamily[fontext]))\n"
     ]
    },
    {
     "data": {
      "image/png": "[encoded data removed]",
      "text/plain": [
       "<Figure size 1008x576 with 1 Axes>"
      ]
     },
     "metadata": {},
     "output_type": "display_data"
    }
   ],
   "source": [
    "runModel(feats)"
   ]
  },
  {
   "cell_type": "markdown",
   "metadata": {},
   "source": [
    "## polys and skew "
   ]
  },
  {
   "cell_type": "code",
   "execution_count": 39,
   "metadata": {},
   "outputs": [
    {
     "name": "stdout",
     "output_type": "stream",
     "text": [
      "['skew', 'std', 'kurtosis', 'beyond1st', 'stetson_j', 'stetson_k', 'max_slope', 'amplitude', 'median_absolute_deviation', 'median_buffer_range_percentage', 'pair_slope_trend', 'percent_amplitude', 'percent_difference_flux_percentile', 'flux_percentile_ratio_mid20', 'flux_percentile_ratio_mid35', 'flux_percentile_ratio_mid50', 'flux_percentile_ratio_mid65', 'flux_percentile_ratio_mid80', 'small_kurtosis', 'pair_slope_trend_last_30', 'poly1_t1', 'poly2_t2', 'poly2_t1', 'poly3_t3', 'poly3_t2', 'poly3_t1', 'poly4_t4', 'poly4_t3', 'poly4_t2', 'poly4_t1', 'chi2sGauss']\n",
      "Fitting 2 folds for each of 6 candidates, totalling 12 fits\n",
      "[CV] max_features=auto, n_estimators=200 .............................\n",
      "[CV]  max_features=auto, n_estimators=200, accuracy=0.8780278670953912, precision=0.8796829480064509, recall=0.8780278670953912, f1_score=0.8778947995007385, total=   8.4s\n",
      "[Parallel(n_jobs=1)]: Done   1 out of   1 | elapsed:    9.5s remaining:    0.0s\n",
      "[CV] max_features=auto, n_estimators=200 .............................\n",
      "[CV]  max_features=auto, n_estimators=200, accuracy=0.8716766723842195, precision=0.8730501545092889, recall=0.8716766723842195, f1_score=0.8715584495584714, total=   9.4s\n",
      "[Parallel(n_jobs=1)]: Done   2 out of   2 | elapsed:   20.9s remaining:    0.0s\n",
      "[CV] max_features=auto, n_estimators=700 .............................\n",
      "[CV]  max_features=auto, n_estimators=700, accuracy=0.8783494105037514, precision=0.8801947212397143, recall=0.8783494105037514, f1_score=0.8782016205393688, total=  29.1s\n",
      "[Parallel(n_jobs=1)]: Done   3 out of   3 | elapsed:   54.0s remaining:    0.0s\n",
      "[CV] max_features=auto, n_estimators=700 .............................\n",
      "[CV]  max_features=auto, n_estimators=700, accuracy=0.8731775300171527, precision=0.8746969434638036, recall=0.8731775300171527, f1_score=0.8730488318015724, total=  24.8s\n",
      "[Parallel(n_jobs=1)]: Done   4 out of   4 | elapsed:  1.4min remaining:    0.0s\n",
      "[CV] max_features=sqrt, n_estimators=200 .............................\n",
      "[CV]  max_features=sqrt, n_estimators=200, accuracy=0.8780278670953912, precision=0.8796829480064509, recall=0.8780278670953912, f1_score=0.8778947995007385, total=   7.2s\n",
      "[Parallel(n_jobs=1)]: Done   5 out of   5 | elapsed:  1.5min remaining:    0.0s\n",
      "[CV] max_features=sqrt, n_estimators=200 .............................\n",
      "[CV]  max_features=sqrt, n_estimators=200, accuracy=0.8716766723842195, precision=0.8730501545092889, recall=0.8716766723842195, f1_score=0.8715584495584714, total=   7.0s\n",
      "[Parallel(n_jobs=1)]: Done   6 out of   6 | elapsed:  1.7min remaining:    0.0s\n",
      "[CV] max_features=sqrt, n_estimators=700 .............................\n",
      "[CV]  max_features=sqrt, n_estimators=700, accuracy=0.8783494105037514, precision=0.8801947212397143, recall=0.8783494105037514, f1_score=0.8782016205393688, total=  27.1s\n",
      "[Parallel(n_jobs=1)]: Done   7 out of   7 | elapsed:  2.2min remaining:    0.0s\n",
      "[CV] max_features=sqrt, n_estimators=700 .............................\n",
      "[CV]  max_features=sqrt, n_estimators=700, accuracy=0.8731775300171527, precision=0.8746969434638036, recall=0.8731775300171527, f1_score=0.8730488318015724, total=  26.7s\n",
      "[Parallel(n_jobs=1)]: Done   8 out of   8 | elapsed:  2.7min remaining:    0.0s\n",
      "[CV] max_features=log2, n_estimators=200 .............................\n",
      "[CV]  max_features=log2, n_estimators=200, accuracy=0.87513397642015, precision=0.8767444114226645, recall=0.87513397642015, f1_score=0.8750003953154402, total=   6.3s\n",
      "[Parallel(n_jobs=1)]: Done   9 out of   9 | elapsed:  2.8min remaining:    0.0s\n",
      "[CV] max_features=log2, n_estimators=200 .............................\n",
      "[CV]  max_features=log2, n_estimators=200, accuracy=0.8674957118353345, precision=0.8688250005905558, recall=0.8674957118353345, f1_score=0.8673762138977907, total=   7.0s\n",
      "[Parallel(n_jobs=1)]: Done  10 out of  10 | elapsed:  3.0min remaining:    0.0s\n",
      "[CV] max_features=log2, n_estimators=700 .............................\n",
      "[CV]  max_features=log2, n_estimators=700, accuracy=0.8771704180064309, precision=0.87899862073895, recall=0.8771704180064309, f1_score=0.8770221137017002, total=  24.8s\n",
      "[Parallel(n_jobs=1)]: Done  11 out of  11 | elapsed:  3.5min remaining:    0.0s\n",
      "[CV] max_features=log2, n_estimators=700 .............................\n",
      "[CV]  max_features=log2, n_estimators=700, accuracy=0.8691037735849056, precision=0.8704871673254914, recall=0.8691037735849056, f1_score=0.868981468257827, total=  20.1s\n",
      "[Parallel(n_jobs=1)]: Done  12 out of  12 | elapsed:  3.9min remaining:    0.0s\n",
      "[Parallel(n_jobs=1)]: Done  12 out of  12 | elapsed:  3.9min finished\n",
      "Precision: 0.9333\n",
      "Recall:    0.8986\n",
      "F-score:   0.9118\n",
      "Precision: 0.9333\n",
      "Recall:    0.8986\n",
      "F-score:   0.9118\n",
      "Precision of SN:     0.3797\n",
      "Recall of SN:        0.6935\n",
      "F-measure of SN:     0.4907\n",
      "Precision of NSN: 0.9752\n",
      "Recall of NSN:    0.9142\n",
      "F-measure of NSN: 0.9437\n"
     ]
    },
    {
     "name": "stderr",
     "output_type": "stream",
     "text": [
      "/home/mauro/anaconda3/lib/python3.6/site-packages/matplotlib/font_manager.py:1328: UserWarning: findfont: Font family ['Times New Roman'] not found. Falling back to DejaVu Sans\n",
      "  (prop.get_family(), self.defaultFamily[fontext]))\n"
     ]
    },
    {
     "data": {
      "image/png": "[encoded data removed]",
      "text/plain": [
       "<Figure size 1008x576 with 1 Axes>"
      ]
     },
     "metadata": {},
     "output_type": "display_data"
    }
   ],
   "source": [
    "feats = list(totFeats())\n",
    "feats.pop(-3)\n",
    "feats = feats[:-1]\n",
    "print(feats)\n",
    "runModel(feats)"
   ]
  },
  {
   "cell_type": "markdown",
   "metadata": {},
   "source": [
    "## polys and salt\n"
   ]
  },
  {
   "cell_type": "code",
   "execution_count": 40,
   "metadata": {},
   "outputs": [
    {
     "name": "stdout",
     "output_type": "stream",
     "text": [
      "['skew', 'std', 'kurtosis', 'beyond1st', 'stetson_j', 'stetson_k', 'max_slope', 'amplitude', 'median_absolute_deviation', 'median_buffer_range_percentage', 'pair_slope_trend', 'percent_amplitude', 'percent_difference_flux_percentile', 'flux_percentile_ratio_mid20', 'flux_percentile_ratio_mid35', 'flux_percentile_ratio_mid50', 'flux_percentile_ratio_mid65', 'flux_percentile_ratio_mid80', 'small_kurtosis', 'pair_slope_trend_last_30', 'poly1_t1', 'poly2_t2', 'poly2_t1', 'poly3_t3', 'poly3_t2', 'poly3_t1', 'poly4_t4', 'poly4_t3', 'poly4_t2', 'poly4_t1', 'chi2Salt2']\n",
      "Fitting 2 folds for each of 6 candidates, totalling 12 fits\n",
      "[CV] max_features=auto, n_estimators=200 .............................\n",
      "[CV]  max_features=auto, n_estimators=200, accuracy=0.8810289389067524, precision=0.8819574077038325, recall=0.8810289389067524, f1_score=0.8809565957055496, total=   7.9s\n",
      "[Parallel(n_jobs=1)]: Done   1 out of   1 | elapsed:    8.9s remaining:    0.0s\n",
      "[CV] max_features=auto, n_estimators=200 .............................\n",
      "[CV]  max_features=auto, n_estimators=200, accuracy=0.8725343053173242, precision=0.873482481138183, recall=0.8725343053173242, f1_score=0.8724533532964508, total=   7.0s\n",
      "[Parallel(n_jobs=1)]: Done   2 out of   2 | elapsed:   17.0s remaining:    0.0s\n",
      "[CV] max_features=auto, n_estimators=700 .............................\n",
      "[CV]  max_features=auto, n_estimators=700, accuracy=0.8809217577706324, precision=0.8820454640141844, recall=0.8809217577706324, f1_score=0.8808341324472088, total=  29.0s\n",
      "[Parallel(n_jobs=1)]: Done   3 out of   3 | elapsed:   49.7s remaining:    0.0s\n",
      "[CV] max_features=auto, n_estimators=700 .............................\n",
      "[CV]  max_features=auto, n_estimators=700, accuracy=0.8737135506003431, precision=0.8748965839356599, recall=0.8737135506003431, f1_score=0.8736138437462547, total=  24.1s\n",
      "[Parallel(n_jobs=1)]: Done   4 out of   4 | elapsed:  1.3min remaining:    0.0s\n",
      "[CV] max_features=sqrt, n_estimators=200 .............................\n",
      "[CV]  max_features=sqrt, n_estimators=200, accuracy=0.8810289389067524, precision=0.8819574077038325, recall=0.8810289389067524, f1_score=0.8809565957055496, total=   6.4s\n",
      "[Parallel(n_jobs=1)]: Done   5 out of   5 | elapsed:  1.4min remaining:    0.0s\n",
      "[CV] max_features=sqrt, n_estimators=200 .............................\n",
      "[CV]  max_features=sqrt, n_estimators=200, accuracy=0.8725343053173242, precision=0.873482481138183, recall=0.8725343053173242, f1_score=0.8724533532964508, total=   6.8s\n",
      "[Parallel(n_jobs=1)]: Done   6 out of   6 | elapsed:  1.5min remaining:    0.0s\n",
      "[CV] max_features=sqrt, n_estimators=700 .............................\n",
      "[CV]  max_features=sqrt, n_estimators=700, accuracy=0.8809217577706324, precision=0.8820454640141844, recall=0.8809217577706324, f1_score=0.8808341324472088, total=  25.3s\n",
      "[Parallel(n_jobs=1)]: Done   7 out of   7 | elapsed:  2.1min remaining:    0.0s\n",
      "[CV] max_features=sqrt, n_estimators=700 .............................\n",
      "[CV]  max_features=sqrt, n_estimators=700, accuracy=0.8737135506003431, precision=0.8748965839356599, recall=0.8737135506003431, f1_score=0.8736138437462547, total=  27.8s\n",
      "[Parallel(n_jobs=1)]: Done   8 out of   8 | elapsed:  2.6min remaining:    0.0s\n",
      "[CV] max_features=log2, n_estimators=200 .............................\n",
      "[CV]  max_features=log2, n_estimators=200, accuracy=0.87491961414791, precision=0.8759229113113146, recall=0.87491961414791, f1_score=0.8748361019569204, total=   6.8s\n",
      "[Parallel(n_jobs=1)]: Done   9 out of   9 | elapsed:  2.7min remaining:    0.0s\n",
      "[CV] max_features=log2, n_estimators=200 .............................\n",
      "[CV]  max_features=log2, n_estimators=200, accuracy=0.869532590051458, precision=0.8706934473611093, recall=0.869532590051458, f1_score=0.8694303676401757, total=   7.0s\n",
      "[Parallel(n_jobs=1)]: Done  10 out of  10 | elapsed:  2.9min remaining:    0.0s\n",
      "[CV] max_features=log2, n_estimators=700 .............................\n",
      "[CV]  max_features=log2, n_estimators=700, accuracy=0.877491961414791, precision=0.8787326190073126, recall=0.877491961414791, f1_score=0.8773915507980553, total=  24.1s\n",
      "[Parallel(n_jobs=1)]: Done  11 out of  11 | elapsed:  3.3min remaining:    0.0s\n",
      "[CV] max_features=log2, n_estimators=700 .............................\n",
      "[CV]  max_features=log2, n_estimators=700, accuracy=0.8698542024013722, precision=0.8711164102700357, recall=0.8698542024013722, f1_score=0.8697434481743227, total=  22.8s\n",
      "[Parallel(n_jobs=1)]: Done  12 out of  12 | elapsed:  3.8min remaining:    0.0s\n",
      "[Parallel(n_jobs=1)]: Done  12 out of  12 | elapsed:  3.8min finished\n",
      "Precision: 0.9319\n",
      "Recall:    0.8969\n",
      "F-score:   0.9103\n",
      "Precision: 0.9319\n",
      "Recall:    0.8969\n",
      "F-score:   0.9103\n",
      "Precision of SN:     0.3729\n",
      "Recall of SN:        0.6811\n",
      "F-measure of SN:     0.4819\n",
      "Precision of NSN: 0.9742\n",
      "Recall of NSN:    0.9132\n",
      "F-measure of NSN: 0.9428\n"
     ]
    },
    {
     "name": "stderr",
     "output_type": "stream",
     "text": [
      "/home/mauro/anaconda3/lib/python3.6/site-packages/matplotlib/font_manager.py:1328: UserWarning: findfont: Font family ['Times New Roman'] not found. Falling back to DejaVu Sans\n",
      "  (prop.get_family(), self.defaultFamily[fontext]))\n"
     ]
    },
    {
     "data": {
      "image/png": "[encoded data removed]",
      "text/plain": [
       "<Figure size 1008x576 with 1 Axes>"
      ]
     },
     "metadata": {},
     "output_type": "display_data"
    }
   ],
   "source": [
    "feats = list(totFeats())\n",
    "feats.pop(-3)\n",
    "feats.pop(-2)\n",
    "# feats = feats[:-1]\n",
    "print(feats)\n",
    "runModel(feats)"
   ]
  },
  {
   "cell_type": "markdown",
   "metadata": {},
   "source": [
    "## polys and both X^2"
   ]
  },
  {
   "cell_type": "code",
   "execution_count": 41,
   "metadata": {},
   "outputs": [
    {
     "name": "stdout",
     "output_type": "stream",
     "text": [
      "['skew', 'std', 'kurtosis', 'beyond1st', 'stetson_j', 'stetson_k', 'max_slope', 'amplitude', 'median_absolute_deviation', 'median_buffer_range_percentage', 'pair_slope_trend', 'percent_amplitude', 'percent_difference_flux_percentile', 'flux_percentile_ratio_mid20', 'flux_percentile_ratio_mid35', 'flux_percentile_ratio_mid50', 'flux_percentile_ratio_mid65', 'flux_percentile_ratio_mid80', 'small_kurtosis', 'pair_slope_trend_last_30', 'poly1_t1', 'poly2_t2', 'poly2_t1', 'poly3_t3', 'poly3_t2', 'poly3_t1', 'poly4_t4', 'poly4_t3', 'poly4_t2', 'poly4_t1', 'chi2sGauss', 'chi2Salt2']\n",
      "Fitting 2 folds for each of 6 candidates, totalling 12 fits\n",
      "[CV] max_features=auto, n_estimators=200 .............................\n",
      "[CV]  max_features=auto, n_estimators=200, accuracy=0.8854233654876742, precision=0.8868269094542223, recall=0.8854233654876742, f1_score=0.8853193400538086, total=   9.0s\n",
      "[Parallel(n_jobs=1)]: Done   1 out of   1 | elapsed:   10.0s remaining:    0.0s\n",
      "[CV] max_features=auto, n_estimators=200 .............................\n",
      "[CV]  max_features=auto, n_estimators=200, accuracy=0.8796097770154374, precision=0.8812401283461014, recall=0.8796097770154374, f1_score=0.8794809288083113, total=   7.2s\n",
      "[Parallel(n_jobs=1)]: Done   2 out of   2 | elapsed:   18.3s remaining:    0.0s\n",
      "[CV] max_features=auto, n_estimators=700 .............................\n",
      "[CV]  max_features=auto, n_estimators=700, accuracy=0.8861736334405145, precision=0.8877346760903507, recall=0.8861736334405145, f1_score=0.886058950095539, total=  28.3s\n",
      "[Parallel(n_jobs=1)]: Done   3 out of   3 | elapsed:   50.3s remaining:    0.0s\n",
      "[CV] max_features=auto, n_estimators=700 .............................\n",
      "[CV]  max_features=auto, n_estimators=700, accuracy=0.8789665523156089, precision=0.8806810339282142, recall=0.8789665523156089, f1_score=0.878830123450739, total=  25.6s\n",
      "[Parallel(n_jobs=1)]: Done   4 out of   4 | elapsed:  1.3min remaining:    0.0s\n",
      "[CV] max_features=sqrt, n_estimators=200 .............................\n",
      "[CV]  max_features=sqrt, n_estimators=200, accuracy=0.8854233654876742, precision=0.8868269094542223, recall=0.8854233654876742, f1_score=0.8853193400538086, total=   7.3s\n",
      "[Parallel(n_jobs=1)]: Done   5 out of   5 | elapsed:  1.5min remaining:    0.0s\n",
      "[CV] max_features=sqrt, n_estimators=200 .............................\n",
      "[CV]  max_features=sqrt, n_estimators=200, accuracy=0.8796097770154374, precision=0.8812401283461014, recall=0.8796097770154374, f1_score=0.8794809288083113, total=   7.1s\n",
      "[Parallel(n_jobs=1)]: Done   6 out of   6 | elapsed:  1.6min remaining:    0.0s\n",
      "[CV] max_features=sqrt, n_estimators=700 .............................\n",
      "[CV]  max_features=sqrt, n_estimators=700, accuracy=0.8861736334405145, precision=0.8877346760903507, recall=0.8861736334405145, f1_score=0.886058950095539, total=  24.7s\n",
      "[Parallel(n_jobs=1)]: Done   7 out of   7 | elapsed:  2.1min remaining:    0.0s\n",
      "[CV] max_features=sqrt, n_estimators=700 .............................\n",
      "[CV]  max_features=sqrt, n_estimators=700, accuracy=0.8789665523156089, precision=0.8806810339282142, recall=0.8789665523156089, f1_score=0.878830123450739, total=  26.8s\n",
      "[Parallel(n_jobs=1)]: Done   8 out of   8 | elapsed:  2.6min remaining:    0.0s\n",
      "[CV] max_features=log2, n_estimators=200 .............................\n",
      "[CV]  max_features=log2, n_estimators=200, accuracy=0.8854233654876742, precision=0.8868269094542223, recall=0.8854233654876742, f1_score=0.8853193400538086, total=   8.6s\n",
      "[Parallel(n_jobs=1)]: Done   9 out of   9 | elapsed:  2.8min remaining:    0.0s\n",
      "[CV] max_features=log2, n_estimators=200 .............................\n",
      "[CV]  max_features=log2, n_estimators=200, accuracy=0.8796097770154374, precision=0.8812401283461014, recall=0.8796097770154374, f1_score=0.8794809288083113, total=   6.9s\n",
      "[Parallel(n_jobs=1)]: Done  10 out of  10 | elapsed:  2.9min remaining:    0.0s\n",
      "[CV] max_features=log2, n_estimators=700 .............................\n",
      "[CV]  max_features=log2, n_estimators=700, accuracy=0.8861736334405145, precision=0.8877346760903507, recall=0.8861736334405145, f1_score=0.886058950095539, total=  27.5s\n",
      "[Parallel(n_jobs=1)]: Done  11 out of  11 | elapsed:  3.4min remaining:    0.0s\n",
      "[CV] max_features=log2, n_estimators=700 .............................\n",
      "[CV]  max_features=log2, n_estimators=700, accuracy=0.8789665523156089, precision=0.8806810339282142, recall=0.8789665523156089, f1_score=0.878830123450739, total=  27.1s\n",
      "[Parallel(n_jobs=1)]: Done  12 out of  12 | elapsed:  3.9min remaining:    0.0s\n",
      "[Parallel(n_jobs=1)]: Done  12 out of  12 | elapsed:  3.9min finished\n",
      "Precision: 0.9346\n",
      "Recall:    0.9050\n",
      "F-score:   0.9163\n",
      "Precision: 0.9346\n",
      "Recall:    0.9050\n",
      "F-score:   0.9163\n",
      "Precision of SN:     0.3989\n",
      "Recall of SN:        0.6904\n",
      "F-measure of SN:     0.5057\n",
      "Precision of NSN: 0.9752\n",
      "Recall of NSN:    0.9212\n",
      "F-measure of NSN: 0.9474\n"
     ]
    },
    {
     "name": "stderr",
     "output_type": "stream",
     "text": [
      "/home/mauro/anaconda3/lib/python3.6/site-packages/matplotlib/font_manager.py:1328: UserWarning: findfont: Font family ['Times New Roman'] not found. Falling back to DejaVu Sans\n",
      "  (prop.get_family(), self.defaultFamily[fontext]))\n"
     ]
    },
    {
     "data": {
      "image/png": "[encoded data removed]",
      "text/plain": [
       "<Figure size 1008x576 with 1 Axes>"
      ]
     },
     "metadata": {},
     "output_type": "display_data"
    }
   ],
   "source": [
    "feats = list(totFeats())\n",
    "feats.pop(-3)\n",
    "# feats.pop(-2)\n",
    "# feats = feats[:-1]\n",
    "print(feats)\n",
    "runModel(feats)"
   ]
  },
  {
   "cell_type": "code",
   "execution_count": null,
   "metadata": {},
   "outputs": [],
   "source": []
  }
 ],
 "metadata": {
  "kernelspec": {
   "display_name": "Python 3",
   "language": "python",
   "name": "python3"
  },
  "language_info": {
   "codemirror_mode": {
    "name": "ipython",
    "version": 3
   },
   "file_extension": ".py",
   "mimetype": "text/x-python",
   "name": "python",
   "nbconvert_exporter": "python",
   "pygments_lexer": "ipython3",
   "version": "3.6.8"
  }
 },
 "nbformat": 4,
 "nbformat_minor": 2
}
