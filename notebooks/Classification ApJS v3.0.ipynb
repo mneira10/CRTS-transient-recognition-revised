{
 "cells": [
  {
   "cell_type": "code",
   "execution_count": 1,
   "metadata": {},
   "outputs": [],
   "source": [
    "from sklearn.ensemble import RandomForestClassifier\n",
    "import sklearn.metrics\n",
    "import pandas as pd\n",
    "import numpy as np\n",
    "np.random.seed(0)\n",
    "from sklearn.model_selection import GridSearchCV, StratifiedKFold  # , cross_val_score\n",
    "from sklearn.metrics import make_scorer, accuracy_score, precision_score, recall_score, f1_score, precision_recall_fscore_support, confusion_matrix  # , classification_report\n",
    "from sklearn.model_selection import train_test_split\n",
    "\n",
    "from sklearn.metrics import precision_recall_curve\n",
    "import matplotlib.pyplot as plt\n",
    "from sklearn.metrics import average_precision_score\n",
    "from scipy import integrate\n",
    "from sklearn.metrics import recall_score\n",
    "from sklearn.metrics import precision_recall_fscore_support,make_scorer\n",
    "from sklearn.metrics import confusion_matrix"
   ]
  },
  {
   "cell_type": "code",
   "execution_count": 2,
   "metadata": {},
   "outputs": [],
   "source": [
    "DATA_PATH = '../data/features/disanto'\n",
    "\n",
    "disantoFeatures = pd.DataFrame()\n",
    "\n",
    "for i in range(12):\n",
    "    temp = pd.read_csv(DATA_PATH+'/'+str(i+1)+'.csv')\n",
    "    disantoFeatures = pd.concat([disantoFeatures,temp])\n",
    "    "
   ]
  },
  {
   "cell_type": "code",
   "execution_count": 3,
   "metadata": {},
   "outputs": [],
   "source": [
    "nondisantoFeatures = pd.DataFrame()\n",
    "\n",
    "for i in range(12):\n",
    "    temp = pd.read_csv(DATA_PATH+'/Non'+str(i+1)+'.csv')\n",
    "    nondisantoFeatures = pd.concat([nondisantoFeatures,temp])"
   ]
  },
  {
   "cell_type": "code",
   "execution_count": 4,
   "metadata": {},
   "outputs": [],
   "source": [
    "allDisanto = pd.concat([disantoFeatures,nondisantoFeatures])"
   ]
  },
  {
   "cell_type": "code",
   "execution_count": 5,
   "metadata": {},
   "outputs": [
    {
     "data": {
      "text/plain": [
       "(62152, 37)"
      ]
     },
     "execution_count": 5,
     "metadata": {},
     "output_type": "execute_result"
    }
   ],
   "source": [
    "allDisanto.shape"
   ]
  },
  {
   "cell_type": "code",
   "execution_count": 6,
   "metadata": {},
   "outputs": [],
   "source": [
    "allDisanto= allDisanto.set_index(['ID','copy_num'])"
   ]
  },
  {
   "cell_type": "code",
   "execution_count": 7,
   "metadata": {},
   "outputs": [
    {
     "name": "stdout",
     "output_type": "stream",
     "text": [
      "Total number of features: 33\n",
      "\n",
      "The features are:\n",
      "    1. skew\n",
      "    2. std\n",
      "    3. kurtosis\n",
      "    4. beyond1st\n",
      "    5. stetson_j\n",
      "    6. stetson_k\n",
      "    7. max_slope\n",
      "    8. amplitude\n",
      "    9. median_absolute_deviation\n",
      "    10. median_buffer_range_percentage\n",
      "    11. pair_slope_trend\n",
      "    12. percent_amplitude\n",
      "    13. percent_difference_flux_percentile\n",
      "    14. flux_percentile_ratio_mid20\n",
      "    15. flux_percentile_ratio_mid35\n",
      "    16. flux_percentile_ratio_mid50\n",
      "    17. flux_percentile_ratio_mid65\n",
      "    18. flux_percentile_ratio_mid80\n",
      "    19. small_kurtosis\n",
      "    20. pair_slope_trend_last_30\n",
      "    21. poly1_t1\n",
      "    22. poly2_t2\n",
      "    23. poly2_t1\n",
      "    24. poly3_t3\n",
      "    25. poly3_t2\n",
      "    26. poly3_t1\n",
      "    27. poly4_t4\n",
      "    28. poly4_t3\n",
      "    29. poly4_t2\n",
      "    30. poly4_t1\n",
      "    31. magnitudeRatio\n",
      "    32. lombScargle\n",
      "    33. rcb\n"
     ]
    }
   ],
   "source": [
    "feats = np.array(allDisanto.columns[:-2])\n",
    "print(\"Total number of features: {}\".format(len(feats)))\n",
    "print()\n",
    "print(\"The features are:\")\n",
    "for i,f in enumerate(feats):\n",
    "    print(\"    \"+str(i+1)+\". \" + f)\n"
   ]
  },
  {
   "cell_type": "code",
   "execution_count": 8,
   "metadata": {},
   "outputs": [],
   "source": [
    "allDisanto['binaryClass'] = list(map(lambda x: 0 if x=='non-transient' else 1, allDisanto.Class))"
   ]
  },
  {
   "cell_type": "code",
   "execution_count": 9,
   "metadata": {},
   "outputs": [],
   "source": [
    "# disantoFeatures = ['amplitude','beyond1st','flux_percentile_ratio_mid20','flux_percentile_ratio_mid35','flux_percentile_ratio_mid50',\n",
    "#                    'flux_percentile_ratio_mid65','flux_percentile_ratio_mid80','poly1_t1','median_absolute_deviation',\n",
    "#                    'median_buffer_range_percentage','max_slope','percent_amplitude',\n",
    "#                    'percent_difference_flux_percentile','pair_slope_trend_last_30','small_kurtosis','skew','std','magnitudeRatio','lombScargle','rcb']\n",
    "disantoFeatures = feats\n",
    "for f in disantoFeatures:\n",
    "    assert f in allDisanto.columns, 'pailas, {} no esta en las cols'.format(f) "
   ]
  },
  {
   "cell_type": "code",
   "execution_count": 10,
   "metadata": {},
   "outputs": [
    {
     "name": "stdout",
     "output_type": "stream",
     "text": [
      "['skew' 'std' 'kurtosis' 'beyond1st' 'stetson_j' 'stetson_k' 'max_slope'\n",
      " 'amplitude' 'median_absolute_deviation' 'median_buffer_range_percentage'\n",
      " 'pair_slope_trend' 'percent_amplitude'\n",
      " 'percent_difference_flux_percentile' 'flux_percentile_ratio_mid20'\n",
      " 'flux_percentile_ratio_mid35' 'flux_percentile_ratio_mid50'\n",
      " 'flux_percentile_ratio_mid65' 'flux_percentile_ratio_mid80'\n",
      " 'small_kurtosis' 'pair_slope_trend_last_30' 'poly1_t1' 'poly2_t2'\n",
      " 'poly2_t1' 'poly3_t3' 'poly3_t2' 'poly3_t1' 'poly4_t4' 'poly4_t3'\n",
      " 'poly4_t2' 'poly4_t1' 'magnitudeRatio' 'lombScargle' 'rcb']\n"
     ]
    }
   ],
   "source": [
    "print(disantoFeatures)"
   ]
  },
  {
   "cell_type": "code",
   "execution_count": 11,
   "metadata": {},
   "outputs": [
    {
     "data": {
      "text/plain": [
       "{'kurtosis',\n",
       " 'pair_slope_trend',\n",
       " 'poly2_t1',\n",
       " 'poly2_t2',\n",
       " 'poly3_t1',\n",
       " 'poly3_t2',\n",
       " 'poly3_t3',\n",
       " 'poly4_t1',\n",
       " 'poly4_t2',\n",
       " 'poly4_t3',\n",
       " 'poly4_t4',\n",
       " 'stetson_j',\n",
       " 'stetson_k'}"
      ]
     },
     "execution_count": 11,
     "metadata": {},
     "output_type": "execute_result"
    }
   ],
   "source": [
    "set(disantoFeatures) - set(['amplitude','beyond1st','flux_percentile_ratio_mid20','flux_percentile_ratio_mid35','flux_percentile_ratio_mid50',\n",
    "                   'flux_percentile_ratio_mid65','flux_percentile_ratio_mid80','poly1_t1','median_absolute_deviation',\n",
    "                   'median_buffer_range_percentage','max_slope','percent_amplitude',\n",
    "                   'percent_difference_flux_percentile','pair_slope_trend_last_30','small_kurtosis','skew','std','magnitudeRatio','lombScargle','rcb'])"
   ]
  },
  {
   "cell_type": "code",
   "execution_count": 12,
   "metadata": {},
   "outputs": [],
   "source": [
    "origtrain = pd.read_pickle('./FixedData/Binary/train.pkl')\n",
    "origtest = pd.read_pickle('./FixedData/Binary/test.pkl')"
   ]
  },
  {
   "cell_type": "code",
   "execution_count": 13,
   "metadata": {},
   "outputs": [],
   "source": [
    "train = allDisanto[allDisanto.index.isin(origtrain.index)]\n",
    "test = allDisanto[allDisanto.index.isin(origtest.index)]"
   ]
  },
  {
   "cell_type": "code",
   "execution_count": 14,
   "metadata": {},
   "outputs": [
    {
     "data": {
      "text/plain": [
       "(22790, 36)"
      ]
     },
     "execution_count": 14,
     "metadata": {},
     "output_type": "execute_result"
    }
   ],
   "source": [
    "train.shape"
   ]
  },
  {
   "cell_type": "code",
   "execution_count": 15,
   "metadata": {},
   "outputs": [],
   "source": [
    "assert(train.shape[0] == origtrain.shape[0])\n",
    "assert(test.shape[0] == origtest.shape[0])"
   ]
  },
  {
   "cell_type": "markdown",
   "metadata": {},
   "source": [
    "# Binary Classification \n",
    "Transients and non-transients "
   ]
  },
  {
   "cell_type": "code",
   "execution_count": 16,
   "metadata": {},
   "outputs": [],
   "source": [
    "#hypermarameters that gridsearch will optimize\n",
    "def rf():\n",
    "    params = {\n",
    "        'n_estimators': [200, 700],\n",
    "        'max_features': ['auto', 'sqrt', 'log2']\n",
    "    }\n",
    "    return RandomForestClassifier(random_state=0, class_weight='balanced'), params\n",
    "\n",
    "#metrics to be analized\n",
    "def scorers():\n",
    "    scoring = {'accuracy': make_scorer(accuracy_score),\n",
    "               'precision': make_scorer(precision_score, average='weighted'),\n",
    "               'recall': make_scorer(recall_score, average='weighted'),\n",
    "               'f1_score': make_scorer(f1_score, average='weighted')\n",
    "               }\n",
    "    return scoring"
   ]
  },
  {
   "cell_type": "code",
   "execution_count": 17,
   "metadata": {},
   "outputs": [
    {
     "data": {
      "text/plain": [
       "array([1, 0])"
      ]
     },
     "execution_count": 17,
     "metadata": {},
     "output_type": "execute_result"
    }
   ],
   "source": [
    "allDisanto.binaryClass.unique()\n"
   ]
  },
  {
   "cell_type": "code",
   "execution_count": 18,
   "metadata": {
    "scrolled": true
   },
   "outputs": [
    {
     "name": "stdout",
     "output_type": "stream",
     "text": [
      "Fitting 2 folds for each of 6 candidates, totalling 12 fits\n",
      "[Parallel(n_jobs=1)]: Using backend SequentialBackend with 1 concurrent workers.\n",
      "[CV] max_features=auto, n_estimators=200 .............................\n",
      "[CV]  max_features=auto, n_estimators=200, accuracy=(train=1.000, test=0.926), f1_score=(train=1.000, test=0.926), precision=(train=1.000, test=0.926), recall=(train=1.000, test=0.926), total=   8.4s\n",
      "[Parallel(n_jobs=1)]: Done   1 out of   1 | elapsed:    9.3s remaining:    0.0s\n",
      "[CV] max_features=auto, n_estimators=200 .............................\n",
      "[CV]  max_features=auto, n_estimators=200, accuracy=(train=1.000, test=0.927), f1_score=(train=1.000, test=0.927), precision=(train=1.000, test=0.927), recall=(train=1.000, test=0.927), total=   7.9s\n",
      "[Parallel(n_jobs=1)]: Done   2 out of   2 | elapsed:   18.1s remaining:    0.0s\n",
      "[CV] max_features=auto, n_estimators=700 .............................\n",
      "[CV]  max_features=auto, n_estimators=700, accuracy=(train=1.000, test=0.927), f1_score=(train=1.000, test=0.927), precision=(train=1.000, test=0.927), recall=(train=1.000, test=0.927), total=  32.9s\n",
      "[Parallel(n_jobs=1)]: Done   3 out of   3 | elapsed:   54.2s remaining:    0.0s\n",
      "[CV] max_features=auto, n_estimators=700 .............................\n",
      "[CV]  max_features=auto, n_estimators=700, accuracy=(train=1.000, test=0.927), f1_score=(train=1.000, test=0.927), precision=(train=1.000, test=0.928), recall=(train=1.000, test=0.927), total=  40.1s\n",
      "[Parallel(n_jobs=1)]: Done   4 out of   4 | elapsed:  1.6min remaining:    0.0s\n",
      "[CV] max_features=sqrt, n_estimators=200 .............................\n",
      "[CV]  max_features=sqrt, n_estimators=200, accuracy=(train=1.000, test=0.926), f1_score=(train=1.000, test=0.926), precision=(train=1.000, test=0.926), recall=(train=1.000, test=0.926), total=   9.3s\n",
      "[Parallel(n_jobs=1)]: Done   5 out of   5 | elapsed:  1.8min remaining:    0.0s\n",
      "[CV] max_features=sqrt, n_estimators=200 .............................\n",
      "[CV]  max_features=sqrt, n_estimators=200, accuracy=(train=1.000, test=0.927), f1_score=(train=1.000, test=0.927), precision=(train=1.000, test=0.927), recall=(train=1.000, test=0.927), total=   7.8s\n",
      "[Parallel(n_jobs=1)]: Done   6 out of   6 | elapsed:  2.0min remaining:    0.0s\n",
      "[CV] max_features=sqrt, n_estimators=700 .............................\n",
      "[CV]  max_features=sqrt, n_estimators=700, accuracy=(train=1.000, test=0.927), f1_score=(train=1.000, test=0.927), precision=(train=1.000, test=0.927), recall=(train=1.000, test=0.927), total=  29.3s\n",
      "[Parallel(n_jobs=1)]: Done   7 out of   7 | elapsed:  2.5min remaining:    0.0s\n",
      "[CV] max_features=sqrt, n_estimators=700 .............................\n",
      "[CV]  max_features=sqrt, n_estimators=700, accuracy=(train=1.000, test=0.927), f1_score=(train=1.000, test=0.927), precision=(train=1.000, test=0.928), recall=(train=1.000, test=0.927), total=  27.8s\n",
      "[Parallel(n_jobs=1)]: Done   8 out of   8 | elapsed:  3.0min remaining:    0.0s\n",
      "[CV] max_features=log2, n_estimators=200 .............................\n",
      "[CV]  max_features=log2, n_estimators=200, accuracy=(train=1.000, test=0.926), f1_score=(train=1.000, test=0.926), precision=(train=1.000, test=0.926), recall=(train=1.000, test=0.926), total=   8.1s\n",
      "[Parallel(n_jobs=1)]: Done   9 out of   9 | elapsed:  3.2min remaining:    0.0s\n",
      "[CV] max_features=log2, n_estimators=200 .............................\n",
      "[CV]  max_features=log2, n_estimators=200, accuracy=(train=1.000, test=0.927), f1_score=(train=1.000, test=0.927), precision=(train=1.000, test=0.927), recall=(train=1.000, test=0.927), total=   8.0s\n",
      "[Parallel(n_jobs=1)]: Done  10 out of  10 | elapsed:  3.3min remaining:    0.0s\n",
      "[CV] max_features=log2, n_estimators=700 .............................\n",
      "[CV]  max_features=log2, n_estimators=700, accuracy=(train=1.000, test=0.927), f1_score=(train=1.000, test=0.927), precision=(train=1.000, test=0.927), recall=(train=1.000, test=0.927), total=  28.1s\n",
      "[Parallel(n_jobs=1)]: Done  11 out of  11 | elapsed:  3.8min remaining:    0.0s\n",
      "[CV] max_features=log2, n_estimators=700 .............................\n",
      "[CV]  max_features=log2, n_estimators=700, accuracy=(train=1.000, test=0.927), f1_score=(train=1.000, test=0.927), precision=(train=1.000, test=0.928), recall=(train=1.000, test=0.927), total=  34.6s\n",
      "[Parallel(n_jobs=1)]: Done  12 out of  12 | elapsed:  4.5min remaining:    0.0s\n",
      "[Parallel(n_jobs=1)]: Done  12 out of  12 | elapsed:  4.5min finished\n"
     ]
    },
    {
     "ename": "NameError",
     "evalue": "name 'recall_scores' is not defined",
     "output_type": "error",
     "traceback": [
      "\u001b[0;31m---------------------------------------------------------------------------\u001b[0m",
      "\u001b[0;31mNameError\u001b[0m                                 Traceback (most recent call last)",
      "\u001b[0;32m<ipython-input-18-a85a88399e97>\u001b[0m in \u001b[0;36m<module>\u001b[0;34m\u001b[0m\n\u001b[1;32m     11\u001b[0m scores = precision_recall_fscore_support(\n\u001b[1;32m     12\u001b[0m         test.binaryClass, clf.predict(test[disantoFeatures]), average='weighted')\n\u001b[0;32m---> 13\u001b[0;31m \u001b[0mrecall_scores\u001b[0m\u001b[0;34m.\u001b[0m\u001b[0mappend\u001b[0m\u001b[0;34m(\u001b[0m\u001b[0mscores\u001b[0m\u001b[0;34m)\u001b[0m\u001b[0;34m\u001b[0m\u001b[0;34m\u001b[0m\u001b[0m\n\u001b[0m",
      "\u001b[0;31mNameError\u001b[0m: name 'recall_scores' is not defined"
     ]
    }
   ],
   "source": [
    "#learning \n",
    "model,params = rf()\n",
    "grid_search = GridSearchCV(model, params, cv=StratifiedKFold(2), scoring=scorers(),\n",
    "                           refit='f1_score', return_train_score=True,verbose=100)\n",
    "grid_search.fit(train[disantoFeatures], train.binaryClass)\n",
    "\n",
    "# Copy classifier \n",
    "clf = grid_search\n",
    "\n",
    "#see performance on test set\n",
    "scores = precision_recall_fscore_support(\n",
    "        test.binaryClass, clf.predict(test[disantoFeatures]), average='weighted')\n",
    "recall_scores.append(scores)"
   ]
  },
  {
   "cell_type": "code",
   "execution_count": 19,
   "metadata": {},
   "outputs": [
    {
     "ename": "SyntaxError",
     "evalue": "invalid syntax (<ipython-input-19-48020d7b5e6b>, line 4)",
     "output_type": "error",
     "traceback": [
      "\u001b[0;36m  File \u001b[0;32m\"<ipython-input-19-48020d7b5e6b>\"\u001b[0;36m, line \u001b[0;32m4\u001b[0m\n\u001b[0;31m    coresnp[:,0])))\u001b[0m\n\u001b[0m          ^\u001b[0m\n\u001b[0;31mSyntaxError\u001b[0m\u001b[0;31m:\u001b[0m invalid syntax\n"
     ]
    }
   ],
   "source": [
    "recall_scoresnp = np.array(recall_scores)\n",
    "\n",
    "print(\"Precision: {:.4f}\".format(np.mean(recall_s\n",
    "                                         coresnp[:,0])))\n",
    "print(\"Recall:    {:.4f}\".format(np.mean(recall_scoresnp[:,1])))\n",
    "print(\"F-score:   {:.4f}\".format(np.mean(recall_scoresnp[:,2])))"
   ]
  },
  {
   "cell_type": "code",
   "execution_count": 20,
   "metadata": {},
   "outputs": [],
   "source": [
    "#calculate feature importance in descending order\n",
    "importances = clf.best_estimator_.feature_importances_*100\n",
    "featsCopy = disantoFeatures.copy()\n",
    "\n",
    "Y = list(importances)\n",
    "X = list(featsCopy)\n",
    "\n",
    "yx = list(zip(Y, X))\n",
    "yx.sort()\n",
    "\n",
    "yx = yx[::-1]\n",
    "\n",
    "x_sorted = [x for y, x in yx]\n",
    "y_sorted = [y for y, x in yx]\n"
   ]
  },
  {
   "cell_type": "code",
   "execution_count": 21,
   "metadata": {},
   "outputs": [
    {
     "data": {
      "text/plain": [
       "array([ 2.91667624,  8.83042986,  1.47219294,  1.3908843 , 16.26081138,\n",
       "        2.39656684,  1.55190933,  6.60579918,  7.86291143,  2.55838269,\n",
       "        1.61304611,  1.89263571,  2.34976172,  0.84699944,  0.92519264,\n",
       "        0.99759801,  0.9759221 ,  0.96959826,  2.00048796,  0.91542242,\n",
       "        3.38193714,  1.21723656,  3.66954715,  0.38110275,  2.16187176,\n",
       "        2.67347507,  0.27328559,  0.49337507,  1.9011883 ,  2.55559747,\n",
       "        5.13257356,  1.74424191,  9.0813391 ])"
      ]
     },
     "execution_count": 21,
     "metadata": {},
     "output_type": "execute_result"
    }
   ],
   "source": [
    "importances"
   ]
  },
  {
   "cell_type": "code",
   "execution_count": 22,
   "metadata": {},
   "outputs": [
    {
     "name": "stdout",
     "output_type": "stream",
     "text": [
      "33\n",
      "33\n",
      "['skew' 'std' 'kurtosis' 'beyond1st' 'stetson_j' 'stetson_k' 'max_slope'\n",
      " 'amplitude' 'median_absolute_deviation' 'median_buffer_range_percentage'\n",
      " 'pair_slope_trend' 'percent_amplitude'\n",
      " 'percent_difference_flux_percentile' 'flux_percentile_ratio_mid20'\n",
      " 'flux_percentile_ratio_mid35' 'flux_percentile_ratio_mid50'\n",
      " 'flux_percentile_ratio_mid65' 'flux_percentile_ratio_mid80'\n",
      " 'small_kurtosis' 'pair_slope_trend_last_30' 'poly1_t1' 'poly2_t2'\n",
      " 'poly2_t1' 'poly3_t3' 'poly3_t2' 'poly3_t1' 'poly4_t4' 'poly4_t3'\n",
      " 'poly4_t2' 'poly4_t1' 'magnitudeRatio' 'lombScargle' 'rcb']\n"
     ]
    }
   ],
   "source": [
    "print(len(disantoFeatures))\n",
    "print(len(x_sorted))\n",
    "print(disantoFeatures)"
   ]
  },
  {
   "cell_type": "code",
   "execution_count": 23,
   "metadata": {},
   "outputs": [],
   "source": [
    " def shorten(x):\n",
    "    return {\n",
    "      'stetson_j':'stetson_j',\n",
    "      'std':'std',\n",
    "      'median_absolute_deviation':'mad',\n",
    "      'amplitude':'amp',\n",
    "      'poly1_t1':'poly1_t1',\n",
    "      'poly2_t1':'poly2_t1',\n",
    "      'skew':'skew',\n",
    "      'poly3_t1':'poly3_t1',\n",
    "      'small_kurtosis':'sk',\n",
    "      'stetson_k':'stetson_k',\n",
    "      'median_buffer_range_percentage':'mbrp',\n",
    "      'percent_amplitude': 'p_amp',\n",
    "      'percent_difference_flux_percentile':'pdfp',\n",
    "      'poly4_t1':'poly4_t1',\n",
    "      'poly3_t2':'poly3_t2',\n",
    "      'poly4_t2':'poly4_t2',\n",
    "      'max_slope':'max_slope',\n",
    "      'kurtosis':'kurtosis',\n",
    "      'pair_slope_trend':'pst',\n",
    "      'poly2_t2':'poly2_t2',\n",
    "      'beyond1st':'beyond1st',\n",
    "      'flux_percentile_ratio_mid35':'fpr35',\n",
    "      'flux_percentile_ratio_mid50':'fpr50',\n",
    "      'flux_percentile_ratio_mid65':'fpr65',\n",
    "      'flux_percentile_ratio_mid20':'fpr20',\n",
    "      'flux_percentile_ratio_mid80':'fpr80',\n",
    "      'pair_slope_trend_last_30':'pst_last30',\n",
    "      'poly3_t3':'poly3_t3',\n",
    "      'poly4_t3':'poly4_t3',\n",
    "      'poly4_t4':'poly4_t4',\n",
    "      'magnitudeRatio':'mr',\n",
    "      'lombScargle':'ls',\n",
    "      'rcb':'rcb'\n",
    "      }[x]"
   ]
  },
  {
   "cell_type": "code",
   "execution_count": 24,
   "metadata": {},
   "outputs": [],
   "source": [
    "#shorten name length\n",
    "for i,x in enumerate(x_sorted):\n",
    "    x_sorted[i]=shorten(x)"
   ]
  },
  {
   "cell_type": "code",
   "execution_count": 25,
   "metadata": {},
   "outputs": [
    {
     "name": "stdout",
     "output_type": "stream",
     "text": [
      "33\n"
     ]
    }
   ],
   "source": [
    "print(len(x_sorted))"
   ]
  },
  {
   "cell_type": "code",
   "execution_count": 26,
   "metadata": {},
   "outputs": [
    {
     "data": {
      "text/plain": [
       "['stetson_j',\n",
       " 'rcb',\n",
       " 'std',\n",
       " 'mad',\n",
       " 'amp',\n",
       " 'mr',\n",
       " 'poly2_t1',\n",
       " 'poly1_t1',\n",
       " 'skew',\n",
       " 'poly3_t1',\n",
       " 'mbrp',\n",
       " 'poly4_t1',\n",
       " 'stetson_k',\n",
       " 'pdfp',\n",
       " 'poly3_t2',\n",
       " 'sk',\n",
       " 'poly4_t2',\n",
       " 'p_amp',\n",
       " 'ls',\n",
       " 'pst',\n",
       " 'max_slope',\n",
       " 'kurtosis',\n",
       " 'beyond1st',\n",
       " 'poly2_t2',\n",
       " 'fpr50',\n",
       " 'fpr65',\n",
       " 'fpr80',\n",
       " 'fpr35',\n",
       " 'pst_last30',\n",
       " 'fpr20',\n",
       " 'poly4_t3',\n",
       " 'poly3_t3',\n",
       " 'poly4_t4']"
      ]
     },
     "execution_count": 26,
     "metadata": {},
     "output_type": "execute_result"
    }
   ],
   "source": [
    "x_sorted"
   ]
  },
  {
   "cell_type": "code",
   "execution_count": 27,
   "metadata": {},
   "outputs": [
    {
     "name": "stderr",
     "output_type": "stream",
     "text": [
      "findfont: Font family ['Times New Roman'] not found. Falling back to DejaVu Sans.\n",
      "findfont: Font family ['Times New Roman'] not found. Falling back to DejaVu Sans.\n"
     ]
    },
    {
     "name": "stdout",
     "output_type": "stream",
     "text": [
      "33\n",
      "33\n"
     ]
    },
    {
     "name": "stderr",
     "output_type": "stream",
     "text": [
      "findfont: Font family ['Times New Roman'] not found. Falling back to DejaVu Sans.\n"
     ]
    },
    {
     "data": {
      "image/png": "[encoded data removed]",
      "text/plain": [
       "<Figure size 1008x576 with 1 Axes>"
      ]
     },
     "metadata": {
      "needs_background": "light"
     },
     "output_type": "display_data"
    }
   ],
   "source": [
    "\n",
    "print(len(x_sorted))\n",
    "print(len(y_sorted))\n",
    "plt.rcParams[\"font.family\"] = \"Times New Roman\"\n",
    "fig = plt.figure(figsize=(14,8))\n",
    "plt.gcf().subplots_adjust(bottom=0.15)\n",
    "plt.bar(np.arange(len(y_sorted)), y_sorted,edgecolor='black',color='firebrick')\n",
    "plt.xticks(np.arange(len(y_sorted)), x_sorted,rotation='vertical')\n",
    "plt.xlabel('Features',fontsize=20)\n",
    "plt.ylabel('Feature importance(%)',fontsize=20)\n",
    "plt.title(\"Binary Classification\",fontsize=25)\n",
    "plt.savefig(\"../results/binFeatImportanceOurs&Disanto.pdf\")"
   ]
  },
  {
   "cell_type": "code",
   "execution_count": 28,
   "metadata": {},
   "outputs": [
    {
     "data": {
      "text/plain": [
       "array([[3616,  184],\n",
       "       [ 182,  883]])"
      ]
     },
     "execution_count": 28,
     "metadata": {},
     "output_type": "execute_result"
    }
   ],
   "source": [
    "cm = confusion_matrix(test.binaryClass, clf.predict(test[disantoFeatures])).transpose()\n",
    "cm"
   ]
  },
  {
   "cell_type": "code",
   "execution_count": 29,
   "metadata": {},
   "outputs": [],
   "source": [
    "def fMeasure(precision,recall):\n",
    "    return 2*precision*recall/(precision+recall)"
   ]
  },
  {
   "cell_type": "code",
   "execution_count": 30,
   "metadata": {},
   "outputs": [],
   "source": [
    "precisionNon = cm[0][0]/(cm[0][0]+cm[0][1])\n",
    "recallNon = cm[0][0]/(cm[0][0]+cm[1][0])\n",
    "precisionT = cm[1][1]/(cm[1][1]+cm[1][0])\n",
    "recallT = cm[1][1]/(cm[1][1]+cm[0][1])"
   ]
  },
  {
   "cell_type": "code",
   "execution_count": 31,
   "metadata": {},
   "outputs": [
    {
     "name": "stdout",
     "output_type": "stream",
     "text": [
      "Precision of transients:     0.8291\n",
      "Recall of transients:        0.8276\n",
      "F-measure of transients:     0.8283\n",
      "Precision of non-transients: 0.9516\n",
      "Recall of non-transients:    0.9521\n",
      "F-measure of non-transients: 0.9518\n"
     ]
    }
   ],
   "source": [
    "print(\"Precision of transients:     {:.4f}\".format(precisionT))\n",
    "print(\"Recall of transients:        {:.4f}\".format(recallT))\n",
    "print(\"F-measure of transients:     {:.4f}\".format(fMeasure(precisionT,recallT)))\n",
    "print(\"Precision of non-transients: {:.4f}\".format(precisionNon))\n",
    "print(\"Recall of non-transients:    {:.4f}\".format(recallNon))\n",
    "print(\"F-measure of non-transients: {:.4f}\".format(fMeasure(precisionNon,recallNon)))\n"
   ]
  },
  {
   "cell_type": "markdown",
   "metadata": {},
   "source": [
    "# 8-Class clasification"
   ]
  },
  {
   "cell_type": "code",
   "execution_count": 37,
   "metadata": {},
   "outputs": [],
   "source": [
    "np.random.seed(0)"
   ]
  },
  {
   "cell_type": "code",
   "execution_count": 38,
   "metadata": {},
   "outputs": [],
   "source": [
    "# main 6 transient classes\n",
    "labels = ['SN', 'CV', 'AGN', 'HPM', 'Blazar', 'Flare']\n"
   ]
  },
  {
   "cell_type": "code",
   "execution_count": 39,
   "metadata": {},
   "outputs": [],
   "source": [
    "# func to map labels to integer values\n",
    "def manualFact(lab):\n",
    "    labels = ['SN', 'CV', 'AGN', 'HPM', 'Blazar', 'Flare','Other','non-transient']\n",
    "    return labels.index(lab)"
   ]
  },
  {
   "cell_type": "code",
   "execution_count": 40,
   "metadata": {},
   "outputs": [],
   "source": [
    "origTrain = pd.read_pickle('./FixedData/8Class/train.pkl')\n",
    "origTest = pd.read_pickle('./FixedData/8Class/test.pkl')"
   ]
  },
  {
   "cell_type": "code",
   "execution_count": 41,
   "metadata": {},
   "outputs": [],
   "source": [
    "train = origTrain[['target']].merge(allDisanto, left_index=True, right_index=True)\n",
    "test = origTest[['target']].merge(allDisanto, left_index=True, right_index=True)\n"
   ]
  },
  {
   "cell_type": "code",
   "execution_count": null,
   "metadata": {},
   "outputs": [],
   "source": []
  },
  {
   "cell_type": "code",
   "execution_count": 42,
   "metadata": {},
   "outputs": [],
   "source": [
    "assert(train.shape[0] == origTrain.shape[0])\n",
    "assert(test.shape[0] == origTest.shape[0])"
   ]
  },
  {
   "cell_type": "code",
   "execution_count": 43,
   "metadata": {
    "scrolled": true
   },
   "outputs": [
    {
     "name": "stdout",
     "output_type": "stream",
     "text": [
      "Fitting 2 folds for each of 6 candidates, totalling 12 fits\n",
      "[Parallel(n_jobs=1)]: Using backend SequentialBackend with 1 concurrent workers.\n",
      "[CV] max_features=auto, n_estimators=200 .............................\n",
      "[CV]  max_features=auto, n_estimators=200, accuracy=(train=1.000, test=0.776), f1_score=(train=1.000, test=0.775), precision=(train=1.000, test=0.775), recall=(train=1.000, test=0.776), total=   5.8s\n",
      "[Parallel(n_jobs=1)]: Done   1 out of   1 | elapsed:    6.6s remaining:    0.0s\n",
      "[CV] max_features=auto, n_estimators=200 .............................\n",
      "[CV]  max_features=auto, n_estimators=200, accuracy=(train=1.000, test=0.786), f1_score=(train=1.000, test=0.784), precision=(train=1.000, test=0.784), recall=(train=1.000, test=0.786), total=   5.5s\n",
      "[Parallel(n_jobs=1)]: Done   2 out of   2 | elapsed:   13.0s remaining:    0.0s\n",
      "[CV] max_features=auto, n_estimators=700 .............................\n",
      "[CV]  max_features=auto, n_estimators=700, accuracy=(train=1.000, test=0.781), f1_score=(train=1.000, test=0.780), precision=(train=1.000, test=0.779), recall=(train=1.000, test=0.781), total=  19.3s\n",
      "[Parallel(n_jobs=1)]: Done   3 out of   3 | elapsed:   35.3s remaining:    0.0s\n",
      "[CV] max_features=auto, n_estimators=700 .............................\n",
      "[CV]  max_features=auto, n_estimators=700, accuracy=(train=1.000, test=0.784), f1_score=(train=1.000, test=0.782), precision=(train=1.000, test=0.782), recall=(train=1.000, test=0.784), total=  23.3s\n",
      "[Parallel(n_jobs=1)]: Done   4 out of   4 | elapsed:  1.0min remaining:    0.0s\n",
      "[CV] max_features=sqrt, n_estimators=200 .............................\n",
      "[CV]  max_features=sqrt, n_estimators=200, accuracy=(train=1.000, test=0.776), f1_score=(train=1.000, test=0.775), precision=(train=1.000, test=0.775), recall=(train=1.000, test=0.776), total=   5.5s\n",
      "[Parallel(n_jobs=1)]: Done   5 out of   5 | elapsed:  1.1min remaining:    0.0s\n",
      "[CV] max_features=sqrt, n_estimators=200 .............................\n",
      "[CV]  max_features=sqrt, n_estimators=200, accuracy=(train=1.000, test=0.786), f1_score=(train=1.000, test=0.784), precision=(train=1.000, test=0.784), recall=(train=1.000, test=0.786), total=   5.9s\n",
      "[Parallel(n_jobs=1)]: Done   6 out of   6 | elapsed:  1.2min remaining:    0.0s\n",
      "[CV] max_features=sqrt, n_estimators=700 .............................\n",
      "[CV]  max_features=sqrt, n_estimators=700, accuracy=(train=1.000, test=0.781), f1_score=(train=1.000, test=0.780), precision=(train=1.000, test=0.779), recall=(train=1.000, test=0.781), total=  19.2s\n",
      "[Parallel(n_jobs=1)]: Done   7 out of   7 | elapsed:  1.6min remaining:    0.0s\n",
      "[CV] max_features=sqrt, n_estimators=700 .............................\n",
      "[CV]  max_features=sqrt, n_estimators=700, accuracy=(train=1.000, test=0.784), f1_score=(train=1.000, test=0.782), precision=(train=1.000, test=0.782), recall=(train=1.000, test=0.784), total=  19.0s\n",
      "[Parallel(n_jobs=1)]: Done   8 out of   8 | elapsed:  2.0min remaining:    0.0s\n",
      "[CV] max_features=log2, n_estimators=200 .............................\n",
      "[CV]  max_features=log2, n_estimators=200, accuracy=(train=1.000, test=0.776), f1_score=(train=1.000, test=0.775), precision=(train=1.000, test=0.775), recall=(train=1.000, test=0.776), total=   5.5s\n",
      "[Parallel(n_jobs=1)]: Done   9 out of   9 | elapsed:  2.1min remaining:    0.0s\n",
      "[CV] max_features=log2, n_estimators=200 .............................\n",
      "[CV]  max_features=log2, n_estimators=200, accuracy=(train=1.000, test=0.786), f1_score=(train=1.000, test=0.784), precision=(train=1.000, test=0.784), recall=(train=1.000, test=0.786), total=   5.4s\n",
      "[Parallel(n_jobs=1)]: Done  10 out of  10 | elapsed:  2.2min remaining:    0.0s\n",
      "[CV] max_features=log2, n_estimators=700 .............................\n",
      "[CV]  max_features=log2, n_estimators=700, accuracy=(train=1.000, test=0.781), f1_score=(train=1.000, test=0.780), precision=(train=1.000, test=0.779), recall=(train=1.000, test=0.781), total=  19.2s\n",
      "[Parallel(n_jobs=1)]: Done  11 out of  11 | elapsed:  2.6min remaining:    0.0s\n",
      "[CV] max_features=log2, n_estimators=700 .............................\n",
      "[CV]  max_features=log2, n_estimators=700, accuracy=(train=1.000, test=0.784), f1_score=(train=1.000, test=0.782), precision=(train=1.000, test=0.782), recall=(train=1.000, test=0.784), total=  19.0s\n",
      "[Parallel(n_jobs=1)]: Done  12 out of  12 | elapsed:  2.9min remaining:    0.0s\n",
      "[Parallel(n_jobs=1)]: Done  12 out of  12 | elapsed:  2.9min finished\n"
     ]
    }
   ],
   "source": [
    "recall_scores = []\n",
    "model,params = rf()\n",
    "grid_search = GridSearchCV(model, params, cv=StratifiedKFold(2), scoring=scorers(),\n",
    "                           refit='f1_score', return_train_score=True,verbose=100)\n",
    "grid_search.fit(train[disantoFeatures], train.target)\n",
    "# Copy classifier\n",
    "clf = grid_search\n",
    "\n",
    "scores = precision_recall_fscore_support(\n",
    "        test.target, clf.predict(test[disantoFeatures]), average='weighted')\n",
    "\n",
    "\n",
    "recall_scores.append(scores)"
   ]
  },
  {
   "cell_type": "code",
   "execution_count": 44,
   "metadata": {},
   "outputs": [
    {
     "name": "stdout",
     "output_type": "stream",
     "text": [
      "Precision: 0.8630\n",
      "Recall:    0.7742\n",
      "F-score:   0.8085\n"
     ]
    }
   ],
   "source": [
    "recall_scoresnp = np.array(recall_scores)\n",
    "\n",
    "print(\"Precision: {:.4f}\".format(np.mean(recall_scoresnp[:,0])))\n",
    "print(\"Recall:    {:.4f}\".format(np.mean(recall_scoresnp[:,1])))\n",
    "print(\"F-score:   {:.4f}\".format(np.mean(recall_scoresnp[:,2])))"
   ]
  },
  {
   "cell_type": "code",
   "execution_count": 45,
   "metadata": {},
   "outputs": [
    {
     "name": "stdout",
     "output_type": "stream",
     "text": [
      "[[ 164   20    0    0    8    7   34   91]\n",
      " [  19  166    0    1    7    1   15   31]\n",
      " [   3    2   94    0    9    1   31   36]\n",
      " [   5    0    0   67    0    1    3  117]\n",
      " [   8    5    1    0   27    0   10    4]\n",
      " [  21    5    1    0    2   23    6  282]\n",
      " [  57   13    9    1    4    5  115  129]\n",
      " [  46    4    1    7    2   13   20 3108]]\n"
     ]
    }
   ],
   "source": [
    "confMatr = confusion_matrix(test.target, clf.predict(test[disantoFeatures])).transpose()\n",
    "print(confMatr)\n",
    "# 'SN', 'CV', 'AGN', 'HPM', 'Blazar', 'Flare','Other','non-transient'"
   ]
  },
  {
   "cell_type": "code",
   "execution_count": 46,
   "metadata": {},
   "outputs": [
    {
     "name": "stdout",
     "output_type": "stream",
     "text": [
      "[[0 0 0 0 0 0 0 0]\n",
      " [0 0 0 0 0 0 0 0]\n",
      " [0 0 0 0 0 0 0 0]\n",
      " [0 0 0 0 0 0 0 0]\n",
      " [0 0 0 0 0 0 0 0]\n",
      " [0 0 0 0 0 0 0 0]\n",
      " [0 0 0 0 0 0 0 0]\n",
      " [0 0 0 0 0 0 0 0]]\n"
     ]
    }
   ],
   "source": [
    "normedMatrix = confMatr.copy()\n",
    "# print(normedMatrix)\n",
    "for i in range(len(normedMatrix)):\n",
    "#     print(normedMatrix[:,i]/normedMatrix[:,i].sum())\n",
    "    normedMatrix[:,i] = normedMatrix[:,i]/normedMatrix[:,i].sum()\n",
    "#     print(normedMatrix[:,i])\n",
    "# np.set_printoptions(suppress=True)\n",
    "print(normedMatrix)\n",
    "# np.set_printoptions(suppress=False)"
   ]
  },
  {
   "cell_type": "code",
   "execution_count": 47,
   "metadata": {},
   "outputs": [],
   "source": [
    "newMatr = []\n",
    "for i in range(len(confMatr)):\n",
    "    prec = confMatr[i][i]/(sum(confMatr[i,:]))\n",
    "    rec = confMatr[i][i]/(sum(confMatr[:,i]))\n",
    "    newMatr.append([prec,rec,fMeasure(prec,rec),sum(confMatr[:,i])])"
   ]
  },
  {
   "cell_type": "code",
   "execution_count": 48,
   "metadata": {},
   "outputs": [
    {
     "name": "stdout",
     "output_type": "stream",
     "text": [
      "    Precision        Recall         F-score      Cover\n",
      "[[   0.50617284    0.50773994    0.50695518  323.        ]\n",
      " [   0.69166667    0.77209302    0.72967033  215.        ]\n",
      " [   0.53409091    0.88679245    0.66666667  106.        ]\n",
      " [   0.34715026    0.88157895    0.49814126   76.        ]\n",
      " [   0.49090909    0.45762712    0.47368421   59.        ]\n",
      " [   0.06764706    0.45098039    0.11764706   51.        ]\n",
      " [   0.34534535    0.49145299    0.40564374  234.        ]\n",
      " [   0.97094658    0.81832543    0.88812688 3798.        ]]\n"
     ]
    }
   ],
   "source": [
    "np.set_printoptions(suppress=True)\n",
    "print('    Precision        Recall         F-score      Cover')\n",
    "print(np.array(newMatr))\n",
    "np.set_printoptions(suppress=False)"
   ]
  },
  {
   "cell_type": "code",
   "execution_count": 49,
   "metadata": {},
   "outputs": [],
   "source": [
    "importances = clf.best_estimator_.feature_importances_*100\n",
    "featsCopy = disantoFeatures.copy()\n",
    "\n",
    "Y = list(importances)\n",
    "X = list(featsCopy)\n",
    "\n",
    "yx = list(zip(Y, X))\n",
    "\n",
    "yx.sort()\n",
    "# yx = yx[::-1]\n",
    "yx = yx[::-1]\n",
    "\n",
    "\n",
    "\n",
    "x_sorted = [x for y, x in yx]\n",
    "y_sorted = [y for y, x in yx]\n"
   ]
  },
  {
   "cell_type": "code",
   "execution_count": 50,
   "metadata": {},
   "outputs": [],
   "source": [
    "for i,x in enumerate(x_sorted):\n",
    "    x_sorted[i]=shorten(x)"
   ]
  },
  {
   "cell_type": "code",
   "execution_count": 51,
   "metadata": {},
   "outputs": [
    {
     "data": {
      "image/png": "[encoded data removed]",
      "text/plain": [
       "<Figure size 1008x576 with 1 Axes>"
      ]
     },
     "metadata": {
      "needs_background": "light"
     },
     "output_type": "display_data"
    }
   ],
   "source": [
    "# from matplotlib.font_manager import FontProperties\n",
    "# font = FontProperties()\n",
    "# font.set_family('sans-serif')\n",
    "# font.set_style('normal')\n",
    "\n",
    "plt.rcParams[\"font.family\"] = \"Times New Roman\"\n",
    "fig = plt.figure(figsize=(14,8))\n",
    "plt.gcf().subplots_adjust(bottom=0.15)\n",
    "plt.bar(np.arange(len(y_sorted)), y_sorted,edgecolor='black',color='#008000')\n",
    "plt.xticks(np.arange(len(y_sorted)), x_sorted,rotation='vertical')\n",
    "plt.xlabel('Features',fontsize=20)\n",
    "plt.ylabel('Feature importance(%)',fontsize=20)\n",
    "plt.title(\"8-Class Classification\",fontsize=25)\n",
    "plt.savefig(\"../results/8clasFeatImportanceOurs&Disanto.pdf\")"
   ]
  },
  {
   "cell_type": "code",
   "execution_count": null,
   "metadata": {},
   "outputs": [],
   "source": []
  }
 ],
 "metadata": {
  "kernelspec": {
   "display_name": "Python 3",
   "language": "python",
   "name": "python3"
  },
  "language_info": {
   "codemirror_mode": {
    "name": "ipython",
    "version": 3
   },
   "file_extension": ".py",
   "mimetype": "text/x-python",
   "name": "python",
   "nbconvert_exporter": "python",
   "pygments_lexer": "ipython3",
   "version": "3.7.3"
  }
 },
 "nbformat": 4,
 "nbformat_minor": 4
}
